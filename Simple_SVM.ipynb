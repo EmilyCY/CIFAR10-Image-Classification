{
  "nbformat": 4,
  "nbformat_minor": 0,
  "metadata": {
    "colab": {
      "name": "Simple SVM.ipynb",
      "provenance": [],
      "authorship_tag": "ABX9TyNMgcQVYQ3uhgNQ7X9TpN5d",
      "include_colab_link": true
    },
    "kernelspec": {
      "name": "python3",
      "display_name": "Python 3"
    },
    "language_info": {
      "name": "python"
    },
    "accelerator": "GPU",
    "widgets": {
      "application/vnd.jupyter.widget-state+json": {
        "69e2692fba57454fb77292d0d757e990": {
          "model_module": "@jupyter-widgets/controls",
          "model_name": "HBoxModel",
          "model_module_version": "1.5.0",
          "state": {
            "_dom_classes": [],
            "_model_module": "@jupyter-widgets/controls",
            "_model_module_version": "1.5.0",
            "_model_name": "HBoxModel",
            "_view_count": null,
            "_view_module": "@jupyter-widgets/controls",
            "_view_module_version": "1.5.0",
            "_view_name": "HBoxView",
            "box_style": "",
            "children": [
              "IPY_MODEL_209d0b50154846bcb1b8fdcb81e3aa58",
              "IPY_MODEL_500ae83de5ff4acd96b582b32a1c86c9",
              "IPY_MODEL_68ec5443b66a4f9583e695691c8c6bfc"
            ],
            "layout": "IPY_MODEL_dd3d9cd30bf242e8b2de4d861905129c"
          }
        },
        "209d0b50154846bcb1b8fdcb81e3aa58": {
          "model_module": "@jupyter-widgets/controls",
          "model_name": "HTMLModel",
          "model_module_version": "1.5.0",
          "state": {
            "_dom_classes": [],
            "_model_module": "@jupyter-widgets/controls",
            "_model_module_version": "1.5.0",
            "_model_name": "HTMLModel",
            "_view_count": null,
            "_view_module": "@jupyter-widgets/controls",
            "_view_module_version": "1.5.0",
            "_view_name": "HTMLView",
            "description": "",
            "description_tooltip": null,
            "layout": "IPY_MODEL_b454c12771894dbcb1850b9e629c5ccb",
            "placeholder": "​",
            "style": "IPY_MODEL_71a7412b27b14ce48c0397df98846132",
            "value": ""
          }
        },
        "500ae83de5ff4acd96b582b32a1c86c9": {
          "model_module": "@jupyter-widgets/controls",
          "model_name": "FloatProgressModel",
          "model_module_version": "1.5.0",
          "state": {
            "_dom_classes": [],
            "_model_module": "@jupyter-widgets/controls",
            "_model_module_version": "1.5.0",
            "_model_name": "FloatProgressModel",
            "_view_count": null,
            "_view_module": "@jupyter-widgets/controls",
            "_view_module_version": "1.5.0",
            "_view_name": "ProgressView",
            "bar_style": "success",
            "description": "",
            "description_tooltip": null,
            "layout": "IPY_MODEL_3a58edb9557141e0947017560e5b8849",
            "max": 170498071,
            "min": 0,
            "orientation": "horizontal",
            "style": "IPY_MODEL_2bf4afebcfd24b0689111e566c7599f9",
            "value": 170498071
          }
        },
        "68ec5443b66a4f9583e695691c8c6bfc": {
          "model_module": "@jupyter-widgets/controls",
          "model_name": "HTMLModel",
          "model_module_version": "1.5.0",
          "state": {
            "_dom_classes": [],
            "_model_module": "@jupyter-widgets/controls",
            "_model_module_version": "1.5.0",
            "_model_name": "HTMLModel",
            "_view_count": null,
            "_view_module": "@jupyter-widgets/controls",
            "_view_module_version": "1.5.0",
            "_view_name": "HTMLView",
            "description": "",
            "description_tooltip": null,
            "layout": "IPY_MODEL_f9418271b88e4d8bbd51178b739f2866",
            "placeholder": "​",
            "style": "IPY_MODEL_d45c0eebbb034fae8797948d51eafc14",
            "value": " 170499072/? [00:11&lt;00:00, 17496054.54it/s]"
          }
        },
        "dd3d9cd30bf242e8b2de4d861905129c": {
          "model_module": "@jupyter-widgets/base",
          "model_name": "LayoutModel",
          "model_module_version": "1.2.0",
          "state": {
            "_model_module": "@jupyter-widgets/base",
            "_model_module_version": "1.2.0",
            "_model_name": "LayoutModel",
            "_view_count": null,
            "_view_module": "@jupyter-widgets/base",
            "_view_module_version": "1.2.0",
            "_view_name": "LayoutView",
            "align_content": null,
            "align_items": null,
            "align_self": null,
            "border": null,
            "bottom": null,
            "display": null,
            "flex": null,
            "flex_flow": null,
            "grid_area": null,
            "grid_auto_columns": null,
            "grid_auto_flow": null,
            "grid_auto_rows": null,
            "grid_column": null,
            "grid_gap": null,
            "grid_row": null,
            "grid_template_areas": null,
            "grid_template_columns": null,
            "grid_template_rows": null,
            "height": null,
            "justify_content": null,
            "justify_items": null,
            "left": null,
            "margin": null,
            "max_height": null,
            "max_width": null,
            "min_height": null,
            "min_width": null,
            "object_fit": null,
            "object_position": null,
            "order": null,
            "overflow": null,
            "overflow_x": null,
            "overflow_y": null,
            "padding": null,
            "right": null,
            "top": null,
            "visibility": null,
            "width": null
          }
        },
        "b454c12771894dbcb1850b9e629c5ccb": {
          "model_module": "@jupyter-widgets/base",
          "model_name": "LayoutModel",
          "model_module_version": "1.2.0",
          "state": {
            "_model_module": "@jupyter-widgets/base",
            "_model_module_version": "1.2.0",
            "_model_name": "LayoutModel",
            "_view_count": null,
            "_view_module": "@jupyter-widgets/base",
            "_view_module_version": "1.2.0",
            "_view_name": "LayoutView",
            "align_content": null,
            "align_items": null,
            "align_self": null,
            "border": null,
            "bottom": null,
            "display": null,
            "flex": null,
            "flex_flow": null,
            "grid_area": null,
            "grid_auto_columns": null,
            "grid_auto_flow": null,
            "grid_auto_rows": null,
            "grid_column": null,
            "grid_gap": null,
            "grid_row": null,
            "grid_template_areas": null,
            "grid_template_columns": null,
            "grid_template_rows": null,
            "height": null,
            "justify_content": null,
            "justify_items": null,
            "left": null,
            "margin": null,
            "max_height": null,
            "max_width": null,
            "min_height": null,
            "min_width": null,
            "object_fit": null,
            "object_position": null,
            "order": null,
            "overflow": null,
            "overflow_x": null,
            "overflow_y": null,
            "padding": null,
            "right": null,
            "top": null,
            "visibility": null,
            "width": null
          }
        },
        "71a7412b27b14ce48c0397df98846132": {
          "model_module": "@jupyter-widgets/controls",
          "model_name": "DescriptionStyleModel",
          "model_module_version": "1.5.0",
          "state": {
            "_model_module": "@jupyter-widgets/controls",
            "_model_module_version": "1.5.0",
            "_model_name": "DescriptionStyleModel",
            "_view_count": null,
            "_view_module": "@jupyter-widgets/base",
            "_view_module_version": "1.2.0",
            "_view_name": "StyleView",
            "description_width": ""
          }
        },
        "3a58edb9557141e0947017560e5b8849": {
          "model_module": "@jupyter-widgets/base",
          "model_name": "LayoutModel",
          "model_module_version": "1.2.0",
          "state": {
            "_model_module": "@jupyter-widgets/base",
            "_model_module_version": "1.2.0",
            "_model_name": "LayoutModel",
            "_view_count": null,
            "_view_module": "@jupyter-widgets/base",
            "_view_module_version": "1.2.0",
            "_view_name": "LayoutView",
            "align_content": null,
            "align_items": null,
            "align_self": null,
            "border": null,
            "bottom": null,
            "display": null,
            "flex": null,
            "flex_flow": null,
            "grid_area": null,
            "grid_auto_columns": null,
            "grid_auto_flow": null,
            "grid_auto_rows": null,
            "grid_column": null,
            "grid_gap": null,
            "grid_row": null,
            "grid_template_areas": null,
            "grid_template_columns": null,
            "grid_template_rows": null,
            "height": null,
            "justify_content": null,
            "justify_items": null,
            "left": null,
            "margin": null,
            "max_height": null,
            "max_width": null,
            "min_height": null,
            "min_width": null,
            "object_fit": null,
            "object_position": null,
            "order": null,
            "overflow": null,
            "overflow_x": null,
            "overflow_y": null,
            "padding": null,
            "right": null,
            "top": null,
            "visibility": null,
            "width": null
          }
        },
        "2bf4afebcfd24b0689111e566c7599f9": {
          "model_module": "@jupyter-widgets/controls",
          "model_name": "ProgressStyleModel",
          "model_module_version": "1.5.0",
          "state": {
            "_model_module": "@jupyter-widgets/controls",
            "_model_module_version": "1.5.0",
            "_model_name": "ProgressStyleModel",
            "_view_count": null,
            "_view_module": "@jupyter-widgets/base",
            "_view_module_version": "1.2.0",
            "_view_name": "StyleView",
            "bar_color": null,
            "description_width": ""
          }
        },
        "f9418271b88e4d8bbd51178b739f2866": {
          "model_module": "@jupyter-widgets/base",
          "model_name": "LayoutModel",
          "model_module_version": "1.2.0",
          "state": {
            "_model_module": "@jupyter-widgets/base",
            "_model_module_version": "1.2.0",
            "_model_name": "LayoutModel",
            "_view_count": null,
            "_view_module": "@jupyter-widgets/base",
            "_view_module_version": "1.2.0",
            "_view_name": "LayoutView",
            "align_content": null,
            "align_items": null,
            "align_self": null,
            "border": null,
            "bottom": null,
            "display": null,
            "flex": null,
            "flex_flow": null,
            "grid_area": null,
            "grid_auto_columns": null,
            "grid_auto_flow": null,
            "grid_auto_rows": null,
            "grid_column": null,
            "grid_gap": null,
            "grid_row": null,
            "grid_template_areas": null,
            "grid_template_columns": null,
            "grid_template_rows": null,
            "height": null,
            "justify_content": null,
            "justify_items": null,
            "left": null,
            "margin": null,
            "max_height": null,
            "max_width": null,
            "min_height": null,
            "min_width": null,
            "object_fit": null,
            "object_position": null,
            "order": null,
            "overflow": null,
            "overflow_x": null,
            "overflow_y": null,
            "padding": null,
            "right": null,
            "top": null,
            "visibility": null,
            "width": null
          }
        },
        "d45c0eebbb034fae8797948d51eafc14": {
          "model_module": "@jupyter-widgets/controls",
          "model_name": "DescriptionStyleModel",
          "model_module_version": "1.5.0",
          "state": {
            "_model_module": "@jupyter-widgets/controls",
            "_model_module_version": "1.5.0",
            "_model_name": "DescriptionStyleModel",
            "_view_count": null,
            "_view_module": "@jupyter-widgets/base",
            "_view_module_version": "1.2.0",
            "_view_name": "StyleView",
            "description_width": ""
          }
        }
      }
    }
  },
  "cells": [
    {
      "cell_type": "markdown",
      "metadata": {
        "id": "view-in-github",
        "colab_type": "text"
      },
      "source": [
        "<a href=\"https://colab.research.google.com/github/EmilyCY/CIFAR10-Image-Classification/blob/Kman/Simple_SVM.ipynb\" target=\"_parent\"><img src=\"https://colab.research.google.com/assets/colab-badge.svg\" alt=\"Open In Colab\"/></a>"
      ]
    },
    {
      "cell_type": "markdown",
      "source": [
        "This is a simple SVM model using Python 3 only"
      ],
      "metadata": {
        "id": "EJ8xtw4wwHW2"
      }
    },
    {
      "cell_type": "code",
      "execution_count": 1,
      "metadata": {
        "id": "xELEHpbqwEOP"
      },
      "outputs": [],
      "source": [
        "import matplotlib.pyplot as plt\n",
        "import numpy as np\n",
        "from sklearn.decomposition import PCA\n",
        "from sklearn.metrics import classification_report, confusion_matrix, accuracy_score\n",
        "from sklearn.decomposition import PCA\n",
        "\n",
        "from sklearn import svm\n",
        "from sklearn.linear_model import LogisticRegression"
      ]
    },
    {
      "cell_type": "markdown",
      "source": [
        "# Trying to load from pickle"
      ],
      "metadata": {
        "id": "kF7oNKysI9fi"
      }
    },
    {
      "cell_type": "code",
      "source": [
        "#mount tar.gz to CoLab from Google Drive\n",
        "from google.colab import files\n",
        "uploaded_files = files.upload()"
      ],
      "metadata": {
        "colab": {
          "resources": {
            "http://localhost:8080/nbextensions/google.colab/files.js": {
              "data": "Ly8gQ29weXJpZ2h0IDIwMTcgR29vZ2xlIExMQwovLwovLyBMaWNlbnNlZCB1bmRlciB0aGUgQXBhY2hlIExpY2Vuc2UsIFZlcnNpb24gMi4wICh0aGUgIkxpY2Vuc2UiKTsKLy8geW91IG1heSBub3QgdXNlIHRoaXMgZmlsZSBleGNlcHQgaW4gY29tcGxpYW5jZSB3aXRoIHRoZSBMaWNlbnNlLgovLyBZb3UgbWF5IG9idGFpbiBhIGNvcHkgb2YgdGhlIExpY2Vuc2UgYXQKLy8KLy8gICAgICBodHRwOi8vd3d3LmFwYWNoZS5vcmcvbGljZW5zZXMvTElDRU5TRS0yLjAKLy8KLy8gVW5sZXNzIHJlcXVpcmVkIGJ5IGFwcGxpY2FibGUgbGF3IG9yIGFncmVlZCB0byBpbiB3cml0aW5nLCBzb2Z0d2FyZQovLyBkaXN0cmlidXRlZCB1bmRlciB0aGUgTGljZW5zZSBpcyBkaXN0cmlidXRlZCBvbiBhbiAiQVMgSVMiIEJBU0lTLAovLyBXSVRIT1VUIFdBUlJBTlRJRVMgT1IgQ09ORElUSU9OUyBPRiBBTlkgS0lORCwgZWl0aGVyIGV4cHJlc3Mgb3IgaW1wbGllZC4KLy8gU2VlIHRoZSBMaWNlbnNlIGZvciB0aGUgc3BlY2lmaWMgbGFuZ3VhZ2UgZ292ZXJuaW5nIHBlcm1pc3Npb25zIGFuZAovLyBsaW1pdGF0aW9ucyB1bmRlciB0aGUgTGljZW5zZS4KCi8qKgogKiBAZmlsZW92ZXJ2aWV3IEhlbHBlcnMgZm9yIGdvb2dsZS5jb2xhYiBQeXRob24gbW9kdWxlLgogKi8KKGZ1bmN0aW9uKHNjb3BlKSB7CmZ1bmN0aW9uIHNwYW4odGV4dCwgc3R5bGVBdHRyaWJ1dGVzID0ge30pIHsKICBjb25zdCBlbGVtZW50ID0gZG9jdW1lbnQuY3JlYXRlRWxlbWVudCgnc3BhbicpOwogIGVsZW1lbnQudGV4dENvbnRlbnQgPSB0ZXh0OwogIGZvciAoY29uc3Qga2V5IG9mIE9iamVjdC5rZXlzKHN0eWxlQXR0cmlidXRlcykpIHsKICAgIGVsZW1lbnQuc3R5bGVba2V5XSA9IHN0eWxlQXR0cmlidXRlc1trZXldOwogIH0KICByZXR1cm4gZWxlbWVudDsKfQoKLy8gTWF4IG51bWJlciBvZiBieXRlcyB3aGljaCB3aWxsIGJlIHVwbG9hZGVkIGF0IGEgdGltZS4KY29uc3QgTUFYX1BBWUxPQURfU0laRSA9IDEwMCAqIDEwMjQ7CgpmdW5jdGlvbiBfdXBsb2FkRmlsZXMoaW5wdXRJZCwgb3V0cHV0SWQpIHsKICBjb25zdCBzdGVwcyA9IHVwbG9hZEZpbGVzU3RlcChpbnB1dElkLCBvdXRwdXRJZCk7CiAgY29uc3Qgb3V0cHV0RWxlbWVudCA9IGRvY3VtZW50LmdldEVsZW1lbnRCeUlkKG91dHB1dElkKTsKICAvLyBDYWNoZSBzdGVwcyBvbiB0aGUgb3V0cHV0RWxlbWVudCB0byBtYWtlIGl0IGF2YWlsYWJsZSBmb3IgdGhlIG5leHQgY2FsbAogIC8vIHRvIHVwbG9hZEZpbGVzQ29udGludWUgZnJvbSBQeXRob24uCiAgb3V0cHV0RWxlbWVudC5zdGVwcyA9IHN0ZXBzOwoKICByZXR1cm4gX3VwbG9hZEZpbGVzQ29udGludWUob3V0cHV0SWQpOwp9CgovLyBUaGlzIGlzIHJvdWdobHkgYW4gYXN5bmMgZ2VuZXJhdG9yIChub3Qgc3VwcG9ydGVkIGluIHRoZSBicm93c2VyIHlldCksCi8vIHdoZXJlIHRoZXJlIGFyZSBtdWx0aXBsZSBhc3luY2hyb25vdXMgc3RlcHMgYW5kIHRoZSBQeXRob24gc2lkZSBpcyBnb2luZwovLyB0byBwb2xsIGZvciBjb21wbGV0aW9uIG9mIGVhY2ggc3RlcC4KLy8gVGhpcyB1c2VzIGEgUHJvbWlzZSB0byBibG9jayB0aGUgcHl0aG9uIHNpZGUgb24gY29tcGxldGlvbiBvZiBlYWNoIHN0ZXAsCi8vIHRoZW4gcGFzc2VzIHRoZSByZXN1bHQgb2YgdGhlIHByZXZpb3VzIHN0ZXAgYXMgdGhlIGlucHV0IHRvIHRoZSBuZXh0IHN0ZXAuCmZ1bmN0aW9uIF91cGxvYWRGaWxlc0NvbnRpbnVlKG91dHB1dElkKSB7CiAgY29uc3Qgb3V0cHV0RWxlbWVudCA9IGRvY3VtZW50LmdldEVsZW1lbnRCeUlkKG91dHB1dElkKTsKICBjb25zdCBzdGVwcyA9IG91dHB1dEVsZW1lbnQuc3RlcHM7CgogIGNvbnN0IG5leHQgPSBzdGVwcy5uZXh0KG91dHB1dEVsZW1lbnQubGFzdFByb21pc2VWYWx1ZSk7CiAgcmV0dXJuIFByb21pc2UucmVzb2x2ZShuZXh0LnZhbHVlLnByb21pc2UpLnRoZW4oKHZhbHVlKSA9PiB7CiAgICAvLyBDYWNoZSB0aGUgbGFzdCBwcm9taXNlIHZhbHVlIHRvIG1ha2UgaXQgYXZhaWxhYmxlIHRvIHRoZSBuZXh0CiAgICAvLyBzdGVwIG9mIHRoZSBnZW5lcmF0b3IuCiAgICBvdXRwdXRFbGVtZW50Lmxhc3RQcm9taXNlVmFsdWUgPSB2YWx1ZTsKICAgIHJldHVybiBuZXh0LnZhbHVlLnJlc3BvbnNlOwogIH0pOwp9CgovKioKICogR2VuZXJhdG9yIGZ1bmN0aW9uIHdoaWNoIGlzIGNhbGxlZCBiZXR3ZWVuIGVhY2ggYXN5bmMgc3RlcCBvZiB0aGUgdXBsb2FkCiAqIHByb2Nlc3MuCiAqIEBwYXJhbSB7c3RyaW5nfSBpbnB1dElkIEVsZW1lbnQgSUQgb2YgdGhlIGlucHV0IGZpbGUgcGlja2VyIGVsZW1lbnQuCiAqIEBwYXJhbSB7c3RyaW5nfSBvdXRwdXRJZCBFbGVtZW50IElEIG9mIHRoZSBvdXRwdXQgZGlzcGxheS4KICogQHJldHVybiB7IUl0ZXJhYmxlPCFPYmplY3Q+fSBJdGVyYWJsZSBvZiBuZXh0IHN0ZXBzLgogKi8KZnVuY3Rpb24qIHVwbG9hZEZpbGVzU3RlcChpbnB1dElkLCBvdXRwdXRJZCkgewogIGNvbnN0IGlucHV0RWxlbWVudCA9IGRvY3VtZW50LmdldEVsZW1lbnRCeUlkKGlucHV0SWQpOwogIGlucHV0RWxlbWVudC5kaXNhYmxlZCA9IGZhbHNlOwoKICBjb25zdCBvdXRwdXRFbGVtZW50ID0gZG9jdW1lbnQuZ2V0RWxlbWVudEJ5SWQob3V0cHV0SWQpOwogIG91dHB1dEVsZW1lbnQuaW5uZXJIVE1MID0gJyc7CgogIGNvbnN0IHBpY2tlZFByb21pc2UgPSBuZXcgUHJvbWlzZSgocmVzb2x2ZSkgPT4gewogICAgaW5wdXRFbGVtZW50LmFkZEV2ZW50TGlzdGVuZXIoJ2NoYW5nZScsIChlKSA9PiB7CiAgICAgIHJlc29sdmUoZS50YXJnZXQuZmlsZXMpOwogICAgfSk7CiAgfSk7CgogIGNvbnN0IGNhbmNlbCA9IGRvY3VtZW50LmNyZWF0ZUVsZW1lbnQoJ2J1dHRvbicpOwogIGlucHV0RWxlbWVudC5wYXJlbnRFbGVtZW50LmFwcGVuZENoaWxkKGNhbmNlbCk7CiAgY2FuY2VsLnRleHRDb250ZW50ID0gJ0NhbmNlbCB1cGxvYWQnOwogIGNvbnN0IGNhbmNlbFByb21pc2UgPSBuZXcgUHJvbWlzZSgocmVzb2x2ZSkgPT4gewogICAgY2FuY2VsLm9uY2xpY2sgPSAoKSA9PiB7CiAgICAgIHJlc29sdmUobnVsbCk7CiAgICB9OwogIH0pOwoKICAvLyBXYWl0IGZvciB0aGUgdXNlciB0byBwaWNrIHRoZSBmaWxlcy4KICBjb25zdCBmaWxlcyA9IHlpZWxkIHsKICAgIHByb21pc2U6IFByb21pc2UucmFjZShbcGlja2VkUHJvbWlzZSwgY2FuY2VsUHJvbWlzZV0pLAogICAgcmVzcG9uc2U6IHsKICAgICAgYWN0aW9uOiAnc3RhcnRpbmcnLAogICAgfQogIH07CgogIGNhbmNlbC5yZW1vdmUoKTsKCiAgLy8gRGlzYWJsZSB0aGUgaW5wdXQgZWxlbWVudCBzaW5jZSBmdXJ0aGVyIHBpY2tzIGFyZSBub3QgYWxsb3dlZC4KICBpbnB1dEVsZW1lbnQuZGlzYWJsZWQgPSB0cnVlOwoKICBpZiAoIWZpbGVzKSB7CiAgICByZXR1cm4gewogICAgICByZXNwb25zZTogewogICAgICAgIGFjdGlvbjogJ2NvbXBsZXRlJywKICAgICAgfQogICAgfTsKICB9CgogIGZvciAoY29uc3QgZmlsZSBvZiBmaWxlcykgewogICAgY29uc3QgbGkgPSBkb2N1bWVudC5jcmVhdGVFbGVtZW50KCdsaScpOwogICAgbGkuYXBwZW5kKHNwYW4oZmlsZS5uYW1lLCB7Zm9udFdlaWdodDogJ2JvbGQnfSkpOwogICAgbGkuYXBwZW5kKHNwYW4oCiAgICAgICAgYCgke2ZpbGUudHlwZSB8fCAnbi9hJ30pIC0gJHtmaWxlLnNpemV9IGJ5dGVzLCBgICsKICAgICAgICBgbGFzdCBtb2RpZmllZDogJHsKICAgICAgICAgICAgZmlsZS5sYXN0TW9kaWZpZWREYXRlID8gZmlsZS5sYXN0TW9kaWZpZWREYXRlLnRvTG9jYWxlRGF0ZVN0cmluZygpIDoKICAgICAgICAgICAgICAgICAgICAgICAgICAgICAgICAgICAgJ24vYSd9IC0gYCkpOwogICAgY29uc3QgcGVyY2VudCA9IHNwYW4oJzAlIGRvbmUnKTsKICAgIGxpLmFwcGVuZENoaWxkKHBlcmNlbnQpOwoKICAgIG91dHB1dEVsZW1lbnQuYXBwZW5kQ2hpbGQobGkpOwoKICAgIGNvbnN0IGZpbGVEYXRhUHJvbWlzZSA9IG5ldyBQcm9taXNlKChyZXNvbHZlKSA9PiB7CiAgICAgIGNvbnN0IHJlYWRlciA9IG5ldyBGaWxlUmVhZGVyKCk7CiAgICAgIHJlYWRlci5vbmxvYWQgPSAoZSkgPT4gewogICAgICAgIHJlc29sdmUoZS50YXJnZXQucmVzdWx0KTsKICAgICAgfTsKICAgICAgcmVhZGVyLnJlYWRBc0FycmF5QnVmZmVyKGZpbGUpOwogICAgfSk7CiAgICAvLyBXYWl0IGZvciB0aGUgZGF0YSB0byBiZSByZWFkeS4KICAgIGxldCBmaWxlRGF0YSA9IHlpZWxkIHsKICAgICAgcHJvbWlzZTogZmlsZURhdGFQcm9taXNlLAogICAgICByZXNwb25zZTogewogICAgICAgIGFjdGlvbjogJ2NvbnRpbnVlJywKICAgICAgfQogICAgfTsKCiAgICAvLyBVc2UgYSBjaHVua2VkIHNlbmRpbmcgdG8gYXZvaWQgbWVzc2FnZSBzaXplIGxpbWl0cy4gU2VlIGIvNjIxMTU2NjAuCiAgICBsZXQgcG9zaXRpb24gPSAwOwogICAgZG8gewogICAgICBjb25zdCBsZW5ndGggPSBNYXRoLm1pbihmaWxlRGF0YS5ieXRlTGVuZ3RoIC0gcG9zaXRpb24sIE1BWF9QQVlMT0FEX1NJWkUpOwogICAgICBjb25zdCBjaHVuayA9IG5ldyBVaW50OEFycmF5KGZpbGVEYXRhLCBwb3NpdGlvbiwgbGVuZ3RoKTsKICAgICAgcG9zaXRpb24gKz0gbGVuZ3RoOwoKICAgICAgY29uc3QgYmFzZTY0ID0gYnRvYShTdHJpbmcuZnJvbUNoYXJDb2RlLmFwcGx5KG51bGwsIGNodW5rKSk7CiAgICAgIHlpZWxkIHsKICAgICAgICByZXNwb25zZTogewogICAgICAgICAgYWN0aW9uOiAnYXBwZW5kJywKICAgICAgICAgIGZpbGU6IGZpbGUubmFtZSwKICAgICAgICAgIGRhdGE6IGJhc2U2NCwKICAgICAgICB9LAogICAgICB9OwoKICAgICAgbGV0IHBlcmNlbnREb25lID0gZmlsZURhdGEuYnl0ZUxlbmd0aCA9PT0gMCA/CiAgICAgICAgICAxMDAgOgogICAgICAgICAgTWF0aC5yb3VuZCgocG9zaXRpb24gLyBmaWxlRGF0YS5ieXRlTGVuZ3RoKSAqIDEwMCk7CiAgICAgIHBlcmNlbnQudGV4dENvbnRlbnQgPSBgJHtwZXJjZW50RG9uZX0lIGRvbmVgOwoKICAgIH0gd2hpbGUgKHBvc2l0aW9uIDwgZmlsZURhdGEuYnl0ZUxlbmd0aCk7CiAgfQoKICAvLyBBbGwgZG9uZS4KICB5aWVsZCB7CiAgICByZXNwb25zZTogewogICAgICBhY3Rpb246ICdjb21wbGV0ZScsCiAgICB9CiAgfTsKfQoKc2NvcGUuZ29vZ2xlID0gc2NvcGUuZ29vZ2xlIHx8IHt9OwpzY29wZS5nb29nbGUuY29sYWIgPSBzY29wZS5nb29nbGUuY29sYWIgfHwge307CnNjb3BlLmdvb2dsZS5jb2xhYi5fZmlsZXMgPSB7CiAgX3VwbG9hZEZpbGVzLAogIF91cGxvYWRGaWxlc0NvbnRpbnVlLAp9Owp9KShzZWxmKTsK",
              "ok": true,
              "headers": [
                [
                  "content-type",
                  "application/javascript"
                ]
              ],
              "status": 200,
              "status_text": ""
            }
          },
          "base_uri": "https://localhost:8080/",
          "height": 73
        },
        "id": "iged7MF7Qx-P",
        "outputId": "59ac1b04-a902-42db-9c28-56e178cbf5db"
      },
      "execution_count": 12,
      "outputs": [
        {
          "output_type": "display_data",
          "data": {
            "text/plain": [
              "<IPython.core.display.HTML object>"
            ],
            "text/html": [
              "\n",
              "     <input type=\"file\" id=\"files-aac6c1a7-6d4b-47d3-8b00-0246f9498c48\" name=\"files[]\" multiple disabled\n",
              "        style=\"border:none\" />\n",
              "     <output id=\"result-aac6c1a7-6d4b-47d3-8b00-0246f9498c48\">\n",
              "      Upload widget is only available when the cell has been executed in the\n",
              "      current browser session. Please rerun this cell to enable.\n",
              "      </output>\n",
              "      <script src=\"/nbextensions/google.colab/files.js\"></script> "
            ]
          },
          "metadata": {}
        },
        {
          "output_type": "stream",
          "name": "stdout",
          "text": [
            "Saving cifar10python.tar.gz to cifar10python.tar.gz\n"
          ]
        }
      ]
    },
    {
      "cell_type": "code",
      "source": [
        "#file structure i've given appears incorrect?? -need to resolve file structure or find different load method\n",
        "!tar -cifar10 \"G:\\My Drive\\Colab Notebooks\\Machine Learning\\Final project\\cifar10python.tar.gz\""
      ],
      "metadata": {
        "colab": {
          "base_uri": "https://localhost:8080/"
        },
        "id": "_xEkYSX0PYtz",
        "outputId": "8d6d52a5-5122-4195-c645-45645be008cc"
      },
      "execution_count": 2,
      "outputs": [
        {
          "output_type": "stream",
          "name": "stdout",
          "text": [
            "tar: G\\:\\\\My Drive\\\\Colab Notebooks\\\\Machine Learning\\\\Final project\\\\cifar10python.tar.gz: Cannot stat: No such file or directory\n",
            "tar: Exiting with failure status due to previous errors\n"
          ]
        }
      ]
    },
    {
      "cell_type": "code",
      "source": [
        "cifar10='cifar10python.tar.gz'\n",
        "print(filename)"
      ],
      "metadata": {
        "colab": {
          "base_uri": "https://localhost:8080/"
        },
        "id": "O2u6MRnyMEJ_",
        "outputId": "3cb43370-c3d8-470b-eb32-b97ae7e43791"
      },
      "execution_count": 5,
      "outputs": [
        {
          "output_type": "stream",
          "name": "stdout",
          "text": [
            "cifar10python.tar.gz\n"
          ]
        }
      ]
    },
    {
      "cell_type": "code",
      "source": [
        "#methiod borrowed from https://www.programcreek.com/python/?CodeExample=load+cifar10\n",
        "def load_CIFAR_10(filename,\n",
        "                   file_type=\"train\",\n",
        "                   label_type=\"fine_labels\"):\n",
        "  \"\"\"\n",
        "  Load CIFAR 10 data set\n",
        "  \n",
        "  @param filename: file name of CIFAR 10\n",
        "  @param file_type: \"train\" or \"test\"\n",
        "  @param label_type: \"fine_labels\" or \"coarse_labels\"\n",
        "  \"\"\"\n",
        "  datadict=pickle.load(open(filename, \"rb\"));\n",
        "  \n",
        "  X=datadict[\"data\"];\n",
        "  Y=datadict[label_type];\n",
        "  \n",
        "  if file_type==\"train\":\n",
        "    X=X.reshape(50000, 3, 32, 32).transpose(0,2,3,1).astype(\"float\");\n",
        "  elif file_type==\"test\":\n",
        "    X=X.reshape(10000, 3, 32, 32).transpose(0,2,3,1).astype(\"float\");\n",
        "    \n",
        "  Y=np.array(Y);\n",
        "    \n",
        "  return X, Y; "
      ],
      "metadata": {
        "id": "4-A5apbFI_xh"
      },
      "execution_count": 3,
      "outputs": []
    },
    {
      "cell_type": "code",
      "source": [
        "load_CIFAR_10(cifar10,train,fine_labels)"
      ],
      "metadata": {
        "colab": {
          "base_uri": "https://localhost:8080/",
          "height": 165
        },
        "id": "628XGRsRMNjO",
        "outputId": "9b9f4f72-c349-4124-8a6f-e510ec11c18f"
      },
      "execution_count": 6,
      "outputs": [
        {
          "output_type": "error",
          "ename": "NameError",
          "evalue": "ignored",
          "traceback": [
            "\u001b[0;31m---------------------------------------------------------------------------\u001b[0m",
            "\u001b[0;31mNameError\u001b[0m                                 Traceback (most recent call last)",
            "\u001b[0;32m<ipython-input-6-fdf62c84aac8>\u001b[0m in \u001b[0;36m<module>\u001b[0;34m()\u001b[0m\n\u001b[0;32m----> 1\u001b[0;31m \u001b[0mload_CIFAR_10\u001b[0m\u001b[0;34m(\u001b[0m\u001b[0mcifar10\u001b[0m\u001b[0;34m,\u001b[0m\u001b[0mtrain\u001b[0m\u001b[0;34m,\u001b[0m\u001b[0mfine_labels\u001b[0m\u001b[0;34m)\u001b[0m\u001b[0;34m\u001b[0m\u001b[0;34m\u001b[0m\u001b[0m\n\u001b[0m",
            "\u001b[0;31mNameError\u001b[0m: name 'train' is not defined"
          ]
        }
      ]
    },
    {
      "cell_type": "markdown",
      "source": [
        "# Load CIFAR10 dataset(s) from torchvision library"
      ],
      "metadata": {
        "id": "8fa4-xnRxdAR"
      }
    },
    {
      "cell_type": "markdown",
      "source": [
        "This works successfully and means i either need to work in Pytorch, or need to convert datasets from Pytorch tensors to numpy ndarray"
      ],
      "metadata": {
        "id": "HG7q4YY_xlFB"
      }
    },
    {
      "cell_type": "code",
      "source": [
        "import torch\n",
        "import torchvision\n",
        "import torchvision.transforms as transforms"
      ],
      "metadata": {
        "id": "iIWDGz-Swn7O"
      },
      "execution_count": 3,
      "outputs": []
    },
    {
      "cell_type": "code",
      "source": [
        "# import the training set (first 50,000 imgs) by setting train=True.\n",
        "trainset = torchvision.datasets.CIFAR10(root='./data', train=True,download=True)\n",
        "# import the test set (10,000 imgs) by setting train=False\n",
        "testset = torchvision.datasets.CIFAR10(root='./data', train=False, download=True)\n",
        "# define the ten labels manually.\n",
        "classes = ('plane', 'car', 'bird', 'cat', 'deer', 'dog', 'frog', 'horse', 'ship', 'truck')"
      ],
      "metadata": {
        "colab": {
          "base_uri": "https://localhost:8080/",
          "height": 101,
          "referenced_widgets": [
            "69e2692fba57454fb77292d0d757e990",
            "209d0b50154846bcb1b8fdcb81e3aa58",
            "500ae83de5ff4acd96b582b32a1c86c9",
            "68ec5443b66a4f9583e695691c8c6bfc",
            "dd3d9cd30bf242e8b2de4d861905129c",
            "b454c12771894dbcb1850b9e629c5ccb",
            "71a7412b27b14ce48c0397df98846132",
            "3a58edb9557141e0947017560e5b8849",
            "2bf4afebcfd24b0689111e566c7599f9",
            "f9418271b88e4d8bbd51178b739f2866",
            "d45c0eebbb034fae8797948d51eafc14"
          ]
        },
        "id": "MgB2u5QKwUKo",
        "outputId": "c42a0232-0cc2-4020-8b64-120e297ba880"
      },
      "execution_count": 4,
      "outputs": [
        {
          "output_type": "stream",
          "name": "stdout",
          "text": [
            "Downloading https://www.cs.toronto.edu/~kriz/cifar-10-python.tar.gz to ./data/cifar-10-python.tar.gz\n"
          ]
        },
        {
          "output_type": "display_data",
          "data": {
            "text/plain": [
              "  0%|          | 0/170498071 [00:00<?, ?it/s]"
            ],
            "application/vnd.jupyter.widget-view+json": {
              "version_major": 2,
              "version_minor": 0,
              "model_id": "69e2692fba57454fb77292d0d757e990"
            }
          },
          "metadata": {}
        },
        {
          "output_type": "stream",
          "name": "stdout",
          "text": [
            "Extracting ./data/cifar-10-python.tar.gz to ./data\n",
            "Files already downloaded and verified\n"
          ]
        }
      ]
    },
    {
      "cell_type": "code",
      "source": [
        "#check the data is loaded correctly\n",
        "#data sholuld be loaded as a tuple\n",
        "print(\"This is the length of the trainset: \",len(trainset))\n",
        "print(\"This is the length of the testset: \",len(testset))"
      ],
      "metadata": {
        "colab": {
          "base_uri": "https://localhost:8080/"
        },
        "id": "i2HM4x3dyp3K",
        "outputId": "f6030f83-3848-4fa3-b89b-d44e579ac82f"
      },
      "execution_count": 5,
      "outputs": [
        {
          "output_type": "stream",
          "name": "stdout",
          "text": [
            "This is the length of the trainset:  50000\n",
            "This is the length of the testset:  10000\n"
          ]
        }
      ]
    },
    {
      "cell_type": "code",
      "source": [
        "print(trainset)\n",
        "print(testset)"
      ],
      "metadata": {
        "colab": {
          "base_uri": "https://localhost:8080/"
        },
        "id": "C9qn2p53ywVu",
        "outputId": "6fe6715f-91f5-4466-9b50-c6d72eb7a772"
      },
      "execution_count": 6,
      "outputs": [
        {
          "output_type": "stream",
          "name": "stdout",
          "text": [
            "Dataset CIFAR10\n",
            "    Number of datapoints: 50000\n",
            "    Root location: ./data\n",
            "    Split: Train\n",
            "Dataset CIFAR10\n",
            "    Number of datapoints: 10000\n",
            "    Root location: ./data\n",
            "    Split: Test\n"
          ]
        }
      ]
    },
    {
      "cell_type": "code",
      "source": [
        "path = \"data/CIFAR10/\""
      ],
      "metadata": {
        "id": "e_xrbnclz0O4"
      },
      "execution_count": 7,
      "outputs": []
    },
    {
      "cell_type": "code",
      "source": [
        "#confirm what type trainset has been created as \n",
        "print(type(trainset))"
      ],
      "metadata": {
        "colab": {
          "base_uri": "https://localhost:8080/"
        },
        "id": "Me93GiYd1Rh_",
        "outputId": "5d7116cd-9528-4176-e62c-9f7100b82f6a"
      },
      "execution_count": 8,
      "outputs": [
        {
          "output_type": "stream",
          "name": "stdout",
          "text": [
            "<class 'torchvision.datasets.cifar.CIFAR10'>\n"
          ]
        }
      ]
    },
    {
      "cell_type": "code",
      "source": [
        "print(testset.data)"
      ],
      "metadata": {
        "colab": {
          "base_uri": "https://localhost:8080/"
        },
        "id": "BFMvDjdn9dJQ",
        "outputId": "05aa6980-b9f7-49dd-9637-1aa5ed55c603"
      },
      "execution_count": 9,
      "outputs": [
        {
          "output_type": "stream",
          "name": "stdout",
          "text": [
            "[[[[158 112  49]\n",
            "   [159 111  47]\n",
            "   [165 116  51]\n",
            "   ...\n",
            "   [137  95  36]\n",
            "   [126  91  36]\n",
            "   [116  85  33]]\n",
            "\n",
            "  [[152 112  51]\n",
            "   [151 110  40]\n",
            "   [159 114  45]\n",
            "   ...\n",
            "   [136  95  31]\n",
            "   [125  91  32]\n",
            "   [119  88  34]]\n",
            "\n",
            "  [[151 110  47]\n",
            "   [151 109  33]\n",
            "   [158 111  36]\n",
            "   ...\n",
            "   [139  98  34]\n",
            "   [130  95  34]\n",
            "   [120  89  33]]\n",
            "\n",
            "  ...\n",
            "\n",
            "  [[ 68 124 177]\n",
            "   [ 42 100 148]\n",
            "   [ 31  88 137]\n",
            "   ...\n",
            "   [ 38  97 146]\n",
            "   [ 13  64 108]\n",
            "   [ 40  85 127]]\n",
            "\n",
            "  [[ 61 116 168]\n",
            "   [ 49 102 148]\n",
            "   [ 35  85 132]\n",
            "   ...\n",
            "   [ 26  82 130]\n",
            "   [ 29  82 126]\n",
            "   [ 20  64 107]]\n",
            "\n",
            "  [[ 54 107 160]\n",
            "   [ 56 105 149]\n",
            "   [ 45  89 132]\n",
            "   ...\n",
            "   [ 24  77 124]\n",
            "   [ 34  84 129]\n",
            "   [ 21  67 110]]]\n",
            "\n",
            "\n",
            " [[[235 235 235]\n",
            "   [231 231 231]\n",
            "   [232 232 232]\n",
            "   ...\n",
            "   [233 233 233]\n",
            "   [233 233 233]\n",
            "   [232 232 232]]\n",
            "\n",
            "  [[238 238 238]\n",
            "   [235 235 235]\n",
            "   [235 235 235]\n",
            "   ...\n",
            "   [236 236 236]\n",
            "   [236 236 236]\n",
            "   [235 235 235]]\n",
            "\n",
            "  [[237 237 237]\n",
            "   [234 234 234]\n",
            "   [234 234 234]\n",
            "   ...\n",
            "   [235 235 235]\n",
            "   [235 235 235]\n",
            "   [234 234 234]]\n",
            "\n",
            "  ...\n",
            "\n",
            "  [[ 87  99  89]\n",
            "   [ 43  51  37]\n",
            "   [ 19  23  11]\n",
            "   ...\n",
            "   [169 184 179]\n",
            "   [182 197 193]\n",
            "   [188 202 201]]\n",
            "\n",
            "  [[ 82  96  82]\n",
            "   [ 46  57  36]\n",
            "   [ 36  44  22]\n",
            "   ...\n",
            "   [174 189 183]\n",
            "   [185 200 196]\n",
            "   [187 202 200]]\n",
            "\n",
            "  [[ 85 101  83]\n",
            "   [ 62  75  48]\n",
            "   [ 58  67  38]\n",
            "   ...\n",
            "   [168 183 178]\n",
            "   [180 195 191]\n",
            "   [186 200 199]]]\n",
            "\n",
            "\n",
            " [[[158 190 222]\n",
            "   [158 187 218]\n",
            "   [139 166 194]\n",
            "   ...\n",
            "   [228 231 234]\n",
            "   [237 239 243]\n",
            "   [238 241 246]]\n",
            "\n",
            "  [[170 200 229]\n",
            "   [172 199 226]\n",
            "   [151 176 201]\n",
            "   ...\n",
            "   [232 232 236]\n",
            "   [246 246 250]\n",
            "   [246 247 251]]\n",
            "\n",
            "  [[174 201 225]\n",
            "   [176 200 222]\n",
            "   [157 179 199]\n",
            "   ...\n",
            "   [230 229 232]\n",
            "   [250 249 251]\n",
            "   [245 244 247]]\n",
            "\n",
            "  ...\n",
            "\n",
            "  [[ 31  40  45]\n",
            "   [ 30  39  44]\n",
            "   [ 26  35  40]\n",
            "   ...\n",
            "   [ 37  40  46]\n",
            "   [  9  13  14]\n",
            "   [  4   7   5]]\n",
            "\n",
            "  [[ 23  34  39]\n",
            "   [ 27  38  43]\n",
            "   [ 25  36  41]\n",
            "   ...\n",
            "   [ 19  20  24]\n",
            "   [  4   6   3]\n",
            "   [  5   7   3]]\n",
            "\n",
            "  [[ 28  41  47]\n",
            "   [ 30  43  50]\n",
            "   [ 32  45  52]\n",
            "   ...\n",
            "   [  5   6   8]\n",
            "   [  4   5   3]\n",
            "   [  7   8   7]]]\n",
            "\n",
            "\n",
            " ...\n",
            "\n",
            "\n",
            " [[[ 20  15  12]\n",
            "   [ 19  14  11]\n",
            "   [ 15  14  11]\n",
            "   ...\n",
            "   [ 10   9   7]\n",
            "   [ 12  11   9]\n",
            "   [ 13  12  10]]\n",
            "\n",
            "  [[ 21  16  13]\n",
            "   [ 20  16  13]\n",
            "   [ 18  17  12]\n",
            "   ...\n",
            "   [ 10   9   7]\n",
            "   [ 10   9   7]\n",
            "   [ 12  11   9]]\n",
            "\n",
            "  [[ 21  16  13]\n",
            "   [ 21  17  12]\n",
            "   [ 20  18  11]\n",
            "   ...\n",
            "   [ 12  11   9]\n",
            "   [ 12  11   9]\n",
            "   [ 13  12  10]]\n",
            "\n",
            "  ...\n",
            "\n",
            "  [[ 33  25  13]\n",
            "   [ 34  26  15]\n",
            "   [ 34  26  15]\n",
            "   ...\n",
            "   [ 28  25  52]\n",
            "   [ 29  25  58]\n",
            "   [ 23  20  42]]\n",
            "\n",
            "  [[ 33  25  14]\n",
            "   [ 34  26  15]\n",
            "   [ 34  26  15]\n",
            "   ...\n",
            "   [ 27  24  52]\n",
            "   [ 27  24  56]\n",
            "   [ 25  22  47]]\n",
            "\n",
            "  [[ 31  23  12]\n",
            "   [ 32  24  13]\n",
            "   [ 33  25  14]\n",
            "   ...\n",
            "   [ 24  23  50]\n",
            "   [ 26  23  53]\n",
            "   [ 25  20  47]]]\n",
            "\n",
            "\n",
            " [[[ 25  40  12]\n",
            "   [ 15  36   3]\n",
            "   [ 23  41  18]\n",
            "   ...\n",
            "   [ 61  82  78]\n",
            "   [ 92 113 112]\n",
            "   [ 75  89  92]]\n",
            "\n",
            "  [[ 12  25   6]\n",
            "   [ 20  37   7]\n",
            "   [ 24  36  15]\n",
            "   ...\n",
            "   [115 134 138]\n",
            "   [149 168 177]\n",
            "   [104 117 131]]\n",
            "\n",
            "  [[ 12  25  11]\n",
            "   [ 15  29   6]\n",
            "   [ 34  40  24]\n",
            "   ...\n",
            "   [154 172 182]\n",
            "   [157 175 192]\n",
            "   [116 129 151]]\n",
            "\n",
            "  ...\n",
            "\n",
            "  [[100 129  81]\n",
            "   [103 132  84]\n",
            "   [104 134  86]\n",
            "   ...\n",
            "   [ 97 128  84]\n",
            "   [ 98 126  84]\n",
            "   [ 91 121  79]]\n",
            "\n",
            "  [[103 132  83]\n",
            "   [104 131  83]\n",
            "   [107 135  87]\n",
            "   ...\n",
            "   [101 132  87]\n",
            "   [ 99 127  84]\n",
            "   [ 92 121  79]]\n",
            "\n",
            "  [[ 95 126  78]\n",
            "   [ 95 123  76]\n",
            "   [101 128  81]\n",
            "   ...\n",
            "   [ 93 124  80]\n",
            "   [ 95 123  81]\n",
            "   [ 92 120  80]]]\n",
            "\n",
            "\n",
            " [[[ 73  78  75]\n",
            "   [ 98 103 113]\n",
            "   [ 99 106 114]\n",
            "   ...\n",
            "   [135 150 152]\n",
            "   [135 149 154]\n",
            "   [203 215 223]]\n",
            "\n",
            "  [[ 69  73  70]\n",
            "   [ 84  89  97]\n",
            "   [ 68  75  81]\n",
            "   ...\n",
            "   [ 85  95  89]\n",
            "   [ 71  82  80]\n",
            "   [120 133 135]]\n",
            "\n",
            "  [[ 69  73  70]\n",
            "   [ 90  95 100]\n",
            "   [ 62  71  74]\n",
            "   ...\n",
            "   [ 74  81  70]\n",
            "   [ 53  62  54]\n",
            "   [ 62  74  69]]\n",
            "\n",
            "  ...\n",
            "\n",
            "  [[123 128  96]\n",
            "   [132 132 102]\n",
            "   [129 128 100]\n",
            "   ...\n",
            "   [108 107  88]\n",
            "   [ 62  60  55]\n",
            "   [ 27  27  28]]\n",
            "\n",
            "  [[115 121  91]\n",
            "   [123 124  95]\n",
            "   [129 126  99]\n",
            "   ...\n",
            "   [115 116  94]\n",
            "   [ 66  65  59]\n",
            "   [ 27  27  27]]\n",
            "\n",
            "  [[116 120  90]\n",
            "   [121 122  94]\n",
            "   [129 128 101]\n",
            "   ...\n",
            "   [116 115  94]\n",
            "   [ 68  65  58]\n",
            "   [ 27  26  26]]]]\n"
          ]
        }
      ]
    },
    {
      "cell_type": "code",
      "source": [
        "# Separating trainset/testset data/label\n",
        "x_train = trainset.data\n",
        "x_test = testset.data\n",
        "y_train = trainset.targets\n",
        "y_test = testset.targets"
      ],
      "metadata": {
        "id": "p21JLjnE3tPh"
      },
      "execution_count": 10,
      "outputs": []
    },
    {
      "cell_type": "code",
      "source": [
        "#Set the example index\n",
        "example=199"
      ],
      "metadata": {
        "id": "c158q2q7EtkU"
      },
      "execution_count": 11,
      "outputs": []
    },
    {
      "cell_type": "code",
      "source": [
        "print(type(x_train))\n",
        "print(x_train[example])"
      ],
      "metadata": {
        "colab": {
          "base_uri": "https://localhost:8080/"
        },
        "id": "MCvargma4QiD",
        "outputId": "f68ef169-59b3-4cb7-99a3-b5e5e216071c"
      },
      "execution_count": 12,
      "outputs": [
        {
          "output_type": "stream",
          "name": "stdout",
          "text": [
            "<class 'numpy.ndarray'>\n",
            "[[[167 178 196]\n",
            "  [163 174 192]\n",
            "  [163 174 192]\n",
            "  ...\n",
            "  [166 177 196]\n",
            "  [165 176 195]\n",
            "  [165 176 195]]\n",
            "\n",
            " [[169 180 198]\n",
            "  [166 177 195]\n",
            "  [166 177 195]\n",
            "  ...\n",
            "  [170 182 198]\n",
            "  [169 180 197]\n",
            "  [168 179 196]]\n",
            "\n",
            " [[168 179 197]\n",
            "  [167 178 196]\n",
            "  [167 178 196]\n",
            "  ...\n",
            "  [173 185 200]\n",
            "  [172 184 198]\n",
            "  [171 183 197]]\n",
            "\n",
            " ...\n",
            "\n",
            " [[ 94 102 112]\n",
            "  [ 88  95 105]\n",
            "  [ 94 101 111]\n",
            "  ...\n",
            "  [106 113 123]\n",
            "  [103 110 120]\n",
            "  [104 111 121]]\n",
            "\n",
            " [[ 90  97 107]\n",
            "  [ 89  96 106]\n",
            "  [ 86  92 103]\n",
            "  ...\n",
            "  [106 112 123]\n",
            "  [ 92  99 109]\n",
            "  [ 95 102 112]]\n",
            "\n",
            " [[111 114 126]\n",
            "  [ 97 100 112]\n",
            "  [ 91  95 106]\n",
            "  ...\n",
            "  [108 111 123]\n",
            "  [ 96  99 111]\n",
            "  [ 96 100 111]]]\n"
          ]
        }
      ]
    },
    {
      "cell_type": "code",
      "source": [
        "# Configuration of HOG descriptor\n",
        "normalize = True          #  True ==> yields a little bit better score\n",
        "                          #  \n",
        "block_norm = 'L2-Hys'     # or 'L1'\n",
        "orientations = 9          # \n",
        "pixels_per_cell = [8, 8]  #  see section 'Additional remarks' for some explanation\n",
        "cells_per_block = [2, 2]  # \n",
        "\n",
        "def extractFeature(img, vis=False):\n",
        "    from skimage.feature import hog\n",
        "    return hog(img, orientations, pixels_per_cell, cells_per_block, block_norm, visualise=vis, transform_sqrt=normalize)"
      ],
      "metadata": {
        "id": "B_yLqE3iDb2i"
      },
      "execution_count": 14,
      "outputs": []
    },
    {
      "cell_type": "code",
      "source": [
        "# extracting one sample data\n",
        "nfeatures = extractFeature(x_train[example], vis=False).size\n",
        "print('Number of features = {}'.format(nfeatures))\n",
        "\n",
        "fig, axarr = plt.subplots(3,len(examples_id), figsize=(16,5))\n",
        "for i in range(len(examples_id)):\n",
        "    id = examples_id[i]\n",
        "    axarr[0,i].imshow(trainset[id][0][:,:])\n",
        "    axarr[0,i].axis('off')\n",
        "    axarr[1,i].imshow(x_train[id],cmap='gray')\n",
        "    axarr[1,i].axis('off')\n",
        "    _, hog_vis = extractFeature(x_train[id], vis=True)\n",
        "    axarr[2,i].imshow(hog_vis,cmap='gray')\n",
        "    axarr[2,i].axis('off')\n",
        "plt.show()"
      ],
      "metadata": {
        "colab": {
          "base_uri": "https://localhost:8080/",
          "height": 321
        },
        "id": "aoN9yK4eDdOY",
        "outputId": "63ed303f-492a-4553-e23b-fb562013be45"
      },
      "execution_count": 15,
      "outputs": [
        {
          "output_type": "error",
          "ename": "TypeError",
          "evalue": "ignored",
          "traceback": [
            "\u001b[0;31m---------------------------------------------------------------------------\u001b[0m",
            "\u001b[0;31mTypeError\u001b[0m                                 Traceback (most recent call last)",
            "\u001b[0;32m<ipython-input-15-e7513bdd9f5c>\u001b[0m in \u001b[0;36m<module>\u001b[0;34m()\u001b[0m\n\u001b[1;32m      1\u001b[0m \u001b[0;31m# extracting one sample data\u001b[0m\u001b[0;34m\u001b[0m\u001b[0;34m\u001b[0m\u001b[0;34m\u001b[0m\u001b[0m\n\u001b[0;32m----> 2\u001b[0;31m \u001b[0mnfeatures\u001b[0m \u001b[0;34m=\u001b[0m \u001b[0mextractFeature\u001b[0m\u001b[0;34m(\u001b[0m\u001b[0mx_train\u001b[0m\u001b[0;34m[\u001b[0m\u001b[0mexample\u001b[0m\u001b[0;34m]\u001b[0m\u001b[0;34m,\u001b[0m \u001b[0mvis\u001b[0m\u001b[0;34m=\u001b[0m\u001b[0;32mFalse\u001b[0m\u001b[0;34m)\u001b[0m\u001b[0;34m.\u001b[0m\u001b[0msize\u001b[0m\u001b[0;34m\u001b[0m\u001b[0;34m\u001b[0m\u001b[0m\n\u001b[0m\u001b[1;32m      3\u001b[0m \u001b[0mprint\u001b[0m\u001b[0;34m(\u001b[0m\u001b[0;34m'Number of features = {}'\u001b[0m\u001b[0;34m.\u001b[0m\u001b[0mformat\u001b[0m\u001b[0;34m(\u001b[0m\u001b[0mnfeatures\u001b[0m\u001b[0;34m)\u001b[0m\u001b[0;34m)\u001b[0m\u001b[0;34m\u001b[0m\u001b[0;34m\u001b[0m\u001b[0m\n\u001b[1;32m      4\u001b[0m \u001b[0;34m\u001b[0m\u001b[0m\n\u001b[1;32m      5\u001b[0m \u001b[0mfig\u001b[0m\u001b[0;34m,\u001b[0m \u001b[0maxarr\u001b[0m \u001b[0;34m=\u001b[0m \u001b[0mplt\u001b[0m\u001b[0;34m.\u001b[0m\u001b[0msubplots\u001b[0m\u001b[0;34m(\u001b[0m\u001b[0;36m3\u001b[0m\u001b[0;34m,\u001b[0m\u001b[0mlen\u001b[0m\u001b[0;34m(\u001b[0m\u001b[0mexamples_id\u001b[0m\u001b[0;34m)\u001b[0m\u001b[0;34m,\u001b[0m \u001b[0mfigsize\u001b[0m\u001b[0;34m=\u001b[0m\u001b[0;34m(\u001b[0m\u001b[0;36m16\u001b[0m\u001b[0;34m,\u001b[0m\u001b[0;36m5\u001b[0m\u001b[0;34m)\u001b[0m\u001b[0;34m)\u001b[0m\u001b[0;34m\u001b[0m\u001b[0;34m\u001b[0m\u001b[0m\n",
            "\u001b[0;32m<ipython-input-14-0ea73d5e3862>\u001b[0m in \u001b[0;36mextractFeature\u001b[0;34m(img, vis)\u001b[0m\n\u001b[1;32m      9\u001b[0m \u001b[0;32mdef\u001b[0m \u001b[0mextractFeature\u001b[0m\u001b[0;34m(\u001b[0m\u001b[0mimg\u001b[0m\u001b[0;34m,\u001b[0m \u001b[0mvis\u001b[0m\u001b[0;34m=\u001b[0m\u001b[0;32mFalse\u001b[0m\u001b[0;34m)\u001b[0m\u001b[0;34m:\u001b[0m\u001b[0;34m\u001b[0m\u001b[0;34m\u001b[0m\u001b[0m\n\u001b[1;32m     10\u001b[0m     \u001b[0;32mfrom\u001b[0m \u001b[0mskimage\u001b[0m\u001b[0;34m.\u001b[0m\u001b[0mfeature\u001b[0m \u001b[0;32mimport\u001b[0m \u001b[0mhog\u001b[0m\u001b[0;34m\u001b[0m\u001b[0;34m\u001b[0m\u001b[0m\n\u001b[0;32m---> 11\u001b[0;31m     \u001b[0;32mreturn\u001b[0m \u001b[0mhog\u001b[0m\u001b[0;34m(\u001b[0m\u001b[0mimg\u001b[0m\u001b[0;34m,\u001b[0m \u001b[0morientations\u001b[0m\u001b[0;34m,\u001b[0m \u001b[0mpixels_per_cell\u001b[0m\u001b[0;34m,\u001b[0m \u001b[0mcells_per_block\u001b[0m\u001b[0;34m,\u001b[0m \u001b[0mblock_norm\u001b[0m\u001b[0;34m,\u001b[0m \u001b[0mvisualise\u001b[0m\u001b[0;34m=\u001b[0m\u001b[0mvis\u001b[0m\u001b[0;34m,\u001b[0m \u001b[0mtransform_sqrt\u001b[0m\u001b[0;34m=\u001b[0m\u001b[0mnormalize\u001b[0m\u001b[0;34m)\u001b[0m\u001b[0;34m\u001b[0m\u001b[0;34m\u001b[0m\u001b[0m\n\u001b[0m",
            "\u001b[0;31mTypeError\u001b[0m: hog() got an unexpected keyword argument 'visualise'"
          ]
        }
      ]
    },
    {
      "cell_type": "markdown",
      "source": [
        "# Applied PCA to the Features of Cifar"
      ],
      "metadata": {
        "id": "FU7szjby30N5"
      }
    },
    {
      "cell_type": "code",
      "source": [
        "pca = PCA()\n",
        "pca.fit_transform(x_train)"
      ],
      "metadata": {
        "id": "yA6KGONg3v_5"
      },
      "execution_count": null,
      "outputs": []
    }
  ]
}