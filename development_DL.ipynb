{
  "cells": [
    {
      "cell_type": "markdown",
      "metadata": {
        "id": "view-in-github",
        "colab_type": "text"
      },
      "source": [
        "<a href=\"https://colab.research.google.com/github/EmilyCY/CIFAR10-Image-Classification/blob/Andrew/development_DL.ipynb\" target=\"_parent\"><img src=\"https://colab.research.google.com/assets/colab-badge.svg\" alt=\"Open In Colab\"/></a>"
      ]
    },
    {
      "cell_type": "code",
      "execution_count": 1,
      "metadata": {
        "colab": {
          "base_uri": "https://localhost:8080/",
          "height": 185
        },
        "id": "8FHS7NtS-alc",
        "outputId": "6785881c-0641-41ba-e8ce-89ae0f48c9c5"
      },
      "outputs": [
        {
          "output_type": "execute_result",
          "data": {
            "text/plain": [
              "'\\n1-Data: data pre-processing was not done much on. As the sample dataset is large with 50,000 train, 10,000 test. \\nAlong with images being clear of only having the single picture, no extra or changes where needed to be made to the dataset.\\n2-Formulate the problem: The Deep Learning task is image classfification, being able to identify objects. Manually set 10 different objects,\\nfor the model to try and predict. This is the aim of the task. Using neural networks to train the images to find out,\\nwhich images belong to the classes.\\n2-DL Framework: The framework that was selected to be used was PyTorch. With being an popular framework, as well having in built features,\\nIn the frame to help with creating a Deep Learning Model.\\n3-Data Partitioning.Used the default split that CIFAR10 provides, with 50,000 train and 10,000 test data. Used PyTorch \\ninbuilt method torchvision to download the dataset.\\n4-DL Architecture: ResNet has been selected as the architecture used for this project. This was a major architecture which,\\nhas been used many times over the years. Had support and exmaple on how to set it up with different layers. \\n5-Train DL model on CIFAR-10 dataset: Setup the 10 classifier object cateogires when downloaded the code. Set the training,\\nto go through each of the layers, set amount of training in iterations for the models to gain higher accuracy and less,\\ntraining loss after each time used.\\n6-For final layer used a pre-trained ResNet model, used ResNet to be the same as our neural network we have made. \\nThe data it is trained on is from ImageNet. The reason why we have picked a pre-trained over doing it with our model is.\\nThe pre-trained has already been used on million of images from ImageNet. This going to have a better chance at acheving,\\nhigher results compared to our model only being used on the CIFAR-10 dataset.\\n7-Performance evulation: This done with printing, accuracy scores, confustion matrix as well as training losses and displaying,\\nsome results of the predictions that were made\\nneed to see if there is in built functions or if what was provided is the only way\\n'"
            ],
            "application/vnd.google.colaboratory.intrinsic+json": {
              "type": "string"
            }
          },
          "metadata": {},
          "execution_count": 1
        }
      ],
      "source": [
        "'''\n",
        "Andrew Plapp 102105619 Self-Assessment 1.00 Very Good. Contributed ideas and developed key code for developing resnet, including debugging as well doing performance metircs\n",
        "Kristian Stapley 103322927 Self-Assessment 0.80 Good. Contributed ideas and developed working alternate code including debugging\n",
        "Dhvanit Vavdiya 102867595 Self_Assessment 0.80 Good. Contribute to Find different model and Architecture of DL and working in alternate code to find out that which one better to use for CIFAR-10.\n",
        "'''\n",
        "\n",
        "'''\n",
        "1-Data: data pre-processing was not done much on. As the sample dataset is large with 50,000 train, 10,000 test. \n",
        "Along with images being clear of only having the single picture, no extra or changes where needed to be made to the dataset.\n",
        "2-Formulate the problem: The Deep Learning task is image classfification, being able to identify objects. Manually set 10 different objects,\n",
        "for the model to try and predict. This is the aim of the task. Using neural networks to train the images to find out,\n",
        "which images belong to the classes.\n",
        "2-DL Framework: The framework that was selected to be used was PyTorch. With being an popular framework, as well having in built features,\n",
        "In the frame to help with creating a Deep Learning Model.\n",
        "3-Data Partitioning.Used the default split that CIFAR10 provides, with 50,000 train and 10,000 test data. Used PyTorch \n",
        "inbuilt method torchvision to download the dataset.\n",
        "4-DL Architecture: ResNet has been selected as the architecture used for this project. This was a major architecture which,\n",
        "has been used many times over the years. Had support and exmaple on how to set it up with different layers. \n",
        "5-Train DL model on CIFAR-10 dataset: Setup the 10 classifier object cateogires when downloaded the code. Set the training,\n",
        "to go through each of the layers, set amount of training in iterations for the models to gain higher accuracy and less,\n",
        "training loss after each time used.\n",
        "6-For final layer used a pre-trained ResNet model, used ResNet to be the same as our neural network we have made. \n",
        "The data it is trained on is from ImageNet. The reason why we have picked a pre-trained over doing it with our model is.\n",
        "The pre-trained has already been used on million of images from ImageNet. This going to have a better chance at acheving,\n",
        "higher results compared to our model only being used on the CIFAR-10 dataset.\n",
        "7-Performance evulation: This done with printing, accuracy scores, confustion matrix as well as training losses and displaying,\n",
        "some results of the predictions that were made\n",
        "need to see if there is in built functions or if what was provided is the only way\n",
        "'''"
      ]
    },
    {
      "cell_type": "markdown",
      "metadata": {
        "id": "-_oCLYv9Coeb"
      },
      "source": [
        "ResNet"
      ]
    },
    {
      "cell_type": "code",
      "execution_count": 2,
      "metadata": {
        "id": "m4huS6MLCqWC"
      },
      "outputs": [],
      "source": [
        "from __future__ import print_function\n",
        "\n",
        "import os\n",
        "import torch\n",
        "import torch.nn as nn\n",
        "import torch.optim as optim\n",
        "import torchvision\n",
        "import torchvision.transforms as transforms"
      ]
    },
    {
      "cell_type": "code",
      "execution_count": 3,
      "metadata": {
        "id": "jfJI_jFfC04r"
      },
      "outputs": [],
      "source": [
        "transform = transforms.Compose([\n",
        "    # To flip an image horizontally in a random fashion with a given probability\n",
        "    transforms.RandomHorizontalFlip(),\n",
        "    # it works for the image, whose elements are in range 0 to 255.\n",
        "    transforms.ToTensor(),\n",
        "    transforms.Normalize((0.5, 0.5, 0.5), (0.5, 0.5, 0.5)),\n",
        "])"
      ]
    },
    {
      "cell_type": "code",
      "execution_count": 4,
      "metadata": {
        "colab": {
          "base_uri": "https://localhost:8080/",
          "height": 533,
          "referenced_widgets": [
            "23aece76cc9e4405a577bc30d1ed6807",
            "94395e445f57403e8e2fedcc0c6517f1",
            "167118f062ea4c66b2891202a91af073",
            "8de0dff6d3624c54af983b0538b2d0d4",
            "ff7a0797cde84b1780843309d2332c03",
            "c4ee57aed2e74f999f8412e6ea0f2dd1",
            "911d1ab873a349a8992203ca606866b5",
            "b61c47e0960c49dca3c7379eec0174e4",
            "f502c3647dae4a60a440a2cc6147b88b",
            "9323c52e807c46fabe2197bf0bbff610",
            "200ce59b9ba14c309f0e4f950b0beeab"
          ]
        },
        "id": "piRI_qWsC4KU",
        "outputId": "c5bbb56e-b3ca-43b5-8761-e5a3644fb988"
      },
      "outputs": [
        {
          "output_type": "stream",
          "name": "stdout",
          "text": [
            "Downloading https://www.cs.toronto.edu/~kriz/cifar-10-python.tar.gz to ./datasets/cifar-10-python.tar.gz\n"
          ]
        },
        {
          "output_type": "display_data",
          "data": {
            "text/plain": [
              "  0%|          | 0/170498071 [00:00<?, ?it/s]"
            ],
            "application/vnd.jupyter.widget-view+json": {
              "version_major": 2,
              "version_minor": 0,
              "model_id": "23aece76cc9e4405a577bc30d1ed6807"
            }
          },
          "metadata": {}
        },
        {
          "output_type": "stream",
          "name": "stdout",
          "text": [
            "Extracting ./datasets/cifar-10-python.tar.gz to ./datasets\n",
            "Files already downloaded and verified\n",
            "Dataset CIFAR10\n",
            "    Number of datapoints: 50000\n",
            "    Root location: ./datasets\n",
            "    Split: Train\n",
            "    StandardTransform\n",
            "Transform: Compose(\n",
            "               RandomHorizontalFlip(p=0.5)\n",
            "               ToTensor()\n",
            "               Normalize(mean=(0.5, 0.5, 0.5), std=(0.5, 0.5, 0.5))\n",
            "           )\n",
            "Dataset CIFAR10\n",
            "    Number of datapoints: 10000\n",
            "    Root location: ./datasets\n",
            "    Split: Test\n",
            "    StandardTransform\n",
            "Transform: Compose(\n",
            "               RandomHorizontalFlip(p=0.5)\n",
            "               ToTensor()\n",
            "               Normalize(mean=(0.5, 0.5, 0.5), std=(0.5, 0.5, 0.5))\n",
            "           )\n"
          ]
        },
        {
          "output_type": "stream",
          "name": "stderr",
          "text": [
            "/usr/local/lib/python3.7/dist-packages/torch/utils/data/dataloader.py:490: UserWarning: This DataLoader will create 4 worker processes in total. Our suggested max number of worker in current system is 2, which is smaller than what this DataLoader is going to create. Please be aware that excessive worker creation might get DataLoader running slow or even freeze, lower the worker number to avoid potential slowness/freeze if necessary.\n",
            "  cpuset_checked))\n"
          ]
        }
      ],
      "source": [
        "\n",
        "\n",
        "train_set = torchvision.datasets.CIFAR10('./datasets', train=True, \n",
        "                                         download=True, transform=transform)\n",
        "test_set = torchvision.datasets.CIFAR10('./datasets', train=False, \n",
        "                                        download=True, transform=transform)\n",
        "\n",
        "# DataLoader() supports both map-style and iterable-style datasets with single- or multi-process loading, customizing loading order and optional automatic batching (collation) and memory pinning.\n",
        "train_loader = torch.utils.data.DataLoader(train_set, batch_size=128, \n",
        "                                           shuffle=True, num_workers=4)\n",
        "test_loader = torch.utils.data.DataLoader(test_set, batch_size=100, \n",
        "                                          shuffle=False, num_workers=4)\n",
        "\n",
        "classes = ('plane', 'car', 'bird', 'cat', 'deer',\n",
        "           'dog', 'frog', 'horse', 'ship', 'truck')\n",
        "\n",
        "print(train_set)\n",
        "print(test_set)"
      ]
    },
    {
      "cell_type": "code",
      "source": [
        "import matplotlib.pyplot as plt\n",
        "import numpy as np\n",
        "\n",
        "def imshow(img):\n",
        "    img = img / 2 + 0.5\n",
        "    plt.imshow(np.transpose(img.numpy(), (1, 2, 0)))\n",
        "    plt.show()\n",
        "    \n",
        "image_iter = iter(train_loader)\n",
        "images, _ = image_iter.next()\n",
        "imshow(torchvision.utils.make_grid(images[:4]))"
      ],
      "metadata": {
        "colab": {
          "base_uri": "https://localhost:8080/",
          "height": 195
        },
        "id": "mcs5QJAG9H__",
        "outputId": "890eeea5-5574-4749-8628-d593af78dcef"
      },
      "execution_count": 6,
      "outputs": [
        {
          "output_type": "stream",
          "name": "stderr",
          "text": [
            "/usr/local/lib/python3.7/dist-packages/torch/utils/data/dataloader.py:490: UserWarning: This DataLoader will create 4 worker processes in total. Our suggested max number of worker in current system is 2, which is smaller than what this DataLoader is going to create. Please be aware that excessive worker creation might get DataLoader running slow or even freeze, lower the worker number to avoid potential slowness/freeze if necessary.\n",
            "  cpuset_checked))\n"
          ]
        },
        {
          "output_type": "display_data",
          "data": {
            "text/plain": [
              "<Figure size 432x288 with 1 Axes>"
            ],
            "image/png": "[encoded data removed]"
          },
          "metadata": {
            "needs_background": "light"
          }
        }
      ]
    },
    {
      "cell_type": "code",
      "execution_count": 7,
      "metadata": {
        "colab": {
          "base_uri": "https://localhost:8080/"
        },
        "id": "QvQvycWEDDic",
        "outputId": "062a2af5-8d07-4bac-cdc0-5a03b292e32a"
      },
      "outputs": [
        {
          "output_type": "stream",
          "name": "stdout",
          "text": [
            "cuda\n"
          ]
        }
      ],
      "source": [
        "# cuda is used to set up and run CUDA operations. It keeps track of the currently selected GPU, and all CUDA tensors you allocate will by default be created on that device.\n",
        "device = 'cuda' if torch.cuda.is_available() else 'cpu'\n",
        "# device = torch.device('cpu')\n",
        "print(device)"
      ]
    },
    {
      "cell_type": "code",
      "execution_count": 8,
      "metadata": {
        "id": "QuWnBaZRDHvy"
      },
      "outputs": [],
      "source": [
        "class BasicBlock(nn.Module):\n",
        "    \"\"\"\n",
        "    For shallow networks, \n",
        "    we use basic Blocks \n",
        "    The base block has no dimension compression, \n",
        "    so aspect=1\n",
        "    \"\"\"\n",
        "    expansion = 1\n",
        "    \n",
        "    def __init__(self, in_channels, out_channels, stride=1):\n",
        "        super(BasicBlock, self).__init__()\n",
        "        # sequential is, one of the classes that are used to create the PyTorch neural networks without any explicit class.\n",
        "        self.features = nn.Sequential(\n",
        "            nn.Conv2d(in_channels, out_channels, kernel_size=3, stride=stride, padding=1, bias=False),\n",
        "            # BatchNorm2d - Use the PyTorch BatchNorm2d Module to accelerate Deep Network training by reducing internal covariate shift\n",
        "            nn.BatchNorm2d(out_channels),\n",
        "            # The activation function is a class in PyTorch that helps to convert linear function to non-linear and converts complex data into simple functions so that it can be solved easily.\n",
        "            nn.ReLU(inplace=True),\n",
        "            nn.Conv2d(out_channels, out_channels, kernel_size=3, stride=1, padding=1, bias=False),\n",
        "            nn.BatchNorm2d(out_channels)\n",
        "        )\n",
        "        # If the input and output dimensions are unequal, \n",
        "        #a 1x1 convolutional layer is used to change the dimensions\n",
        "        self.shortcut = nn.Sequential()\n",
        "        if stride != 1 or in_channels != self.expansion * out_channels:\n",
        "            self.shortcut = nn.Sequential(\n",
        "                nn.Conv2d(in_channels, self.expansion * out_channels, kernel_size=1, stride=stride, bias=False),\n",
        "                nn.BatchNorm2d(self.expansion * out_channels),\n",
        "            )\n",
        "            \n",
        "    def forward(self, x):\n",
        "        out = self.features(x)\n",
        "        out += self.shortcut(x)\n",
        "        out = torch.relu(out)\n",
        "        return out"
      ]
    },
    {
      "cell_type": "code",
      "execution_count": 9,
      "metadata": {
        "id": "r3ZOu0WhDbC7"
      },
      "outputs": [],
      "source": [
        "class ResNet(nn.Module):\n",
        "\n",
        "    def __init__(self, block, num_blocks, num_classes=10):\n",
        "        super(ResNet, self).__init__()\n",
        "        self.in_channels = 64\n",
        "        self.features = nn.Sequential(\n",
        "            nn.Conv2d(3, 64, kernel_size=3, stride=1, padding=1, bias=False),\n",
        "            nn.BatchNorm2d(64),\n",
        "            nn.ReLU(inplace=True)\n",
        "        )\n",
        "        self.layer1 = self._make_layer(block, 64, num_blocks[0], stride=1)\n",
        "        self.layer2 = self._make_layer(block, 128, num_blocks[1], stride=2)\n",
        "        self.layer3 = self._make_layer(block, 256, num_blocks[2], stride=2)\n",
        "        self.layer4 = self._make_layer(block, 512, num_blocks[3], stride=2)\n",
        "       # nettest = resnet50(pretrained=True, feature_extract = True)\n",
        "\n",
        "        # Cifar10 after the above structure, \n",
        "        # the characteristic map size here is 4 x 4 x 512 x expansion\n",
        "        # So here is an average pooling of 4 x 4\n",
        "        self.avg_pool = nn.AvgPool2d(kernel_size=4)\n",
        "        self.classifer = nn.Linear(512 * block.expansion, num_classes)\n",
        "\n",
        "\n",
        "        \n",
        "    def _make_layer(self, block, out_channels, num_blocks, stride):\n",
        "        # The first block is downsampled\n",
        "        strides = [stride] + [1] * (num_blocks - 1)\n",
        "        layers = []\n",
        "        for stride in strides:\n",
        "            layers.append(block(self.in_channels, out_channels, stride))\n",
        "            # If it is a Crossbow Block, \n",
        "            # the dimensions entered in each layer need to be compressed, \n",
        "            # and the dimensions need to be compressed and then increased\n",
        "            # Therefore, \n",
        "            # the input dimension of each layer must also change\n",
        "            self.in_channels = out_channels * block.expansion\n",
        "        return nn.Sequential(*layers)\n",
        "    \n",
        "    def forward(self, x):\n",
        "        out = self.features(x)\n",
        "        out = self.layer1(out)\n",
        "        out = self.layer2(out)\n",
        "        out = self.layer3(out)\n",
        "        out = self.layer4(out)\n",
        "        out = self.avg_pool(out)\n",
        "        out = out.view(out.size(0), -1)\n",
        "        out = self.classifer(out)\n",
        "        return out"
      ]
    },
    {
      "cell_type": "code",
      "execution_count": 10,
      "metadata": {
        "id": "ujgzeN76DdeL"
      },
      "outputs": [],
      "source": [
        "def ResNet18():\n",
        "    return ResNet(BasicBlock, [2,2,2,2])"
      ]
    },
    {
      "cell_type": "code",
      "execution_count": 11,
      "metadata": {
        "colab": {
          "base_uri": "https://localhost:8080/"
        },
        "id": "Z26bKh_SDjMB",
        "outputId": "a912d84f-efc7-4ec5-96b6-a9beffae2493"
      },
      "outputs": [
        {
          "output_type": "stream",
          "name": "stdout",
          "text": [
            "ResNet(\n",
            "  (features): Sequential(\n",
            "    (0): Conv2d(3, 64, kernel_size=(3, 3), stride=(1, 1), padding=(1, 1), bias=False)\n",
            "    (1): BatchNorm2d(64, eps=1e-05, momentum=0.1, affine=True, track_running_stats=True)\n",
            "    (2): ReLU(inplace=True)\n",
            "  )\n",
            "  (layer1): Sequential(\n",
            "    (0): BasicBlock(\n",
            "      (features): Sequential(\n",
            "        (0): Conv2d(64, 64, kernel_size=(3, 3), stride=(1, 1), padding=(1, 1), bias=False)\n",
            "        (1): BatchNorm2d(64, eps=1e-05, momentum=0.1, affine=True, track_running_stats=True)\n",
            "        (2): ReLU(inplace=True)\n",
            "        (3): Conv2d(64, 64, kernel_size=(3, 3), stride=(1, 1), padding=(1, 1), bias=False)\n",
            "        (4): BatchNorm2d(64, eps=1e-05, momentum=0.1, affine=True, track_running_stats=True)\n",
            "      )\n",
            "      (shortcut): Sequential()\n",
            "    )\n",
            "    (1): BasicBlock(\n",
            "      (features): Sequential(\n",
            "        (0): Conv2d(64, 64, kernel_size=(3, 3), stride=(1, 1), padding=(1, 1), bias=False)\n",
            "        (1): BatchNorm2d(64, eps=1e-05, momentum=0.1, affine=True, track_running_stats=True)\n",
            "        (2): ReLU(inplace=True)\n",
            "        (3): Conv2d(64, 64, kernel_size=(3, 3), stride=(1, 1), padding=(1, 1), bias=False)\n",
            "        (4): BatchNorm2d(64, eps=1e-05, momentum=0.1, affine=True, track_running_stats=True)\n",
            "      )\n",
            "      (shortcut): Sequential()\n",
            "    )\n",
            "  )\n",
            "  (layer2): Sequential(\n",
            "    (0): BasicBlock(\n",
            "      (features): Sequential(\n",
            "        (0): Conv2d(64, 128, kernel_size=(3, 3), stride=(2, 2), padding=(1, 1), bias=False)\n",
            "        (1): BatchNorm2d(128, eps=1e-05, momentum=0.1, affine=True, track_running_stats=True)\n",
            "        (2): ReLU(inplace=True)\n",
            "        (3): Conv2d(128, 128, kernel_size=(3, 3), stride=(1, 1), padding=(1, 1), bias=False)\n",
            "        (4): BatchNorm2d(128, eps=1e-05, momentum=0.1, affine=True, track_running_stats=True)\n",
            "      )\n",
            "      (shortcut): Sequential(\n",
            "        (0): Conv2d(64, 128, kernel_size=(1, 1), stride=(2, 2), bias=False)\n",
            "        (1): BatchNorm2d(128, eps=1e-05, momentum=0.1, affine=True, track_running_stats=True)\n",
            "      )\n",
            "    )\n",
            "    (1): BasicBlock(\n",
            "      (features): Sequential(\n",
            "        (0): Conv2d(128, 128, kernel_size=(3, 3), stride=(1, 1), padding=(1, 1), bias=False)\n",
            "        (1): BatchNorm2d(128, eps=1e-05, momentum=0.1, affine=True, track_running_stats=True)\n",
            "        (2): ReLU(inplace=True)\n",
            "        (3): Conv2d(128, 128, kernel_size=(3, 3), stride=(1, 1), padding=(1, 1), bias=False)\n",
            "        (4): BatchNorm2d(128, eps=1e-05, momentum=0.1, affine=True, track_running_stats=True)\n",
            "      )\n",
            "      (shortcut): Sequential()\n",
            "    )\n",
            "  )\n",
            "  (layer3): Sequential(\n",
            "    (0): BasicBlock(\n",
            "      (features): Sequential(\n",
            "        (0): Conv2d(128, 256, kernel_size=(3, 3), stride=(2, 2), padding=(1, 1), bias=False)\n",
            "        (1): BatchNorm2d(256, eps=1e-05, momentum=0.1, affine=True, track_running_stats=True)\n",
            "        (2): ReLU(inplace=True)\n",
            "        (3): Conv2d(256, 256, kernel_size=(3, 3), stride=(1, 1), padding=(1, 1), bias=False)\n",
            "        (4): BatchNorm2d(256, eps=1e-05, momentum=0.1, affine=True, track_running_stats=True)\n",
            "      )\n",
            "      (shortcut): Sequential(\n",
            "        (0): Conv2d(128, 256, kernel_size=(1, 1), stride=(2, 2), bias=False)\n",
            "        (1): BatchNorm2d(256, eps=1e-05, momentum=0.1, affine=True, track_running_stats=True)\n",
            "      )\n",
            "    )\n",
            "    (1): BasicBlock(\n",
            "      (features): Sequential(\n",
            "        (0): Conv2d(256, 256, kernel_size=(3, 3), stride=(1, 1), padding=(1, 1), bias=False)\n",
            "        (1): BatchNorm2d(256, eps=1e-05, momentum=0.1, affine=True, track_running_stats=True)\n",
            "        (2): ReLU(inplace=True)\n",
            "        (3): Conv2d(256, 256, kernel_size=(3, 3), stride=(1, 1), padding=(1, 1), bias=False)\n",
            "        (4): BatchNorm2d(256, eps=1e-05, momentum=0.1, affine=True, track_running_stats=True)\n",
            "      )\n",
            "      (shortcut): Sequential()\n",
            "    )\n",
            "  )\n",
            "  (layer4): Sequential(\n",
            "    (0): BasicBlock(\n",
            "      (features): Sequential(\n",
            "        (0): Conv2d(256, 512, kernel_size=(3, 3), stride=(2, 2), padding=(1, 1), bias=False)\n",
            "        (1): BatchNorm2d(512, eps=1e-05, momentum=0.1, affine=True, track_running_stats=True)\n",
            "        (2): ReLU(inplace=True)\n",
            "        (3): Conv2d(512, 512, kernel_size=(3, 3), stride=(1, 1), padding=(1, 1), bias=False)\n",
            "        (4): BatchNorm2d(512, eps=1e-05, momentum=0.1, affine=True, track_running_stats=True)\n",
            "      )\n",
            "      (shortcut): Sequential(\n",
            "        (0): Conv2d(256, 512, kernel_size=(1, 1), stride=(2, 2), bias=False)\n",
            "        (1): BatchNorm2d(512, eps=1e-05, momentum=0.1, affine=True, track_running_stats=True)\n",
            "      )\n",
            "    )\n",
            "    (1): BasicBlock(\n",
            "      (features): Sequential(\n",
            "        (0): Conv2d(512, 512, kernel_size=(3, 3), stride=(1, 1), padding=(1, 1), bias=False)\n",
            "        (1): BatchNorm2d(512, eps=1e-05, momentum=0.1, affine=True, track_running_stats=True)\n",
            "        (2): ReLU(inplace=True)\n",
            "        (3): Conv2d(512, 512, kernel_size=(3, 3), stride=(1, 1), padding=(1, 1), bias=False)\n",
            "        (4): BatchNorm2d(512, eps=1e-05, momentum=0.1, affine=True, track_running_stats=True)\n",
            "      )\n",
            "      (shortcut): Sequential()\n",
            "    )\n",
            "  )\n",
            "  (avg_pool): AvgPool2d(kernel_size=4, stride=4, padding=0)\n",
            "  (classifer): Linear(in_features=512, out_features=10, bias=True)\n",
            ")\n"
          ]
        }
      ],
      "source": [
        "net = ResNet18().to(device)\n",
        "print(net)\n",
        "if device == 'cuda':\n",
        "    net = nn.DataParallel(net)\n",
        "    # Performance can be improved when the computational graph does not change \n",
        "    # (the model does not change each time the input shape is the same), \n",
        "    # and vice versa\n",
        "    torch.backends.cudnn.benchmark = True"
      ]
    },
    {
      "cell_type": "code",
      "execution_count": 12,
      "metadata": {
        "id": "PC8zNqfyDvB5"
      },
      "outputs": [],
      "source": [
        "lr = 1e-1\n",
        "momentum = 0.9\n",
        "weight_decay = 5e-4\n",
        "\n",
        "# CrossEntropyLoss class torch.nn.CrossEntropyLoss(weight=None, size_average=None, ignore_index=- 100, reduce=None, reduction='mean', label_smoothing=0.0). This criterion computes the cross entropy loss between input and target. \n",
        "criterion = nn.CrossEntropyLoss()\n",
        "optimizer = optim.SGD(net.parameters(), lr=lr, momentum=momentum, weight_decay=weight_decay)\n",
        "scheduler = optim.lr_scheduler.ReduceLROnPlateau(optimizer, threshold=0.1, patience=3, verbose=True)"
      ]
    },
    {
      "cell_type": "code",
      "execution_count": 13,
      "metadata": {
        "id": "KDIK_V_TD0Og"
      },
      "outputs": [],
      "source": [
        "# Training\n",
        "def train(epoch):\n",
        "    print('\\nEpoch: %d' % (epoch))\n",
        "    net.train()\n",
        "    train_loss = 0\n",
        "    correct = 0\n",
        "    total = 0\n",
        "    for batch_idx, (inputs, targets) in enumerate(train_loader):\n",
        "        inputs, targets = inputs.to(device), targets.to(device)\n",
        "        optimizer.zero_grad() # it is accumulated in buffers while building a neural network\n",
        "        outputs = net(inputs)\n",
        "        loss = criterion(outputs, targets) # This criterion computes the cross entropy loss between input and target.\n",
        "        loss.backward() # The backward () method is used to compute the gradient during the backward pass in a neural network.\n",
        "        optimizer.step() # it performs a single optimization step (parameter update).\n",
        "\n",
        "        train_loss += loss.item()\n",
        "        _, predicted = outputs.max(1)\n",
        "        total += targets.size(0)\n",
        "        correct += predicted.eq(targets).sum().item()\n",
        "        if batch_idx % 100 == 99:    # print every 100 mini-batches\n",
        "            print('[%d, %5d] loss: %.6f |  Acc: %.3f%% (%d/%d)' %\n",
        "                  (epoch + 1, batch_idx + 1, train_loss, 100.*correct/total, correct, total))\n",
        "    return train_loss"
      ]
    },
    {
      "cell_type": "code",
      "execution_count": 14,
      "metadata": {
        "colab": {
          "base_uri": "https://localhost:8080/",
          "height": 1000
        },
        "id": "uiL7guRED8fC",
        "outputId": "c4df6055-9e9d-43ca-dbfa-04a6f69bb0d8"
      },
      "outputs": [
        {
          "output_type": "stream",
          "name": "stdout",
          "text": [
            "\n",
            "Epoch: 0\n"
          ]
        },
        {
          "output_type": "stream",
          "name": "stderr",
          "text": [
            "/usr/local/lib/python3.7/dist-packages/torch/utils/data/dataloader.py:490: UserWarning: This DataLoader will create 4 worker processes in total. Our suggested max number of worker in current system is 2, which is smaller than what this DataLoader is going to create. Please be aware that excessive worker creation might get DataLoader running slow or even freeze, lower the worker number to avoid potential slowness/freeze if necessary.\n",
            "  cpuset_checked))\n"
          ]
        },
        {
          "output_type": "stream",
          "name": "stdout",
          "text": [
            "[1,   100] loss: 224.327718 |  Acc: 24.547% (3142/12800)\n",
            "[1,   200] loss: 394.367438 |  Acc: 30.582% (7829/25600)\n",
            "[1,   300] loss: 545.720114 |  Acc: 35.102% (13479/38400)\n",
            "Total loss: 674.736791\n",
            "\n",
            "Epoch: 1\n"
          ]
        },
        {
          "output_type": "stream",
          "name": "stderr",
          "text": [
            "/usr/local/lib/python3.7/dist-packages/torch/optim/lr_scheduler.py:920: UserWarning: The epoch parameter in `scheduler.step()` was not necessary and is being deprecated where possible. Please use `scheduler.step()` to step the scheduler. During the deprecation, if epoch is different from None, the closed form is used instead of the new chainable form, where available. Please open an issue if you are unable to replicate your use case: https://github.com/pytorch/pytorch/issues/new/choose.\n",
            "  warnings.warn(EPOCH_DEPRECATION_WARNING, UserWarning)\n"
          ]
        },
        {
          "output_type": "stream",
          "name": "stdout",
          "text": [
            "[2,   100] loss: 131.230008 |  Acc: 52.109% (6670/12800)\n",
            "[2,   200] loss: 255.065681 |  Acc: 53.793% (13771/25600)\n",
            "[2,   300] loss: 367.787471 |  Acc: 55.583% (21344/38400)\n",
            "Total loss: 466.107302\n",
            "\n",
            "Epoch: 2\n",
            "[3,   100] loss: 99.338955 |  Acc: 64.750% (8288/12800)\n",
            "[3,   200] loss: 193.060543 |  Acc: 65.832% (16853/25600)\n",
            "[3,   300] loss: 283.780110 |  Acc: 66.388% (25493/38400)\n",
            "Total loss: 360.477374\n",
            "\n",
            "Epoch: 3\n",
            "[4,   100] loss: 79.138584 |  Acc: 72.203% (9242/12800)\n",
            "[4,   200] loss: 153.648216 |  Acc: 72.828% (18644/25600)\n",
            "[4,   300] loss: 224.655798 |  Acc: 73.701% (28301/38400)\n",
            "Total loss: 287.425006\n",
            "\n",
            "Epoch: 4\n",
            "[5,   100] loss: 62.569660 |  Acc: 77.906% (9972/12800)\n",
            "[5,   200] loss: 124.388358 |  Acc: 78.195% (20018/25600)\n",
            "[5,   300] loss: 183.621112 |  Acc: 78.638% (30197/38400)\n",
            "Total loss: 237.375899\n",
            "\n",
            "Epoch: 5\n",
            "[6,   100] loss: 52.566597 |  Acc: 81.703% (10458/12800)\n",
            "[6,   200] loss: 105.461806 |  Acc: 81.598% (20889/25600)\n",
            "[6,   300] loss: 158.647615 |  Acc: 81.516% (31302/38400)\n",
            "Total loss: 206.693877\n",
            "\n",
            "Epoch: 6\n",
            "[7,   100] loss: 47.065762 |  Acc: 83.969% (10748/12800)\n",
            "[7,   200] loss: 93.591600 |  Acc: 83.875% (21472/25600)\n",
            "[7,   300] loss: 139.070926 |  Acc: 84.008% (32259/38400)\n",
            "Total loss: 182.030111\n",
            "\n",
            "Epoch: 7\n",
            "[8,   100] loss: 40.894000 |  Acc: 85.984% (11006/12800)\n",
            "[8,   200] loss: 86.827362 |  Acc: 84.988% (21757/25600)\n",
            "[8,   300] loss: 130.593506 |  Acc: 84.984% (32634/38400)\n",
            "Total loss: 169.339512\n",
            "\n",
            "Epoch: 8\n",
            "[9,   100] loss: 38.653591 |  Acc: 86.359% (11054/12800)\n",
            "[9,   200] loss: 79.945360 |  Acc: 86.004% (22017/25600)\n",
            "[9,   300] loss: 121.769520 |  Acc: 85.784% (32941/38400)\n",
            "Total loss: 159.305807\n",
            "\n",
            "Epoch: 9\n",
            "[10,   100] loss: 35.137337 |  Acc: 87.734% (11230/12800)\n",
            "[10,   200] loss: 73.765463 |  Acc: 87.207% (22325/25600)\n",
            "[10,   300] loss: 114.201511 |  Acc: 86.828% (33342/38400)\n",
            "Total loss: 150.849931\n",
            "\n",
            "Epoch: 10\n",
            "[11,   100] loss: 34.473037 |  Acc: 88.320% (11305/12800)\n",
            "[11,   200] loss: 71.518946 |  Acc: 87.828% (22484/25600)\n",
            "[11,   300] loss: 107.783126 |  Acc: 87.724% (33686/38400)\n",
            "Total loss: 142.564612\n",
            "\n",
            "Epoch: 11\n",
            "[12,   100] loss: 32.484184 |  Acc: 88.820% (11369/12800)\n",
            "[12,   200] loss: 68.511841 |  Acc: 88.195% (22578/25600)\n",
            "[12,   300] loss: 104.532867 |  Acc: 87.958% (33776/38400)\n",
            "Total loss: 137.382143\n",
            "\n",
            "Epoch: 12\n",
            "[13,   100] loss: 30.271696 |  Acc: 89.539% (11461/12800)\n",
            "[13,   200] loss: 65.896126 |  Acc: 88.484% (22652/25600)\n",
            "[13,   300] loss: 100.940946 |  Acc: 88.232% (33881/38400)\n",
            "Total loss: 133.714100\n",
            "\n",
            "Epoch: 13\n",
            "[14,   100] loss: 28.489647 |  Acc: 89.914% (11509/12800)\n",
            "[14,   200] loss: 61.094027 |  Acc: 89.168% (22827/25600)\n",
            "[14,   300] loss: 94.509921 |  Acc: 88.888% (34133/38400)\n",
            "Total loss: 124.741167\n",
            "\n",
            "Epoch: 14\n",
            "[15,   100] loss: 29.914482 |  Acc: 89.633% (11473/12800)\n",
            "[15,   200] loss: 61.204474 |  Acc: 89.379% (22881/25600)\n",
            "[15,   300] loss: 94.733931 |  Acc: 88.984% (34170/38400)\n",
            "Total loss: 125.742100\n",
            "\n",
            "Epoch: 15\n",
            "[16,   100] loss: 28.997445 |  Acc: 90.156% (11540/12800)\n",
            "[16,   200] loss: 59.243154 |  Acc: 89.883% (23010/25600)\n",
            "[16,   300] loss: 91.535050 |  Acc: 89.555% (34389/38400)\n",
            "Total loss: 121.544047\n",
            "\n",
            "Epoch: 16\n",
            "[17,   100] loss: 25.315084 |  Acc: 91.258% (11681/12800)\n",
            "[17,   200] loss: 56.438990 |  Acc: 90.293% (23115/25600)\n",
            "[17,   300] loss: 86.862555 |  Acc: 90.036% (34574/38400)\n",
            "Total loss: 117.090387\n",
            "\n",
            "Epoch: 17\n",
            "[18,   100] loss: 26.021751 |  Acc: 90.781% (11620/12800)\n",
            "[18,   200] loss: 56.338601 |  Acc: 90.156% (23080/25600)\n",
            "[18,   300] loss: 87.471206 |  Acc: 89.878% (34513/38400)\n",
            "Total loss: 114.581850\n",
            "Epoch 00017: reducing learning rate of group 0 to 1.0000e-02.\n",
            "\n",
            "Epoch: 18\n",
            "[19,   100] loss: 17.020228 |  Acc: 94.438% (12088/12800)\n",
            "[19,   200] loss: 29.976806 |  Acc: 95.195% (24370/25600)\n",
            "[19,   300] loss: 41.050246 |  Acc: 95.630% (36722/38400)\n",
            "Total loss: 50.631005\n",
            "\n",
            "Epoch: 19\n",
            "[20,   100] loss: 8.033882 |  Acc: 97.695% (12505/12800)\n",
            "[20,   200] loss: 15.826638 |  Acc: 97.746% (25023/25600)\n",
            "[20,   300] loss: 22.551432 |  Acc: 97.828% (37566/38400)\n",
            "Total loss: 29.720449\n",
            "\n",
            "Epoch: 20\n",
            "[21,   100] loss: 5.154359 |  Acc: 98.672% (12630/12800)\n",
            "[21,   200] loss: 10.314344 |  Acc: 98.629% (25249/25600)\n",
            "[21,   300] loss: 15.411385 |  Acc: 98.625% (37872/38400)\n",
            "Total loss: 20.134660\n",
            "\n",
            "Epoch: 21\n",
            "[22,   100] loss: 3.514143 |  Acc: 99.219% (12700/12800)\n",
            "[22,   200] loss: 7.160410 |  Acc: 99.129% (25377/25600)\n",
            "[22,   300] loss: 10.656077 |  Acc: 99.159% (38077/38400)\n",
            "Total loss: 13.947398\n",
            "\n",
            "Epoch: 22\n",
            "[23,   100] loss: 2.275402 |  Acc: 99.664% (12757/12800)\n",
            "[23,   200] loss: 4.645157 |  Acc: 99.578% (25492/25600)\n",
            "[23,   300] loss: 7.127240 |  Acc: 99.521% (38216/38400)\n",
            "Total loss: 9.451842\n",
            "\n",
            "Epoch: 23\n",
            "[24,   100] loss: 1.949192 |  Acc: 99.656% (12756/12800)\n",
            "[24,   200] loss: 3.715959 |  Acc: 99.668% (25515/25600)\n",
            "[24,   300] loss: 5.424250 |  Acc: 99.688% (38280/38400)\n",
            "Total loss: 6.871944\n",
            "\n",
            "Epoch: 24\n",
            "[25,   100] loss: 1.310487 |  Acc: 99.820% (12777/12800)\n",
            "[25,   200] loss: 2.549059 |  Acc: 99.832% (25557/25600)\n",
            "[25,   300] loss: 3.912801 |  Acc: 99.818% (38330/38400)\n",
            "Total loss: 5.072087\n",
            "\n",
            "Epoch: 25\n",
            "[26,   100] loss: 0.949288 |  Acc: 99.883% (12785/12800)\n",
            "[26,   200] loss: 1.909107 |  Acc: 99.883% (25570/25600)\n",
            "[26,   300] loss: 2.911396 |  Acc: 99.872% (38351/38400)\n",
            "Total loss: 3.904962\n",
            "\n",
            "Epoch: 26\n",
            "[27,   100] loss: 0.839877 |  Acc: 99.930% (12791/12800)\n",
            "[27,   200] loss: 1.538933 |  Acc: 99.941% (25585/25600)\n",
            "[27,   300] loss: 2.326881 |  Acc: 99.945% (38379/38400)\n",
            "Total loss: 3.010930\n",
            "\n",
            "Epoch: 27\n",
            "[28,   100] loss: 0.658408 |  Acc: 99.953% (12794/12800)\n",
            "[28,   200] loss: 1.311311 |  Acc: 99.953% (25588/25600)\n",
            "[28,   300] loss: 1.932426 |  Acc: 99.956% (38383/38400)\n",
            "Total loss: 2.541132\n",
            "\n",
            "Epoch: 28\n",
            "[29,   100] loss: 0.547323 |  Acc: 99.992% (12799/12800)\n",
            "[29,   200] loss: 1.058132 |  Acc: 99.977% (25594/25600)\n",
            "[29,   300] loss: 1.580409 |  Acc: 99.974% (38390/38400)\n",
            "Total loss: 2.110499\n",
            "\n",
            "Epoch: 29\n",
            "[30,   100] loss: 0.438137 |  Acc: 99.992% (12799/12800)\n",
            "[30,   200] loss: 0.925720 |  Acc: 99.992% (25598/25600)\n",
            "[30,   300] loss: 1.426563 |  Acc: 99.984% (38394/38400)\n",
            "Total loss: 1.849545\n",
            "\n",
            "Epoch: 30\n",
            "[31,   100] loss: 0.423372 |  Acc: 99.992% (12799/12800)\n",
            "[31,   200] loss: 0.822210 |  Acc: 99.996% (25599/25600)\n",
            "[31,   300] loss: 1.237138 |  Acc: 99.992% (38397/38400)\n",
            "Total loss: 1.608257\n",
            "\n",
            "Epoch: 31\n",
            "[32,   100] loss: 0.369026 |  Acc: 100.000% (12800/12800)\n",
            "[32,   200] loss: 0.747353 |  Acc: 100.000% (25600/25600)\n",
            "[32,   300] loss: 1.103230 |  Acc: 100.000% (38400/38400)\n",
            "Total loss: 1.425847\n",
            "\n",
            "Epoch: 32\n",
            "[33,   100] loss: 0.332701 |  Acc: 100.000% (12800/12800)\n",
            "[33,   200] loss: 0.667830 |  Acc: 100.000% (25600/25600)\n",
            "[33,   300] loss: 1.015535 |  Acc: 100.000% (38400/38400)\n",
            "Total loss: 1.330061\n",
            "\n",
            "Epoch: 33\n",
            "[34,   100] loss: 0.318805 |  Acc: 100.000% (12800/12800)\n",
            "[34,   200] loss: 0.641939 |  Acc: 100.000% (25600/25600)\n",
            "[34,   300] loss: 0.970012 |  Acc: 100.000% (38400/38400)\n",
            "Total loss: 1.284037\n",
            "\n",
            "Epoch: 34\n",
            "[35,   100] loss: 0.320548 |  Acc: 100.000% (12800/12800)\n",
            "[35,   200] loss: 0.631977 |  Acc: 100.000% (25600/25600)\n",
            "[35,   300] loss: 0.970291 |  Acc: 100.000% (38400/38400)\n",
            "Total loss: 1.256074\n",
            "\n",
            "Epoch: 35\n",
            "[36,   100] loss: 0.299659 |  Acc: 100.000% (12800/12800)\n",
            "[36,   200] loss: 0.607085 |  Acc: 100.000% (25600/25600)\n",
            "[36,   300] loss: 0.906851 |  Acc: 100.000% (38400/38400)\n",
            "Total loss: 1.177159\n",
            "\n",
            "Epoch: 36\n",
            "[37,   100] loss: 0.296714 |  Acc: 100.000% (12800/12800)\n",
            "[37,   200] loss: 0.582613 |  Acc: 100.000% (25600/25600)\n",
            "[37,   300] loss: 0.882688 |  Acc: 100.000% (38400/38400)\n",
            "Total loss: 1.163919\n",
            "\n",
            "Epoch: 37\n",
            "[38,   100] loss: 0.279708 |  Acc: 100.000% (12800/12800)\n",
            "[38,   200] loss: 0.563586 |  Acc: 100.000% (25600/25600)\n",
            "[38,   300] loss: 0.850150 |  Acc: 100.000% (38400/38400)\n",
            "Total loss: 1.135656\n",
            "\n",
            "Epoch: 38\n",
            "[39,   100] loss: 0.261696 |  Acc: 100.000% (12800/12800)\n",
            "[39,   200] loss: 0.532767 |  Acc: 100.000% (25600/25600)\n",
            "[39,   300] loss: 0.810985 |  Acc: 100.000% (38400/38400)\n",
            "Total loss: 1.096968\n",
            "\n",
            "Epoch: 39\n",
            "[40,   100] loss: 0.277859 |  Acc: 100.000% (12800/12800)\n",
            "[40,   200] loss: 0.535074 |  Acc: 100.000% (25600/25600)\n",
            "[40,   300] loss: 0.813565 |  Acc: 100.000% (38400/38400)\n",
            "Total loss: 1.067033\n",
            "\n",
            "Epoch: 40\n",
            "[41,   100] loss: 0.246725 |  Acc: 100.000% (12800/12800)\n",
            "[41,   200] loss: 0.509243 |  Acc: 100.000% (25600/25600)\n",
            "[41,   300] loss: 0.784816 |  Acc: 100.000% (38400/38400)\n",
            "Total loss: 1.015284\n",
            "\n",
            "Epoch: 41\n",
            "[42,   100] loss: 0.256049 |  Acc: 100.000% (12800/12800)\n",
            "[42,   200] loss: 0.531926 |  Acc: 100.000% (25600/25600)\n",
            "[42,   300] loss: 0.789725 |  Acc: 100.000% (38400/38400)\n",
            "Total loss: 1.032031\n",
            "\n",
            "Epoch: 42\n",
            "[43,   100] loss: 0.255352 |  Acc: 100.000% (12800/12800)\n",
            "[43,   200] loss: 0.508792 |  Acc: 100.000% (25600/25600)\n",
            "[43,   300] loss: 0.760798 |  Acc: 100.000% (38400/38400)\n",
            "Total loss: 0.991610\n",
            "Epoch 00042: reducing learning rate of group 0 to 1.0000e-03.\n",
            "\n",
            "Epoch: 43\n",
            "[44,   100] loss: 0.232695 |  Acc: 100.000% (12800/12800)\n",
            "[44,   200] loss: 0.464943 |  Acc: 100.000% (25600/25600)\n",
            "[44,   300] loss: 0.696439 |  Acc: 100.000% (38400/38400)\n",
            "Total loss: 0.904725\n",
            "\n",
            "Epoch: 44\n",
            "[45,   100] loss: 0.244783 |  Acc: 99.992% (12799/12800)\n",
            "[45,   200] loss: 0.472873 |  Acc: 99.996% (25599/25600)\n",
            "[45,   300] loss: 0.711058 |  Acc: 99.997% (38399/38400)\n",
            "Total loss: 0.936881\n",
            "\n",
            "Epoch: 45\n",
            "[46,   100] loss: 0.238259 |  Acc: 100.000% (12800/12800)\n",
            "[46,   200] loss: 0.477003 |  Acc: 100.000% (25600/25600)\n",
            "[46,   300] loss: 0.715026 |  Acc: 100.000% (38400/38400)\n",
            "Total loss: 0.921369\n",
            "\n",
            "Epoch: 46\n",
            "[47,   100] loss: 0.244309 |  Acc: 100.000% (12800/12800)\n",
            "[47,   200] loss: 0.467819 |  Acc: 100.000% (25600/25600)\n",
            "[47,   300] loss: 0.704428 |  Acc: 100.000% (38400/38400)\n",
            "Total loss: 0.915868\n",
            "\n",
            "Epoch: 47\n",
            "[48,   100] loss: 0.237979 |  Acc: 100.000% (12800/12800)\n",
            "[48,   200] loss: 0.476796 |  Acc: 100.000% (25600/25600)\n",
            "[48,   300] loss: 0.714485 |  Acc: 100.000% (38400/38400)\n",
            "Total loss: 0.946572\n",
            "Epoch 00047: reducing learning rate of group 0 to 1.0000e-04.\n",
            "\n",
            "Epoch: 48\n",
            "[49,   100] loss: 0.229447 |  Acc: 100.000% (12800/12800)\n",
            "[49,   200] loss: 0.459477 |  Acc: 100.000% (25600/25600)\n",
            "[49,   300] loss: 0.685910 |  Acc: 100.000% (38400/38400)\n",
            "Total loss: 0.888727\n",
            "\n",
            "Epoch: 49\n",
            "[50,   100] loss: 0.227766 |  Acc: 100.000% (12800/12800)\n",
            "[50,   200] loss: 0.456810 |  Acc: 100.000% (25600/25600)\n",
            "[50,   300] loss: 0.689323 |  Acc: 100.000% (38400/38400)\n",
            "Total loss: 0.907078\n",
            "\n",
            "Epoch: 49\n",
            "[50,   100] loss: 0.252632 |  Acc: 100.000% (12800/12800)\n",
            "[50,   200] loss: 0.471358 |  Acc: 100.000% (25600/25600)\n",
            "[50,   300] loss: 0.711824 |  Acc: 100.000% (38400/38400)\n",
            "22.030705451965332 seconds\n"
          ]
        },
        {
          "output_type": "display_data",
          "data": {
            "text/plain": [
              "<Figure size 432x288 with 1 Axes>"
            ],
            "image/png": "[encoded data removed]"
          },
          "metadata": {
            "needs_background": "light"
          }
        }
      ],
      "source": [
        "import time\n",
        "from array import *\n",
        "import matplotlib.pyplot as plt\n",
        "losstotal = []\n",
        "start_epoch = 0\n",
        "for epoch in range(start_epoch, 50):\n",
        "    loss = train(epoch)\n",
        "    losstotal.append(loss)\n",
        "    print('Total loss: %.6f' % loss)\n",
        "    start_epoch = epoch\n",
        "    scheduler.step(loss, epoch=epoch)\n",
        "\n",
        "t0 = time.time()\n",
        "train(epoch)\n",
        "print('{} seconds'.format(time.time() - t0))\n",
        "\n",
        "\n",
        "\n",
        "plt.plot(losstotal, color='magenta', marker='o',mfc='pink' ) #plot the data\n",
        "plt.xticks(range(0,len(losstotal)+1, 1)) #set the tick frequency on x-axis\n",
        "plt.title(\"Training Loss\")\n",
        "plt.xlabel(\"iterations\")\n",
        "plt.ylabel(\"Loss\")\n",
        "plt.show()\n"
      ]
    },
    {
      "cell_type": "code",
      "source": [
        ""
      ],
      "metadata": {
        "id": "C0zpKnRH381j"
      },
      "execution_count": 14,
      "outputs": []
    },
    {
      "cell_type": "code",
      "execution_count": 15,
      "metadata": {
        "colab": {
          "base_uri": "https://localhost:8080/",
          "height": 556
        },
        "id": "3KRSDaH-NBkq",
        "outputId": "4c00dfb9-9917-4961-eb35-3c4371a44ea3"
      },
      "outputs": [
        {
          "output_type": "stream",
          "name": "stderr",
          "text": [
            "/usr/local/lib/python3.7/dist-packages/torch/utils/data/dataloader.py:490: UserWarning: This DataLoader will create 4 worker processes in total. Our suggested max number of worker in current system is 2, which is smaller than what this DataLoader is going to create. Please be aware that excessive worker creation might get DataLoader running slow or even freeze, lower the worker number to avoid potential slowness/freeze if necessary.\n",
            "  cpuset_checked))\n"
          ]
        },
        {
          "output_type": "display_data",
          "data": {
            "text/plain": [
              "<Figure size 432x288 with 1 Axes>"
            ],
            "image/png": "[encoded data removed]"
          },
          "metadata": {
            "needs_background": "light"
          }
        },
        {
          "output_type": "stream",
          "name": "stdout",
          "text": [
            "GroundTruth:    cat  ship  ship plane\n",
            "Predicted:    cat  ship  ship plane\n",
            "Accuracy of the network on the 10000 test images: 90 %\n",
            "Accuracy of plane : 95 %\n",
            "Accuracy of   car : 98 %\n",
            "Accuracy of  bird : 85 %\n",
            "Accuracy of   cat : 77 %\n",
            "Accuracy of  deer : 89 %\n",
            "Accuracy of   dog : 84 %\n",
            "Accuracy of  frog : 96 %\n",
            "Accuracy of horse : 94 %\n",
            "Accuracy of  ship : 91 %\n",
            "Accuracy of truck : 98 %\n"
          ]
        },
        {
          "output_type": "display_data",
          "data": {
            "text/plain": [
              "<Figure size 432x288 with 1 Axes>"
            ],
            "image/png": "[encoded data removed]"
          },
          "metadata": {
            "needs_background": "light"
          }
        }
      ],
      "source": [
        "dataiter = iter(test_loader)\n",
        "images, labels = dataiter.next()\n",
        "images = images[:10]\n",
        "labels = labels[:10]\n",
        "# print images\n",
        "imshow(torchvision.utils.make_grid(images))\n",
        "print('GroundTruth: ', ' '.join('%5s' % classes[labels[j]] for j in range(4)))\n",
        "\n",
        "outputs = net(images.to(device))\n",
        "_, predicted = torch.max(outputs.cpu(), 1)\n",
        "print('Predicted: ', ' '.join('%5s' % classes[predicted[j]]\n",
        "                              for j in range(4)))\n",
        "correct = 0\n",
        "total = 0\n",
        "with torch.no_grad():\n",
        "    for data in test_loader:\n",
        "        images, labels = data\n",
        "        images, labels = images.to(device), labels.to(device)\n",
        "        outputs = net(images)\n",
        "        _, predicted = torch.max(outputs.data, 1)\n",
        "        total += labels.size(0)\n",
        "        correct += (predicted == labels).sum().item()\n",
        "\n",
        "print('Accuracy of the network on the 10000 test images: %d %%' % (\n",
        "    100 * correct / total))\n",
        "\n",
        "class_correct = list(0. for i in range(10))\n",
        "class_total = list(0. for i in range(10))\n",
        "with torch.no_grad():\n",
        "    for data in test_loader:\n",
        "        images, labels = data\n",
        "        images, labels = images.to(device), labels.to(device)\n",
        "        outputs = net(images)\n",
        "        _, predicted = torch.max(outputs, 1)\n",
        "        c = (predicted == labels).squeeze()\n",
        "        for i in range(10):\n",
        "            label = labels[i]\n",
        "            class_correct[label] += c[i].item()\n",
        "            class_total[label] += 1\n",
        "\n",
        "\n",
        "for i in range(10):\n",
        "    print('Accuracy of %5s : %2d %%' % (\n",
        "        classes[i], 100 * class_correct[i] / class_total[i]))\n",
        "    \n",
        "\n",
        "image_iter = iter(test_loader)\n",
        "images, _ = image_iter.next()\n",
        "imshow(torchvision.utils.make_grid(images[:10]))"
      ]
    },
    {
      "cell_type": "code",
      "execution_count": 16,
      "metadata": {
        "id": "us1is0v-8SOF",
        "colab": {
          "base_uri": "https://localhost:8080/",
          "height": 428
        },
        "outputId": "4b3dd15c-5515-46f0-ced2-3bb933b78aa1"
      },
      "outputs": [
        {
          "output_type": "display_data",
          "data": {
            "text/plain": [
              "<Figure size 864x504 with 2 Axes>"
            ],
            "image/png": "[encoded data removed]"
          },
          "metadata": {
            "needs_background": "light"
          }
        }
      ],
      "source": [
        "from sklearn.metrics import confusion_matrix\n",
        "import seaborn as sn\n",
        "import pandas as pd\n",
        "\n",
        "y_pred = []\n",
        "y_true = []\n",
        "\n",
        "# iterate over test data\n",
        "for inputs, labels in dataiter:\n",
        "        output = net(inputs) # Feed Network\n",
        "\n",
        "        output = (torch.max(torch.exp(output), 1)[1]).data.cpu().numpy()\n",
        "        y_pred.extend(output) # Save Prediction\n",
        "        \n",
        "        labels = labels.data.cpu().numpy()\n",
        "        y_true.extend(labels) # Save Truth\n",
        "\n",
        "# constant for classes\n",
        "classes = ('plane', 'car', 'bird', 'cat', 'deer',\n",
        "           'dog', 'frog', 'horse', 'ship', 'truck')\n",
        "\n",
        "# Build confusion matrix\n",
        "cf_matrix = confusion_matrix(y_true, y_pred)\n",
        "df_cm = pd.DataFrame(cf_matrix/np.sum(cf_matrix) *10, index = [i for i in classes],\n",
        "                     columns = [i for i in classes])\n",
        "plt.figure(figsize = (12,7))\n",
        "sn.heatmap(df_cm, annot=True)\n",
        "plt.savefig('output.png')"
      ]
    },
    {
      "cell_type": "code",
      "source": [
        "'''\n",
        "'''"
      ],
      "metadata": {
        "colab": {
          "base_uri": "https://localhost:8080/",
          "height": 36
        },
        "id": "LVMQ6Fk6PYTB",
        "outputId": "ea71bac5-a2e5-40ef-feed-6136fbbf51e7"
      },
      "execution_count": 17,
      "outputs": [
        {
          "output_type": "execute_result",
          "data": {
            "text/plain": [
              "'\\n'"
            ],
            "application/vnd.google.colaboratory.intrinsic+json": {
              "type": "string"
            }
          },
          "metadata": {},
          "execution_count": 17
        }
      ]
    }
  ],
  "metadata": {
    "colab": {
      "collapsed_sections": [],
      "name": "development_DL.ipynb",
      "provenance": [],
      "include_colab_link": true
    },
    "kernelspec": {
      "display_name": "Python 3",
      "name": "python3"
    },
    "language_info": {
      "name": "python"
    },
    "widgets": {
      "application/vnd.jupyter.widget-state+json": {
        "23aece76cc9e4405a577bc30d1ed6807": {
          "model_module": "@jupyter-widgets/controls",
          "model_name": "HBoxModel",
          "model_module_version": "1.5.0",
          "state": {
            "_dom_classes": [],
            "_model_module": "@jupyter-widgets/controls",
            "_model_module_version": "1.5.0",
            "_model_name": "HBoxModel",
            "_view_count": null,
            "_view_module": "@jupyter-widgets/controls",
            "_view_module_version": "1.5.0",
            "_view_name": "HBoxView",
            "box_style": "",
            "children": [
              "IPY_MODEL_94395e445f57403e8e2fedcc0c6517f1",
              "IPY_MODEL_167118f062ea4c66b2891202a91af073",
              "IPY_MODEL_8de0dff6d3624c54af983b0538b2d0d4"
            ],
            "layout": "IPY_MODEL_ff7a0797cde84b1780843309d2332c03"
          }
        },
        "94395e445f57403e8e2fedcc0c6517f1": {
          "model_module": "@jupyter-widgets/controls",
          "model_name": "HTMLModel",
          "model_module_version": "1.5.0",
          "state": {
            "_dom_classes": [],
            "_model_module": "@jupyter-widgets/controls",
            "_model_module_version": "1.5.0",
            "_model_name": "HTMLModel",
            "_view_count": null,
            "_view_module": "@jupyter-widgets/controls",
            "_view_module_version": "1.5.0",
            "_view_name": "HTMLView",
            "description": "",
            "description_tooltip": null,
            "layout": "IPY_MODEL_c4ee57aed2e74f999f8412e6ea0f2dd1",
            "placeholder": "​",
            "style": "IPY_MODEL_911d1ab873a349a8992203ca606866b5",
            "value": ""
          }
        },
        "167118f062ea4c66b2891202a91af073": {
          "model_module": "@jupyter-widgets/controls",
          "model_name": "FloatProgressModel",
          "model_module_version": "1.5.0",
          "state": {
            "_dom_classes": [],
            "_model_module": "@jupyter-widgets/controls",
            "_model_module_version": "1.5.0",
            "_model_name": "FloatProgressModel",
            "_view_count": null,
            "_view_module": "@jupyter-widgets/controls",
            "_view_module_version": "1.5.0",
            "_view_name": "ProgressView",
            "bar_style": "success",
            "description": "",
            "description_tooltip": null,
            "layout": "IPY_MODEL_b61c47e0960c49dca3c7379eec0174e4",
            "max": 170498071,
            "min": 0,
            "orientation": "horizontal",
            "style": "IPY_MODEL_f502c3647dae4a60a440a2cc6147b88b",
            "value": 170498071
          }
        },
        "8de0dff6d3624c54af983b0538b2d0d4": {
          "model_module": "@jupyter-widgets/controls",
          "model_name": "HTMLModel",
          "model_module_version": "1.5.0",
          "state": {
            "_dom_classes": [],
            "_model_module": "@jupyter-widgets/controls",
            "_model_module_version": "1.5.0",
            "_model_name": "HTMLModel",
            "_view_count": null,
            "_view_module": "@jupyter-widgets/controls",
            "_view_module_version": "1.5.0",
            "_view_name": "HTMLView",
            "description": "",
            "description_tooltip": null,
            "layout": "IPY_MODEL_9323c52e807c46fabe2197bf0bbff610",
            "placeholder": "​",
            "style": "IPY_MODEL_200ce59b9ba14c309f0e4f950b0beeab",
            "value": " 170499072/? [00:06&lt;00:00, 29150668.98it/s]"
          }
        },
        "ff7a0797cde84b1780843309d2332c03": {
          "model_module": "@jupyter-widgets/base",
          "model_name": "LayoutModel",
          "model_module_version": "1.2.0",
          "state": {
            "_model_module": "@jupyter-widgets/base",
            "_model_module_version": "1.2.0",
            "_model_name": "LayoutModel",
            "_view_count": null,
            "_view_module": "@jupyter-widgets/base",
            "_view_module_version": "1.2.0",
            "_view_name": "LayoutView",
            "align_content": null,
            "align_items": null,
            "align_self": null,
            "border": null,
            "bottom": null,
            "display": null,
            "flex": null,
            "flex_flow": null,
            "grid_area": null,
            "grid_auto_columns": null,
            "grid_auto_flow": null,
            "grid_auto_rows": null,
            "grid_column": null,
            "grid_gap": null,
            "grid_row": null,
            "grid_template_areas": null,
            "grid_template_columns": null,
            "grid_template_rows": null,
            "height": null,
            "justify_content": null,
            "justify_items": null,
            "left": null,
            "margin": null,
            "max_height": null,
            "max_width": null,
            "min_height": null,
            "min_width": null,
            "object_fit": null,
            "object_position": null,
            "order": null,
            "overflow": null,
            "overflow_x": null,
            "overflow_y": null,
            "padding": null,
            "right": null,
            "top": null,
            "visibility": null,
            "width": null
          }
        },
        "c4ee57aed2e74f999f8412e6ea0f2dd1": {
          "model_module": "@jupyter-widgets/base",
          "model_name": "LayoutModel",
          "model_module_version": "1.2.0",
          "state": {
            "_model_module": "@jupyter-widgets/base",
            "_model_module_version": "1.2.0",
            "_model_name": "LayoutModel",
            "_view_count": null,
            "_view_module": "@jupyter-widgets/base",
            "_view_module_version": "1.2.0",
            "_view_name": "LayoutView",
            "align_content": null,
            "align_items": null,
            "align_self": null,
            "border": null,
            "bottom": null,
            "display": null,
            "flex": null,
            "flex_flow": null,
            "grid_area": null,
            "grid_auto_columns": null,
            "grid_auto_flow": null,
            "grid_auto_rows": null,
            "grid_column": null,
            "grid_gap": null,
            "grid_row": null,
            "grid_template_areas": null,
            "grid_template_columns": null,
            "grid_template_rows": null,
            "height": null,
            "justify_content": null,
            "justify_items": null,
            "left": null,
            "margin": null,
            "max_height": null,
            "max_width": null,
            "min_height": null,
            "min_width": null,
            "object_fit": null,
            "object_position": null,
            "order": null,
            "overflow": null,
            "overflow_x": null,
            "overflow_y": null,
            "padding": null,
            "right": null,
            "top": null,
            "visibility": null,
            "width": null
          }
        },
        "911d1ab873a349a8992203ca606866b5": {
          "model_module": "@jupyter-widgets/controls",
          "model_name": "DescriptionStyleModel",
          "model_module_version": "1.5.0",
          "state": {
            "_model_module": "@jupyter-widgets/controls",
            "_model_module_version": "1.5.0",
            "_model_name": "DescriptionStyleModel",
            "_view_count": null,
            "_view_module": "@jupyter-widgets/base",
            "_view_module_version": "1.2.0",
            "_view_name": "StyleView",
            "description_width": ""
          }
        },
        "b61c47e0960c49dca3c7379eec0174e4": {
          "model_module": "@jupyter-widgets/base",
          "model_name": "LayoutModel",
          "model_module_version": "1.2.0",
          "state": {
            "_model_module": "@jupyter-widgets/base",
            "_model_module_version": "1.2.0",
            "_model_name": "LayoutModel",
            "_view_count": null,
            "_view_module": "@jupyter-widgets/base",
            "_view_module_version": "1.2.0",
            "_view_name": "LayoutView",
            "align_content": null,
            "align_items": null,
            "align_self": null,
            "border": null,
            "bottom": null,
            "display": null,
            "flex": null,
            "flex_flow": null,
            "grid_area": null,
            "grid_auto_columns": null,
            "grid_auto_flow": null,
            "grid_auto_rows": null,
            "grid_column": null,
            "grid_gap": null,
            "grid_row": null,
            "grid_template_areas": null,
            "grid_template_columns": null,
            "grid_template_rows": null,
            "height": null,
            "justify_content": null,
            "justify_items": null,
            "left": null,
            "margin": null,
            "max_height": null,
            "max_width": null,
            "min_height": null,
            "min_width": null,
            "object_fit": null,
            "object_position": null,
            "order": null,
            "overflow": null,
            "overflow_x": null,
            "overflow_y": null,
            "padding": null,
            "right": null,
            "top": null,
            "visibility": null,
            "width": null
          }
        },
        "f502c3647dae4a60a440a2cc6147b88b": {
          "model_module": "@jupyter-widgets/controls",
          "model_name": "ProgressStyleModel",
          "model_module_version": "1.5.0",
          "state": {
            "_model_module": "@jupyter-widgets/controls",
            "_model_module_version": "1.5.0",
            "_model_name": "ProgressStyleModel",
            "_view_count": null,
            "_view_module": "@jupyter-widgets/base",
            "_view_module_version": "1.2.0",
            "_view_name": "StyleView",
            "bar_color": null,
            "description_width": ""
          }
        },
        "9323c52e807c46fabe2197bf0bbff610": {
          "model_module": "@jupyter-widgets/base",
          "model_name": "LayoutModel",
          "model_module_version": "1.2.0",
          "state": {
            "_model_module": "@jupyter-widgets/base",
            "_model_module_version": "1.2.0",
            "_model_name": "LayoutModel",
            "_view_count": null,
            "_view_module": "@jupyter-widgets/base",
            "_view_module_version": "1.2.0",
            "_view_name": "LayoutView",
            "align_content": null,
            "align_items": null,
            "align_self": null,
            "border": null,
            "bottom": null,
            "display": null,
            "flex": null,
            "flex_flow": null,
            "grid_area": null,
            "grid_auto_columns": null,
            "grid_auto_flow": null,
            "grid_auto_rows": null,
            "grid_column": null,
            "grid_gap": null,
            "grid_row": null,
            "grid_template_areas": null,
            "grid_template_columns": null,
            "grid_template_rows": null,
            "height": null,
            "justify_content": null,
            "justify_items": null,
            "left": null,
            "margin": null,
            "max_height": null,
            "max_width": null,
            "min_height": null,
            "min_width": null,
            "object_fit": null,
            "object_position": null,
            "order": null,
            "overflow": null,
            "overflow_x": null,
            "overflow_y": null,
            "padding": null,
            "right": null,
            "top": null,
            "visibility": null,
            "width": null
          }
        },
        "200ce59b9ba14c309f0e4f950b0beeab": {
          "model_module": "@jupyter-widgets/controls",
          "model_name": "DescriptionStyleModel",
          "model_module_version": "1.5.0",
          "state": {
            "_model_module": "@jupyter-widgets/controls",
            "_model_module_version": "1.5.0",
            "_model_name": "DescriptionStyleModel",
            "_view_count": null,
            "_view_module": "@jupyter-widgets/base",
            "_view_module_version": "1.2.0",
            "_view_name": "StyleView",
            "description_width": ""
          }
        }
      }
    },
    "accelerator": "GPU"
  },
  "nbformat": 4,
  "nbformat_minor": 0
}