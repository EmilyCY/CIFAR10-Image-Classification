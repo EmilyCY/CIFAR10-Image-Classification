{
  "nbformat": 4,
  "nbformat_minor": 0,
  "metadata": {
    "colab": {
      "name": "ResNet.ipynb",
      "provenance": [],
      "authorship_tag": "ABX9TyNnxUEbXTZ4GJzaOgN5LDvw",
      "include_colab_link": true
    },
    "kernelspec": {
      "name": "python3",
      "display_name": "Python 3"
    },
    "language_info": {
      "name": "python"
    },
    "accelerator": "GPU",
    "widgets": {
      "application/vnd.jupyter.widget-state+json": {
        "44046ef143ce42c3b3ab108898ea3eab": {
          "model_module": "@jupyter-widgets/controls",
          "model_name": "HBoxModel",
          "model_module_version": "1.5.0",
          "state": {
            "_dom_classes": [],
            "_model_module": "@jupyter-widgets/controls",
            "_model_module_version": "1.5.0",
            "_model_name": "HBoxModel",
            "_view_count": null,
            "_view_module": "@jupyter-widgets/controls",
            "_view_module_version": "1.5.0",
            "_view_name": "HBoxView",
            "box_style": "",
            "children": [
              "IPY_MODEL_1c4a2177267941a8841d36d5c001d813",
              "IPY_MODEL_ba4a5902c1614bcf85b4a5715dfc837e",
              "IPY_MODEL_f497ed9b8d8b4b0894bf2d223738322a"
            ],
            "layout": "IPY_MODEL_aa85be55e8c648689ab451392419be02"
          }
        },
        "1c4a2177267941a8841d36d5c001d813": {
          "model_module": "@jupyter-widgets/controls",
          "model_name": "HTMLModel",
          "model_module_version": "1.5.0",
          "state": {
            "_dom_classes": [],
            "_model_module": "@jupyter-widgets/controls",
            "_model_module_version": "1.5.0",
            "_model_name": "HTMLModel",
            "_view_count": null,
            "_view_module": "@jupyter-widgets/controls",
            "_view_module_version": "1.5.0",
            "_view_name": "HTMLView",
            "description": "",
            "description_tooltip": null,
            "layout": "IPY_MODEL_f6de014d845044668d02859f0419a128",
            "placeholder": "​",
            "style": "IPY_MODEL_d4d9dc5ab6a7426197154ab1923f2e44",
            "value": ""
          }
        },
        "ba4a5902c1614bcf85b4a5715dfc837e": {
          "model_module": "@jupyter-widgets/controls",
          "model_name": "FloatProgressModel",
          "model_module_version": "1.5.0",
          "state": {
            "_dom_classes": [],
            "_model_module": "@jupyter-widgets/controls",
            "_model_module_version": "1.5.0",
            "_model_name": "FloatProgressModel",
            "_view_count": null,
            "_view_module": "@jupyter-widgets/controls",
            "_view_module_version": "1.5.0",
            "_view_name": "ProgressView",
            "bar_style": "success",
            "description": "",
            "description_tooltip": null,
            "layout": "IPY_MODEL_e3f48d6b14ed4a2f985b0ee641439c24",
            "max": 170498071,
            "min": 0,
            "orientation": "horizontal",
            "style": "IPY_MODEL_3c1be35e9d8c42f69208f53d2f3a2c0f",
            "value": 170498071
          }
        },
        "f497ed9b8d8b4b0894bf2d223738322a": {
          "model_module": "@jupyter-widgets/controls",
          "model_name": "HTMLModel",
          "model_module_version": "1.5.0",
          "state": {
            "_dom_classes": [],
            "_model_module": "@jupyter-widgets/controls",
            "_model_module_version": "1.5.0",
            "_model_name": "HTMLModel",
            "_view_count": null,
            "_view_module": "@jupyter-widgets/controls",
            "_view_module_version": "1.5.0",
            "_view_name": "HTMLView",
            "description": "",
            "description_tooltip": null,
            "layout": "IPY_MODEL_c9df584a2a6d4953ad1ced362d8d9878",
            "placeholder": "​",
            "style": "IPY_MODEL_6650e398d4154941914001e4942c1d39",
            "value": " 170499072/? [00:03&lt;00:00, 53910711.79it/s]"
          }
        },
        "aa85be55e8c648689ab451392419be02": {
          "model_module": "@jupyter-widgets/base",
          "model_name": "LayoutModel",
          "model_module_version": "1.2.0",
          "state": {
            "_model_module": "@jupyter-widgets/base",
            "_model_module_version": "1.2.0",
            "_model_name": "LayoutModel",
            "_view_count": null,
            "_view_module": "@jupyter-widgets/base",
            "_view_module_version": "1.2.0",
            "_view_name": "LayoutView",
            "align_content": null,
            "align_items": null,
            "align_self": null,
            "border": null,
            "bottom": null,
            "display": null,
            "flex": null,
            "flex_flow": null,
            "grid_area": null,
            "grid_auto_columns": null,
            "grid_auto_flow": null,
            "grid_auto_rows": null,
            "grid_column": null,
            "grid_gap": null,
            "grid_row": null,
            "grid_template_areas": null,
            "grid_template_columns": null,
            "grid_template_rows": null,
            "height": null,
            "justify_content": null,
            "justify_items": null,
            "left": null,
            "margin": null,
            "max_height": null,
            "max_width": null,
            "min_height": null,
            "min_width": null,
            "object_fit": null,
            "object_position": null,
            "order": null,
            "overflow": null,
            "overflow_x": null,
            "overflow_y": null,
            "padding": null,
            "right": null,
            "top": null,
            "visibility": null,
            "width": null
          }
        },
        "f6de014d845044668d02859f0419a128": {
          "model_module": "@jupyter-widgets/base",
          "model_name": "LayoutModel",
          "model_module_version": "1.2.0",
          "state": {
            "_model_module": "@jupyter-widgets/base",
            "_model_module_version": "1.2.0",
            "_model_name": "LayoutModel",
            "_view_count": null,
            "_view_module": "@jupyter-widgets/base",
            "_view_module_version": "1.2.0",
            "_view_name": "LayoutView",
            "align_content": null,
            "align_items": null,
            "align_self": null,
            "border": null,
            "bottom": null,
            "display": null,
            "flex": null,
            "flex_flow": null,
            "grid_area": null,
            "grid_auto_columns": null,
            "grid_auto_flow": null,
            "grid_auto_rows": null,
            "grid_column": null,
            "grid_gap": null,
            "grid_row": null,
            "grid_template_areas": null,
            "grid_template_columns": null,
            "grid_template_rows": null,
            "height": null,
            "justify_content": null,
            "justify_items": null,
            "left": null,
            "margin": null,
            "max_height": null,
            "max_width": null,
            "min_height": null,
            "min_width": null,
            "object_fit": null,
            "object_position": null,
            "order": null,
            "overflow": null,
            "overflow_x": null,
            "overflow_y": null,
            "padding": null,
            "right": null,
            "top": null,
            "visibility": null,
            "width": null
          }
        },
        "d4d9dc5ab6a7426197154ab1923f2e44": {
          "model_module": "@jupyter-widgets/controls",
          "model_name": "DescriptionStyleModel",
          "model_module_version": "1.5.0",
          "state": {
            "_model_module": "@jupyter-widgets/controls",
            "_model_module_version": "1.5.0",
            "_model_name": "DescriptionStyleModel",
            "_view_count": null,
            "_view_module": "@jupyter-widgets/base",
            "_view_module_version": "1.2.0",
            "_view_name": "StyleView",
            "description_width": ""
          }
        },
        "e3f48d6b14ed4a2f985b0ee641439c24": {
          "model_module": "@jupyter-widgets/base",
          "model_name": "LayoutModel",
          "model_module_version": "1.2.0",
          "state": {
            "_model_module": "@jupyter-widgets/base",
            "_model_module_version": "1.2.0",
            "_model_name": "LayoutModel",
            "_view_count": null,
            "_view_module": "@jupyter-widgets/base",
            "_view_module_version": "1.2.0",
            "_view_name": "LayoutView",
            "align_content": null,
            "align_items": null,
            "align_self": null,
            "border": null,
            "bottom": null,
            "display": null,
            "flex": null,
            "flex_flow": null,
            "grid_area": null,
            "grid_auto_columns": null,
            "grid_auto_flow": null,
            "grid_auto_rows": null,
            "grid_column": null,
            "grid_gap": null,
            "grid_row": null,
            "grid_template_areas": null,
            "grid_template_columns": null,
            "grid_template_rows": null,
            "height": null,
            "justify_content": null,
            "justify_items": null,
            "left": null,
            "margin": null,
            "max_height": null,
            "max_width": null,
            "min_height": null,
            "min_width": null,
            "object_fit": null,
            "object_position": null,
            "order": null,
            "overflow": null,
            "overflow_x": null,
            "overflow_y": null,
            "padding": null,
            "right": null,
            "top": null,
            "visibility": null,
            "width": null
          }
        },
        "3c1be35e9d8c42f69208f53d2f3a2c0f": {
          "model_module": "@jupyter-widgets/controls",
          "model_name": "ProgressStyleModel",
          "model_module_version": "1.5.0",
          "state": {
            "_model_module": "@jupyter-widgets/controls",
            "_model_module_version": "1.5.0",
            "_model_name": "ProgressStyleModel",
            "_view_count": null,
            "_view_module": "@jupyter-widgets/base",
            "_view_module_version": "1.2.0",
            "_view_name": "StyleView",
            "bar_color": null,
            "description_width": ""
          }
        },
        "c9df584a2a6d4953ad1ced362d8d9878": {
          "model_module": "@jupyter-widgets/base",
          "model_name": "LayoutModel",
          "model_module_version": "1.2.0",
          "state": {
            "_model_module": "@jupyter-widgets/base",
            "_model_module_version": "1.2.0",
            "_model_name": "LayoutModel",
            "_view_count": null,
            "_view_module": "@jupyter-widgets/base",
            "_view_module_version": "1.2.0",
            "_view_name": "LayoutView",
            "align_content": null,
            "align_items": null,
            "align_self": null,
            "border": null,
            "bottom": null,
            "display": null,
            "flex": null,
            "flex_flow": null,
            "grid_area": null,
            "grid_auto_columns": null,
            "grid_auto_flow": null,
            "grid_auto_rows": null,
            "grid_column": null,
            "grid_gap": null,
            "grid_row": null,
            "grid_template_areas": null,
            "grid_template_columns": null,
            "grid_template_rows": null,
            "height": null,
            "justify_content": null,
            "justify_items": null,
            "left": null,
            "margin": null,
            "max_height": null,
            "max_width": null,
            "min_height": null,
            "min_width": null,
            "object_fit": null,
            "object_position": null,
            "order": null,
            "overflow": null,
            "overflow_x": null,
            "overflow_y": null,
            "padding": null,
            "right": null,
            "top": null,
            "visibility": null,
            "width": null
          }
        },
        "6650e398d4154941914001e4942c1d39": {
          "model_module": "@jupyter-widgets/controls",
          "model_name": "DescriptionStyleModel",
          "model_module_version": "1.5.0",
          "state": {
            "_model_module": "@jupyter-widgets/controls",
            "_model_module_version": "1.5.0",
            "_model_name": "DescriptionStyleModel",
            "_view_count": null,
            "_view_module": "@jupyter-widgets/base",
            "_view_module_version": "1.2.0",
            "_view_name": "StyleView",
            "description_width": ""
          }
        }
      }
    }
  },
  "cells": [
    {
      "cell_type": "markdown",
      "metadata": {
        "id": "view-in-github",
        "colab_type": "text"
      },
      "source": [
        "<a href=\"https://colab.research.google.com/github/EmilyCY/CIFAR10-Image-Classification/blob/Andrew/ResNetTranslated.ipynb\" target=\"_parent\"><img src=\"https://colab.research.google.com/assets/colab-badge.svg\" alt=\"Open In Colab\"/></a>"
      ]
    },
    {
      "cell_type": "markdown",
      "source": [
        "ResNet"
      ],
      "metadata": {
        "id": "-_oCLYv9Coeb"
      }
    },
    {
      "cell_type": "code",
      "source": [
        "from __future__ import print_function\n",
        "\n",
        "import os\n",
        "import torch\n",
        "import torch.nn as nn\n",
        "import torch.optim as optim\n",
        "import torchvision\n",
        "import torchvision.transforms as transforms"
      ],
      "metadata": {
        "id": "m4huS6MLCqWC"
      },
      "execution_count": 16,
      "outputs": []
    },
    {
      "cell_type": "code",
      "source": [
        "transform = transforms.Compose([\n",
        "    transforms.RandomHorizontalFlip(),\n",
        "    transforms.ToTensor(),\n",
        "    transforms.Normalize((0.5, 0.5, 0.5), (0.5, 0.5, 0.5)),\n",
        "])"
      ],
      "metadata": {
        "id": "jfJI_jFfC04r"
      },
      "execution_count": 17,
      "outputs": []
    },
    {
      "cell_type": "markdown",
      "source": [
        "1. Preporcessing would need to occur before loading the dataset into data partitioning"
      ],
      "metadata": {
        "id": "aXYL2bXpdK4S"
      }
    },
    {
      "cell_type": "markdown",
      "source": [
        "2. Need to discuss if we need to include something for formulating the problem as a Deeep Learning task, with framework selected"
      ],
      "metadata": {
        "id": "pzX7pfsfdaXK"
      }
    },
    {
      "cell_type": "code",
      "source": [
        "train_set = torchvision.datasets.CIFAR10('./datasets', train=True, \n",
        "                                         download=True, transform=transform)\n",
        "test_set = torchvision.datasets.CIFAR10('./datasets', train=False, \n",
        "                                        download=True, transform=transform)\n",
        "\n",
        "train_loader = torch.utils.data.DataLoader(train_set, batch_size=128, \n",
        "                                           shuffle=True, num_workers=4)\n",
        "test_loader = torch.utils.data.DataLoader(test_set, batch_size=100, \n",
        "                                          shuffle=False, num_workers=4)\n",
        "\n",
        "classes = ('plane', 'car', 'bird', 'cat', 'deer',\n",
        "           'dog', 'frog', 'horse', 'ship', 'truck')"
      ],
      "metadata": {
        "colab": {
          "base_uri": "https://localhost:8080/",
          "height": 162,
          "referenced_widgets": [
            "44046ef143ce42c3b3ab108898ea3eab",
            "1c4a2177267941a8841d36d5c001d813",
            "ba4a5902c1614bcf85b4a5715dfc837e",
            "f497ed9b8d8b4b0894bf2d223738322a",
            "aa85be55e8c648689ab451392419be02",
            "f6de014d845044668d02859f0419a128",
            "d4d9dc5ab6a7426197154ab1923f2e44",
            "e3f48d6b14ed4a2f985b0ee641439c24",
            "3c1be35e9d8c42f69208f53d2f3a2c0f",
            "c9df584a2a6d4953ad1ced362d8d9878",
            "6650e398d4154941914001e4942c1d39"
          ]
        },
        "id": "piRI_qWsC4KU",
        "outputId": "3ce10b9c-21e1-4192-9e19-9e32b607efca"
      },
      "execution_count": 18,
      "outputs": [
        {
          "output_type": "stream",
          "name": "stdout",
          "text": [
            "Downloading https://www.cs.toronto.edu/~kriz/cifar-10-python.tar.gz to ./datasets/cifar-10-python.tar.gz\n"
          ]
        },
        {
          "output_type": "display_data",
          "data": {
            "text/plain": [
              "  0%|          | 0/170498071 [00:00<?, ?it/s]"
            ],
            "application/vnd.jupyter.widget-view+json": {
              "version_major": 2,
              "version_minor": 0,
              "model_id": "44046ef143ce42c3b3ab108898ea3eab"
            }
          },
          "metadata": {}
        },
        {
          "output_type": "stream",
          "name": "stdout",
          "text": [
            "Extracting ./datasets/cifar-10-python.tar.gz to ./datasets\n",
            "Files already downloaded and verified\n"
          ]
        },
        {
          "output_type": "stream",
          "name": "stderr",
          "text": [
            "/usr/local/lib/python3.7/dist-packages/torch/utils/data/dataloader.py:490: UserWarning: This DataLoader will create 4 worker processes in total. Our suggested max number of worker in current system is 2, which is smaller than what this DataLoader is going to create. Please be aware that excessive worker creation might get DataLoader running slow or even freeze, lower the worker number to avoid potential slowness/freeze if necessary.\n",
            "  cpuset_checked))\n"
          ]
        }
      ]
    },
    {
      "cell_type": "markdown",
      "source": [
        "Above the code splits the data into test and train. Need to confirm how much of the data has been split. If it automatically does default or if set."
      ],
      "metadata": {
        "id": "YU3m2ZkQdrU1"
      }
    },
    {
      "cell_type": "code",
      "source": [
        "import matplotlib.pyplot as plt\n",
        "import numpy as np\n",
        "\n",
        "def imshow(img):\n",
        "    img = img / 2 + 0.5\n",
        "    plt.imshow(np.transpose(img.numpy(), (1, 2, 0)))\n",
        "    plt.show()\n",
        "    \n",
        "image_iter = iter(train_loader)\n",
        "images, _ = image_iter.next()\n",
        "imshow(torchvision.utils.make_grid(images[:4]))"
      ],
      "metadata": {
        "colab": {
          "base_uri": "https://localhost:8080/",
          "height": 195
        },
        "id": "e2Rsc2hrC_A7",
        "outputId": "d3b0ab5d-c84e-460d-b4ac-d1d821010dd2"
      },
      "execution_count": 19,
      "outputs": [
        {
          "output_type": "stream",
          "name": "stderr",
          "text": [
            "/usr/local/lib/python3.7/dist-packages/torch/utils/data/dataloader.py:490: UserWarning: This DataLoader will create 4 worker processes in total. Our suggested max number of worker in current system is 2, which is smaller than what this DataLoader is going to create. Please be aware that excessive worker creation might get DataLoader running slow or even freeze, lower the worker number to avoid potential slowness/freeze if necessary.\n",
            "  cpuset_checked))\n"
          ]
        },
        {
          "output_type": "display_data",
          "data": {
            "text/plain": [
              "<Figure size 432x288 with 1 Axes>"
            ],
            "image/png": "[encoded data removed]"
          },
          "metadata": {
            "needs_background": "light"
          }
        }
      ]
    },
    {
      "cell_type": "code",
      "source": [
        "device = 'cuda' if torch.cuda.is_available() else 'cpu'\n",
        "# device = torch.device('cpu')\n",
        "print(device)"
      ],
      "metadata": {
        "colab": {
          "base_uri": "https://localhost:8080/"
        },
        "id": "QvQvycWEDDic",
        "outputId": "87da0f18-1a54-493f-e510-491cc150341c"
      },
      "execution_count": 20,
      "outputs": [
        {
          "output_type": "stream",
          "name": "stdout",
          "text": [
            "cuda\n"
          ]
        }
      ]
    },
    {
      "cell_type": "code",
      "source": [
        "class BasicBlock(nn.Module):\n",
        "    \"\"\"\n",
        "    For shallow networks, \n",
        "    we use basic Blocks \n",
        "    The base block has no dimension compression, \n",
        "    so aspect=1\n",
        "    \"\"\"\n",
        "    expansion = 1\n",
        "    \n",
        "    def __init__(self, in_channels, out_channels, stride=1):\n",
        "        super(BasicBlock, self).__init__()\n",
        "        self.features = nn.Sequential(\n",
        "            nn.Conv2d(in_channels, out_channels, kernel_size=3, stride=stride, padding=1, bias=False),\n",
        "            nn.BatchNorm2d(out_channels),\n",
        "            nn.ReLU(inplace=True),\n",
        "            nn.Conv2d(out_channels, out_channels, kernel_size=3, stride=1, padding=1, bias=False),\n",
        "            nn.BatchNorm2d(out_channels)\n",
        "        )\n",
        "        # If the input and output dimensions are unequal, \n",
        "        #a 1x1 convolutional layer is used to change the dimensions\n",
        "        self.shortcut = nn.Sequential()\n",
        "        if stride != 1 or in_channels != self.expansion * out_channels:\n",
        "            self.shortcut = nn.Sequential(\n",
        "                nn.Conv2d(in_channels, self.expansion * out_channels, kernel_size=1, stride=stride, bias=False),\n",
        "                nn.BatchNorm2d(self.expansion * out_channels),\n",
        "            )\n",
        "            \n",
        "    def forward(self, x):\n",
        "        out = self.features(x)\n",
        "        out += self.shortcut(x)\n",
        "        out = torch.relu(out)\n",
        "        return out"
      ],
      "metadata": {
        "id": "QuWnBaZRDHvy"
      },
      "execution_count": 21,
      "outputs": []
    },
    {
      "cell_type": "markdown",
      "source": [
        "Need to review what this code does and how it is relating to ResNet and if it is required"
      ],
      "metadata": {
        "id": "_r_3VvKZd_gS"
      }
    },
    {
      "cell_type": "code",
      "source": [
        "# Test\n",
        "basic_block = BasicBlock(64, 128)\n",
        "print(basic_block)\n",
        "x = torch.randn(2, 64, 32, 32)\n",
        "y = basic_block(x)\n",
        "print(y.shape)"
      ],
      "metadata": {
        "colab": {
          "base_uri": "https://localhost:8080/"
        },
        "id": "FZYGHKEHDL8r",
        "outputId": "24d06d6d-775e-4785-b2e4-e2f49f05c463"
      },
      "execution_count": 22,
      "outputs": [
        {
          "output_type": "stream",
          "name": "stdout",
          "text": [
            "BasicBlock(\n",
            "  (features): Sequential(\n",
            "    (0): Conv2d(64, 128, kernel_size=(3, 3), stride=(1, 1), padding=(1, 1), bias=False)\n",
            "    (1): BatchNorm2d(128, eps=1e-05, momentum=0.1, affine=True, track_running_stats=True)\n",
            "    (2): ReLU(inplace=True)\n",
            "    (3): Conv2d(128, 128, kernel_size=(3, 3), stride=(1, 1), padding=(1, 1), bias=False)\n",
            "    (4): BatchNorm2d(128, eps=1e-05, momentum=0.1, affine=True, track_running_stats=True)\n",
            "  )\n",
            "  (shortcut): Sequential(\n",
            "    (0): Conv2d(64, 128, kernel_size=(1, 1), stride=(1, 1), bias=False)\n",
            "    (1): BatchNorm2d(128, eps=1e-05, momentum=0.1, affine=True, track_running_stats=True)\n",
            "  )\n",
            ")\n",
            "torch.Size([2, 128, 32, 32])\n"
          ]
        }
      ]
    },
    {
      "cell_type": "code",
      "source": [
        "class Bottleneck(nn.Module):\n",
        "    \"\"\"\n",
        "    For deep networks, we use BattleNeck, \n",
        "    which in the paper suggests that it has approximate computational complexity \n",
        "    but saves a lot of resources zip_channels: The compressed dimension, \n",
        "    the last output dimension is expansion * zip_channels\n",
        "    \"\"\"\n",
        "    expansion = 4\n",
        "    \n",
        "    def __init__(self, in_channels, zip_channels, stride=1):\n",
        "        super(Bottleneck, self).__init__()\n",
        "        out_channels = self.expansion * zip_channels\n",
        "        self.features = nn.Sequential(\n",
        "            nn.Conv2d(in_channels, zip_channels, kernel_size=1, bias=False),\n",
        "            nn.BatchNorm2d(zip_channels),\n",
        "            nn.ReLU(inplace=True),\n",
        "            nn.Conv2d(zip_channels, zip_channels, kernel_size=3, stride=stride, padding=1, bias=False),\n",
        "            nn.BatchNorm2d(zip_channels),\n",
        "            nn.ReLU(inplace=True),\n",
        "            nn.Conv2d(zip_channels, out_channels, kernel_size=1, bias=False),\n",
        "            nn.BatchNorm2d(out_channels)\n",
        "        )\n",
        "        self.shortcut = nn.Sequential()\n",
        "        if stride != 1 or in_channels != out_channels:\n",
        "            self.shortcut = nn.Sequential(\n",
        "                nn.Conv2d(in_channels, out_channels, kernel_size=1, stride=stride, bias=False),\n",
        "                nn.BatchNorm2d(out_channels)\n",
        "            )\n",
        "            \n",
        "    def forward(self, x):\n",
        "        out = self.features(x)\n",
        "        out += self.shortcut(x)\n",
        "        out = torch.relu(out)\n",
        "        return out"
      ],
      "metadata": {
        "id": "ulIyELqHDOyc"
      },
      "execution_count": 23,
      "outputs": []
    },
    {
      "cell_type": "markdown",
      "source": [
        "Need to do same as above for what we did for basic block"
      ],
      "metadata": {
        "id": "G-_ynjT8eHNR"
      }
    },
    {
      "cell_type": "code",
      "source": [
        "# Test\n",
        "bottleneck = Bottleneck(256, 128)\n",
        "print(bottleneck)\n",
        "x = torch.randn(2, 256, 32, 32)\n",
        "y = bottleneck(x)\n",
        "print(y.shape)"
      ],
      "metadata": {
        "colab": {
          "base_uri": "https://localhost:8080/"
        },
        "id": "BzYr6k4ODTBB",
        "outputId": "9aa24ffe-5dd3-46d2-c623-2038189b2d8f"
      },
      "execution_count": 24,
      "outputs": [
        {
          "output_type": "stream",
          "name": "stdout",
          "text": [
            "Bottleneck(\n",
            "  (features): Sequential(\n",
            "    (0): Conv2d(256, 128, kernel_size=(1, 1), stride=(1, 1), bias=False)\n",
            "    (1): BatchNorm2d(128, eps=1e-05, momentum=0.1, affine=True, track_running_stats=True)\n",
            "    (2): ReLU(inplace=True)\n",
            "    (3): Conv2d(128, 128, kernel_size=(3, 3), stride=(1, 1), padding=(1, 1), bias=False)\n",
            "    (4): BatchNorm2d(128, eps=1e-05, momentum=0.1, affine=True, track_running_stats=True)\n",
            "    (5): ReLU(inplace=True)\n",
            "    (6): Conv2d(128, 512, kernel_size=(1, 1), stride=(1, 1), bias=False)\n",
            "    (7): BatchNorm2d(512, eps=1e-05, momentum=0.1, affine=True, track_running_stats=True)\n",
            "  )\n",
            "  (shortcut): Sequential(\n",
            "    (0): Conv2d(256, 512, kernel_size=(1, 1), stride=(1, 1), bias=False)\n",
            "    (1): BatchNorm2d(512, eps=1e-05, momentum=0.1, affine=True, track_running_stats=True)\n",
            "  )\n",
            ")\n",
            "torch.Size([2, 512, 32, 32])\n"
          ]
        }
      ]
    },
    {
      "cell_type": "code",
      "source": [
        "class ResNet(nn.Module):\n",
        "    \"\"\"\n",
        "    Different ResNet architectures are uniform one-layer feature extraction, \n",
        "    four layers of residuals, \n",
        "    the difference is the depth of each layer of residuals. \n",
        "    For cifar10, the feature map size changes as follows: \n",
        "    (32, 32, 3) -> \n",
        "    [Conv2d] -> \n",
        "    (32, 32, 64) -> \n",
        "    [Res1] -> \n",
        "    (32, 32, 64) -> \n",
        "    [Res2] -> \n",
        "    (16, 16, 128) -> \n",
        "    [Res3] -> \n",
        "    (8, 8, 256) ->\n",
        "    [Res4] -> \n",
        "    (4, 4, 512) -> \n",
        "    [AvgPool] -> \n",
        "    (1, 1, 512) -> \n",
        "    [Reshape] -> \n",
        "    (512) -> \n",
        "    [Linear] -> \n",
        "    (10)\n",
        "    \"\"\"\n",
        "    def __init__(self, block, num_blocks, num_classes=10):\n",
        "        super(ResNet, self).__init__()\n",
        "        self.in_channels = 64\n",
        "        self.features = nn.Sequential(\n",
        "            nn.Conv2d(3, 64, kernel_size=3, stride=1, padding=1, bias=False),\n",
        "            nn.BatchNorm2d(64),\n",
        "            nn.ReLU(inplace=True)\n",
        "        )\n",
        "        self.layer1 = self._make_layer(block, 64, num_blocks[0], stride=1)\n",
        "        self.layer2 = self._make_layer(block, 128, num_blocks[1], stride=2)\n",
        "        self.layer3 = self._make_layer(block, 256, num_blocks[2], stride=2)\n",
        "        self.layer4 = self._make_layer(block, 512, num_blocks[3], stride=2)\n",
        "        # Cifar10 after the above structure, \n",
        "        # the characteristic map size here is 4 x 4 x 512 x expansion\n",
        "        # So here is an average pooling of 4 x 4\n",
        "        self.avg_pool = nn.AvgPool2d(kernel_size=4)\n",
        "        self.classifer = nn.Linear(512 * block.expansion, num_classes)\n",
        "        \n",
        "    def _make_layer(self, block, out_channels, num_blocks, stride):\n",
        "        # The first block is downsampled\n",
        "        strides = [stride] + [1] * (num_blocks - 1)\n",
        "        layers = []\n",
        "        for stride in strides:\n",
        "            layers.append(block(self.in_channels, out_channels, stride))\n",
        "            # If it is a Crossbow Block, \n",
        "            # the dimensions entered in each layer need to be compressed, \n",
        "            # and the dimensions need to be compressed and then increased\n",
        "            # Therefore, \n",
        "            # the input dimension of each layer must also change\n",
        "            self.in_channels = out_channels * block.expansion\n",
        "        return nn.Sequential(*layers)\n",
        "    \n",
        "    def forward(self, x):\n",
        "        out = self.features(x)\n",
        "        out = self.layer1(out)\n",
        "        out = self.layer2(out)\n",
        "        out = self.layer3(out)\n",
        "        out = self.layer4(out)\n",
        "        out = self.avg_pool(out)\n",
        "        out = out.view(out.size(0), -1)\n",
        "        out = self.classifer(out)\n",
        "        return out"
      ],
      "metadata": {
        "id": "r3ZOu0WhDbC7"
      },
      "execution_count": 25,
      "outputs": []
    },
    {
      "cell_type": "markdown",
      "source": [
        "4. Explain the architecture and why it is most sutiable to use"
      ],
      "metadata": {
        "id": "w07Pf5wFeNI5"
      }
    },
    {
      "cell_type": "code",
      "source": [
        "def ResNet18():\n",
        "    return ResNet(BasicBlock, [2,2,2,2])\n",
        "\n",
        "def ResNet34():\n",
        "    return ResNet(BasicBlock, [3,4,6,3])\n",
        "\n",
        "def ResNet50():\n",
        "    return ResNet(Bottleneck, [3,4,6,3])\n",
        "\n",
        "def ResNet101():\n",
        "    return ResNet(Bottleneck, [3,4,23,3])\n",
        "\n",
        "def ResNet152():\n",
        "    return ResNet(Bottleneck, [3,8,36,3])"
      ],
      "metadata": {
        "id": "ujgzeN76DdeL"
      },
      "execution_count": 26,
      "outputs": []
    },
    {
      "cell_type": "code",
      "source": [
        "net = ResNet34().to(device)\n",
        "print(net)\n",
        "if device == 'cuda':\n",
        "    net = nn.DataParallel(net)\n",
        "    # Performance can be improved when the computational graph does not change \n",
        "    # (the model does not change each time the input shape is the same), \n",
        "    # and vice versa\n",
        "    torch.backends.cudnn.benchmark = True"
      ],
      "metadata": {
        "colab": {
          "base_uri": "https://localhost:8080/"
        },
        "id": "Z26bKh_SDjMB",
        "outputId": "e1b1cecb-f737-4081-f204-297720f8696b"
      },
      "execution_count": 27,
      "outputs": [
        {
          "output_type": "stream",
          "name": "stdout",
          "text": [
            "ResNet(\n",
            "  (features): Sequential(\n",
            "    (0): Conv2d(3, 64, kernel_size=(3, 3), stride=(1, 1), padding=(1, 1), bias=False)\n",
            "    (1): BatchNorm2d(64, eps=1e-05, momentum=0.1, affine=True, track_running_stats=True)\n",
            "    (2): ReLU(inplace=True)\n",
            "  )\n",
            "  (layer1): Sequential(\n",
            "    (0): BasicBlock(\n",
            "      (features): Sequential(\n",
            "        (0): Conv2d(64, 64, kernel_size=(3, 3), stride=(1, 1), padding=(1, 1), bias=False)\n",
            "        (1): BatchNorm2d(64, eps=1e-05, momentum=0.1, affine=True, track_running_stats=True)\n",
            "        (2): ReLU(inplace=True)\n",
            "        (3): Conv2d(64, 64, kernel_size=(3, 3), stride=(1, 1), padding=(1, 1), bias=False)\n",
            "        (4): BatchNorm2d(64, eps=1e-05, momentum=0.1, affine=True, track_running_stats=True)\n",
            "      )\n",
            "      (shortcut): Sequential()\n",
            "    )\n",
            "    (1): BasicBlock(\n",
            "      (features): Sequential(\n",
            "        (0): Conv2d(64, 64, kernel_size=(3, 3), stride=(1, 1), padding=(1, 1), bias=False)\n",
            "        (1): BatchNorm2d(64, eps=1e-05, momentum=0.1, affine=True, track_running_stats=True)\n",
            "        (2): ReLU(inplace=True)\n",
            "        (3): Conv2d(64, 64, kernel_size=(3, 3), stride=(1, 1), padding=(1, 1), bias=False)\n",
            "        (4): BatchNorm2d(64, eps=1e-05, momentum=0.1, affine=True, track_running_stats=True)\n",
            "      )\n",
            "      (shortcut): Sequential()\n",
            "    )\n",
            "    (2): BasicBlock(\n",
            "      (features): Sequential(\n",
            "        (0): Conv2d(64, 64, kernel_size=(3, 3), stride=(1, 1), padding=(1, 1), bias=False)\n",
            "        (1): BatchNorm2d(64, eps=1e-05, momentum=0.1, affine=True, track_running_stats=True)\n",
            "        (2): ReLU(inplace=True)\n",
            "        (3): Conv2d(64, 64, kernel_size=(3, 3), stride=(1, 1), padding=(1, 1), bias=False)\n",
            "        (4): BatchNorm2d(64, eps=1e-05, momentum=0.1, affine=True, track_running_stats=True)\n",
            "      )\n",
            "      (shortcut): Sequential()\n",
            "    )\n",
            "  )\n",
            "  (layer2): Sequential(\n",
            "    (0): BasicBlock(\n",
            "      (features): Sequential(\n",
            "        (0): Conv2d(64, 128, kernel_size=(3, 3), stride=(2, 2), padding=(1, 1), bias=False)\n",
            "        (1): BatchNorm2d(128, eps=1e-05, momentum=0.1, affine=True, track_running_stats=True)\n",
            "        (2): ReLU(inplace=True)\n",
            "        (3): Conv2d(128, 128, kernel_size=(3, 3), stride=(1, 1), padding=(1, 1), bias=False)\n",
            "        (4): BatchNorm2d(128, eps=1e-05, momentum=0.1, affine=True, track_running_stats=True)\n",
            "      )\n",
            "      (shortcut): Sequential(\n",
            "        (0): Conv2d(64, 128, kernel_size=(1, 1), stride=(2, 2), bias=False)\n",
            "        (1): BatchNorm2d(128, eps=1e-05, momentum=0.1, affine=True, track_running_stats=True)\n",
            "      )\n",
            "    )\n",
            "    (1): BasicBlock(\n",
            "      (features): Sequential(\n",
            "        (0): Conv2d(128, 128, kernel_size=(3, 3), stride=(1, 1), padding=(1, 1), bias=False)\n",
            "        (1): BatchNorm2d(128, eps=1e-05, momentum=0.1, affine=True, track_running_stats=True)\n",
            "        (2): ReLU(inplace=True)\n",
            "        (3): Conv2d(128, 128, kernel_size=(3, 3), stride=(1, 1), padding=(1, 1), bias=False)\n",
            "        (4): BatchNorm2d(128, eps=1e-05, momentum=0.1, affine=True, track_running_stats=True)\n",
            "      )\n",
            "      (shortcut): Sequential()\n",
            "    )\n",
            "    (2): BasicBlock(\n",
            "      (features): Sequential(\n",
            "        (0): Conv2d(128, 128, kernel_size=(3, 3), stride=(1, 1), padding=(1, 1), bias=False)\n",
            "        (1): BatchNorm2d(128, eps=1e-05, momentum=0.1, affine=True, track_running_stats=True)\n",
            "        (2): ReLU(inplace=True)\n",
            "        (3): Conv2d(128, 128, kernel_size=(3, 3), stride=(1, 1), padding=(1, 1), bias=False)\n",
            "        (4): BatchNorm2d(128, eps=1e-05, momentum=0.1, affine=True, track_running_stats=True)\n",
            "      )\n",
            "      (shortcut): Sequential()\n",
            "    )\n",
            "    (3): BasicBlock(\n",
            "      (features): Sequential(\n",
            "        (0): Conv2d(128, 128, kernel_size=(3, 3), stride=(1, 1), padding=(1, 1), bias=False)\n",
            "        (1): BatchNorm2d(128, eps=1e-05, momentum=0.1, affine=True, track_running_stats=True)\n",
            "        (2): ReLU(inplace=True)\n",
            "        (3): Conv2d(128, 128, kernel_size=(3, 3), stride=(1, 1), padding=(1, 1), bias=False)\n",
            "        (4): BatchNorm2d(128, eps=1e-05, momentum=0.1, affine=True, track_running_stats=True)\n",
            "      )\n",
            "      (shortcut): Sequential()\n",
            "    )\n",
            "  )\n",
            "  (layer3): Sequential(\n",
            "    (0): BasicBlock(\n",
            "      (features): Sequential(\n",
            "        (0): Conv2d(128, 256, kernel_size=(3, 3), stride=(2, 2), padding=(1, 1), bias=False)\n",
            "        (1): BatchNorm2d(256, eps=1e-05, momentum=0.1, affine=True, track_running_stats=True)\n",
            "        (2): ReLU(inplace=True)\n",
            "        (3): Conv2d(256, 256, kernel_size=(3, 3), stride=(1, 1), padding=(1, 1), bias=False)\n",
            "        (4): BatchNorm2d(256, eps=1e-05, momentum=0.1, affine=True, track_running_stats=True)\n",
            "      )\n",
            "      (shortcut): Sequential(\n",
            "        (0): Conv2d(128, 256, kernel_size=(1, 1), stride=(2, 2), bias=False)\n",
            "        (1): BatchNorm2d(256, eps=1e-05, momentum=0.1, affine=True, track_running_stats=True)\n",
            "      )\n",
            "    )\n",
            "    (1): BasicBlock(\n",
            "      (features): Sequential(\n",
            "        (0): Conv2d(256, 256, kernel_size=(3, 3), stride=(1, 1), padding=(1, 1), bias=False)\n",
            "        (1): BatchNorm2d(256, eps=1e-05, momentum=0.1, affine=True, track_running_stats=True)\n",
            "        (2): ReLU(inplace=True)\n",
            "        (3): Conv2d(256, 256, kernel_size=(3, 3), stride=(1, 1), padding=(1, 1), bias=False)\n",
            "        (4): BatchNorm2d(256, eps=1e-05, momentum=0.1, affine=True, track_running_stats=True)\n",
            "      )\n",
            "      (shortcut): Sequential()\n",
            "    )\n",
            "    (2): BasicBlock(\n",
            "      (features): Sequential(\n",
            "        (0): Conv2d(256, 256, kernel_size=(3, 3), stride=(1, 1), padding=(1, 1), bias=False)\n",
            "        (1): BatchNorm2d(256, eps=1e-05, momentum=0.1, affine=True, track_running_stats=True)\n",
            "        (2): ReLU(inplace=True)\n",
            "        (3): Conv2d(256, 256, kernel_size=(3, 3), stride=(1, 1), padding=(1, 1), bias=False)\n",
            "        (4): BatchNorm2d(256, eps=1e-05, momentum=0.1, affine=True, track_running_stats=True)\n",
            "      )\n",
            "      (shortcut): Sequential()\n",
            "    )\n",
            "    (3): BasicBlock(\n",
            "      (features): Sequential(\n",
            "        (0): Conv2d(256, 256, kernel_size=(3, 3), stride=(1, 1), padding=(1, 1), bias=False)\n",
            "        (1): BatchNorm2d(256, eps=1e-05, momentum=0.1, affine=True, track_running_stats=True)\n",
            "        (2): ReLU(inplace=True)\n",
            "        (3): Conv2d(256, 256, kernel_size=(3, 3), stride=(1, 1), padding=(1, 1), bias=False)\n",
            "        (4): BatchNorm2d(256, eps=1e-05, momentum=0.1, affine=True, track_running_stats=True)\n",
            "      )\n",
            "      (shortcut): Sequential()\n",
            "    )\n",
            "    (4): BasicBlock(\n",
            "      (features): Sequential(\n",
            "        (0): Conv2d(256, 256, kernel_size=(3, 3), stride=(1, 1), padding=(1, 1), bias=False)\n",
            "        (1): BatchNorm2d(256, eps=1e-05, momentum=0.1, affine=True, track_running_stats=True)\n",
            "        (2): ReLU(inplace=True)\n",
            "        (3): Conv2d(256, 256, kernel_size=(3, 3), stride=(1, 1), padding=(1, 1), bias=False)\n",
            "        (4): BatchNorm2d(256, eps=1e-05, momentum=0.1, affine=True, track_running_stats=True)\n",
            "      )\n",
            "      (shortcut): Sequential()\n",
            "    )\n",
            "    (5): BasicBlock(\n",
            "      (features): Sequential(\n",
            "        (0): Conv2d(256, 256, kernel_size=(3, 3), stride=(1, 1), padding=(1, 1), bias=False)\n",
            "        (1): BatchNorm2d(256, eps=1e-05, momentum=0.1, affine=True, track_running_stats=True)\n",
            "        (2): ReLU(inplace=True)\n",
            "        (3): Conv2d(256, 256, kernel_size=(3, 3), stride=(1, 1), padding=(1, 1), bias=False)\n",
            "        (4): BatchNorm2d(256, eps=1e-05, momentum=0.1, affine=True, track_running_stats=True)\n",
            "      )\n",
            "      (shortcut): Sequential()\n",
            "    )\n",
            "  )\n",
            "  (layer4): Sequential(\n",
            "    (0): BasicBlock(\n",
            "      (features): Sequential(\n",
            "        (0): Conv2d(256, 512, kernel_size=(3, 3), stride=(2, 2), padding=(1, 1), bias=False)\n",
            "        (1): BatchNorm2d(512, eps=1e-05, momentum=0.1, affine=True, track_running_stats=True)\n",
            "        (2): ReLU(inplace=True)\n",
            "        (3): Conv2d(512, 512, kernel_size=(3, 3), stride=(1, 1), padding=(1, 1), bias=False)\n",
            "        (4): BatchNorm2d(512, eps=1e-05, momentum=0.1, affine=True, track_running_stats=True)\n",
            "      )\n",
            "      (shortcut): Sequential(\n",
            "        (0): Conv2d(256, 512, kernel_size=(1, 1), stride=(2, 2), bias=False)\n",
            "        (1): BatchNorm2d(512, eps=1e-05, momentum=0.1, affine=True, track_running_stats=True)\n",
            "      )\n",
            "    )\n",
            "    (1): BasicBlock(\n",
            "      (features): Sequential(\n",
            "        (0): Conv2d(512, 512, kernel_size=(3, 3), stride=(1, 1), padding=(1, 1), bias=False)\n",
            "        (1): BatchNorm2d(512, eps=1e-05, momentum=0.1, affine=True, track_running_stats=True)\n",
            "        (2): ReLU(inplace=True)\n",
            "        (3): Conv2d(512, 512, kernel_size=(3, 3), stride=(1, 1), padding=(1, 1), bias=False)\n",
            "        (4): BatchNorm2d(512, eps=1e-05, momentum=0.1, affine=True, track_running_stats=True)\n",
            "      )\n",
            "      (shortcut): Sequential()\n",
            "    )\n",
            "    (2): BasicBlock(\n",
            "      (features): Sequential(\n",
            "        (0): Conv2d(512, 512, kernel_size=(3, 3), stride=(1, 1), padding=(1, 1), bias=False)\n",
            "        (1): BatchNorm2d(512, eps=1e-05, momentum=0.1, affine=True, track_running_stats=True)\n",
            "        (2): ReLU(inplace=True)\n",
            "        (3): Conv2d(512, 512, kernel_size=(3, 3), stride=(1, 1), padding=(1, 1), bias=False)\n",
            "        (4): BatchNorm2d(512, eps=1e-05, momentum=0.1, affine=True, track_running_stats=True)\n",
            "      )\n",
            "      (shortcut): Sequential()\n",
            "    )\n",
            "  )\n",
            "  (avg_pool): AvgPool2d(kernel_size=4, stride=4, padding=0)\n",
            "  (classifer): Linear(in_features=512, out_features=10, bias=True)\n",
            ")\n"
          ]
        }
      ]
    },
    {
      "cell_type": "code",
      "source": [
        "# Test\n",
        "x = torch.randn(2, 3, 32, 32).to(device)\n",
        "y = net(x)\n",
        "print(y.shape)"
      ],
      "metadata": {
        "colab": {
          "base_uri": "https://localhost:8080/"
        },
        "id": "nEH9lM9UDqWS",
        "outputId": "ca26d9b2-526f-4784-921e-be25c1bd3379"
      },
      "execution_count": 28,
      "outputs": [
        {
          "output_type": "stream",
          "name": "stdout",
          "text": [
            "torch.Size([2, 10])\n"
          ]
        }
      ]
    },
    {
      "cell_type": "code",
      "source": [
        "lr = 1e-1\n",
        "momentum = 0.9\n",
        "weight_decay = 5e-4\n",
        "\n",
        "criterion = nn.CrossEntropyLoss()\n",
        "optimizer = optim.SGD(net.parameters(), lr=lr, momentum=momentum, weight_decay=weight_decay)\n",
        "scheduler = optim.lr_scheduler.ReduceLROnPlateau(optimizer, threshold=0.1, patience=3, verbose=True)"
      ],
      "metadata": {
        "id": "PC8zNqfyDvB5"
      },
      "execution_count": 29,
      "outputs": []
    },
    {
      "cell_type": "code",
      "source": [
        "# Training\n",
        "def train(epoch):\n",
        "    print('\\nEpoch: %d' % (epoch))\n",
        "    net.train()\n",
        "    train_loss = 0\n",
        "    correct = 0\n",
        "    total = 0\n",
        "    for batch_idx, (inputs, targets) in enumerate(train_loader):\n",
        "        inputs, targets = inputs.to(device), targets.to(device)\n",
        "        optimizer.zero_grad()\n",
        "        outputs = net(inputs)\n",
        "        loss = criterion(outputs, targets)\n",
        "        loss.backward()\n",
        "        optimizer.step()\n",
        "\n",
        "        train_loss += loss.item()\n",
        "        _, predicted = outputs.max(1)\n",
        "        total += targets.size(0)\n",
        "        correct += predicted.eq(targets).sum().item()\n",
        "        if batch_idx % 100 == 99:    # print every 100 mini-batches\n",
        "            print('[%d, %5d] loss: %.6f |  Acc: %.3f%% (%d/%d)' %\n",
        "                  (epoch + 1, batch_idx + 1, train_loss, 100.*correct/total, correct, total))\n",
        "    return train_loss"
      ],
      "metadata": {
        "id": "KDIK_V_TD0Og"
      },
      "execution_count": 30,
      "outputs": []
    },
    {
      "cell_type": "markdown",
      "source": [
        "5. Explain how the train works on the 10 different object cateogires "
      ],
      "metadata": {
        "id": "WVuTcBknebMy"
      }
    },
    {
      "cell_type": "code",
      "source": [
        "load_model = False\n",
        "if load_model:\n",
        "    checkpoint = torch.load('./checkpoint/res18.ckpt')\n",
        "    net.load_state_dict(checkpoint['net'])\n",
        "    start_epoch = checkpoint['epoch']\n",
        "else:\n",
        "    start_epoch = 0\n",
        "print('start_epoch: %s' % start_epoch)"
      ],
      "metadata": {
        "colab": {
          "base_uri": "https://localhost:8080/"
        },
        "id": "zXaOOfTsD4fq",
        "outputId": "4d0386aa-d4c6-4280-a2b5-59e70d00ccd7"
      },
      "execution_count": 31,
      "outputs": [
        {
          "output_type": "stream",
          "name": "stdout",
          "text": [
            "start_epoch: 0\n"
          ]
        }
      ]
    },
    {
      "cell_type": "code",
      "source": [
        "for epoch in range(start_epoch, 50):\n",
        "    loss = train(epoch)\n",
        "    print('Total loss: %.6f' % loss)\n",
        "    start_epoch = epoch\n",
        "    scheduler.step(loss, epoch=epoch)"
      ],
      "metadata": {
        "colab": {
          "base_uri": "https://localhost:8080/"
        },
        "id": "uiL7guRED8fC",
        "outputId": "c80fd7fb-d262-48f1-d43f-e5252587bc52"
      },
      "execution_count": 32,
      "outputs": [
        {
          "output_type": "stream",
          "name": "stdout",
          "text": [
            "\n",
            "Epoch: 0\n"
          ]
        },
        {
          "output_type": "stream",
          "name": "stderr",
          "text": [
            "/usr/local/lib/python3.7/dist-packages/torch/utils/data/dataloader.py:490: UserWarning: This DataLoader will create 4 worker processes in total. Our suggested max number of worker in current system is 2, which is smaller than what this DataLoader is going to create. Please be aware that excessive worker creation might get DataLoader running slow or even freeze, lower the worker number to avoid potential slowness/freeze if necessary.\n",
            "  cpuset_checked))\n"
          ]
        },
        {
          "output_type": "stream",
          "name": "stdout",
          "text": [
            "[1,   100] loss: 264.270595 |  Acc: 17.102% (2189/12800)\n",
            "[1,   200] loss: 459.138825 |  Acc: 22.480% (5755/25600)\n",
            "[1,   300] loss: 639.198444 |  Acc: 26.188% (10056/38400)\n",
            "Total loss: 794.642617\n",
            "\n",
            "Epoch: 1\n"
          ]
        },
        {
          "output_type": "stream",
          "name": "stderr",
          "text": [
            "/usr/local/lib/python3.7/dist-packages/torch/optim/lr_scheduler.py:920: UserWarning: The epoch parameter in `scheduler.step()` was not necessary and is being deprecated where possible. Please use `scheduler.step()` to step the scheduler. During the deprecation, if epoch is different from None, the closed form is used instead of the new chainable form, where available. Please open an issue if you are unable to replicate your use case: https://github.com/pytorch/pytorch/issues/new/choose.\n",
            "  warnings.warn(EPOCH_DEPRECATION_WARNING, UserWarning)\n"
          ]
        },
        {
          "output_type": "stream",
          "name": "stdout",
          "text": [
            "[2,   100] loss: 163.571515 |  Acc: 39.305% (5031/12800)\n",
            "[2,   200] loss: 317.737443 |  Acc: 41.211% (10550/25600)\n",
            "[2,   300] loss: 465.550849 |  Acc: 42.831% (16447/38400)\n",
            "Total loss: 594.504037\n",
            "\n",
            "Epoch: 2\n",
            "[3,   100] loss: 136.312105 |  Acc: 49.828% (6378/12800)\n",
            "[3,   200] loss: 266.796595 |  Acc: 50.742% (12990/25600)\n",
            "[3,   300] loss: 390.133436 |  Acc: 52.083% (20000/38400)\n",
            "Total loss: 499.949837\n",
            "\n",
            "Epoch: 3\n",
            "[4,   100] loss: 111.931821 |  Acc: 59.750% (7648/12800)\n",
            "[4,   200] loss: 219.169465 |  Acc: 60.535% (15497/25600)\n",
            "[4,   300] loss: 320.984616 |  Acc: 61.677% (23684/38400)\n",
            "Total loss: 412.036748\n",
            "\n",
            "Epoch: 4\n",
            "[5,   100] loss: 92.617949 |  Acc: 67.188% (8600/12800)\n",
            "[5,   200] loss: 182.345405 |  Acc: 67.438% (17264/25600)\n",
            "[5,   300] loss: 267.579370 |  Acc: 68.237% (26203/38400)\n",
            "Total loss: 343.216593\n",
            "\n",
            "Epoch: 5\n",
            "[6,   100] loss: 78.635548 |  Acc: 72.039% (9221/12800)\n",
            "[6,   200] loss: 155.098281 |  Acc: 72.535% (18569/25600)\n",
            "[6,   300] loss: 226.424863 |  Acc: 73.263% (28133/38400)\n",
            "Total loss: 290.846109\n",
            "\n",
            "Epoch: 6\n",
            "[7,   100] loss: 63.528086 |  Acc: 77.547% (9926/12800)\n",
            "[7,   200] loss: 127.169447 |  Acc: 77.578% (19860/25600)\n",
            "[7,   300] loss: 189.576159 |  Acc: 77.760% (29860/38400)\n",
            "Total loss: 246.322773\n",
            "\n",
            "Epoch: 7\n",
            "[8,   100] loss: 55.667147 |  Acc: 80.734% (10334/12800)\n",
            "[8,   200] loss: 113.557896 |  Acc: 80.414% (20586/25600)\n",
            "[8,   300] loss: 171.024081 |  Acc: 80.284% (30829/38400)\n",
            "Total loss: 223.329491\n",
            "\n",
            "Epoch: 8\n",
            "[9,   100] loss: 51.840963 |  Acc: 81.852% (10477/12800)\n",
            "[9,   200] loss: 103.354541 |  Acc: 81.863% (20957/25600)\n",
            "[9,   300] loss: 154.940868 |  Acc: 81.977% (31479/38400)\n",
            "Total loss: 201.543809\n",
            "\n",
            "Epoch: 9\n",
            "[10,   100] loss: 45.947517 |  Acc: 84.234% (10782/12800)\n",
            "[10,   200] loss: 93.187411 |  Acc: 84.055% (21518/25600)\n",
            "[10,   300] loss: 139.389872 |  Acc: 84.065% (32281/38400)\n",
            "Total loss: 182.575895\n",
            "\n",
            "Epoch: 10\n",
            "[11,   100] loss: 41.572569 |  Acc: 85.867% (10991/12800)\n",
            "[11,   200] loss: 84.255420 |  Acc: 85.566% (21905/25600)\n",
            "[11,   300] loss: 129.498712 |  Acc: 85.141% (32694/38400)\n",
            "Total loss: 170.378942\n",
            "\n",
            "Epoch: 11\n",
            "[12,   100] loss: 38.681841 |  Acc: 86.805% (11111/12800)\n",
            "[12,   200] loss: 79.865045 |  Acc: 86.320% (22098/25600)\n",
            "[12,   300] loss: 122.392509 |  Acc: 85.938% (33000/38400)\n",
            "Total loss: 160.791183\n",
            "\n",
            "Epoch: 12\n",
            "[13,   100] loss: 37.064925 |  Acc: 87.180% (11159/12800)\n",
            "[13,   200] loss: 76.322459 |  Acc: 86.891% (22244/25600)\n",
            "[13,   300] loss: 116.983681 |  Acc: 86.536% (33230/38400)\n",
            "Total loss: 154.056473\n",
            "\n",
            "Epoch: 13\n",
            "[14,   100] loss: 35.016977 |  Acc: 87.859% (11246/12800)\n",
            "[14,   200] loss: 72.160171 |  Acc: 87.496% (22399/25600)\n",
            "[14,   300] loss: 111.586819 |  Acc: 87.016% (33414/38400)\n",
            "Total loss: 146.567958\n",
            "\n",
            "Epoch: 14\n",
            "[15,   100] loss: 32.331747 |  Acc: 88.766% (11362/12800)\n",
            "[15,   200] loss: 70.088852 |  Acc: 87.805% (22478/25600)\n",
            "[15,   300] loss: 107.980435 |  Acc: 87.490% (33596/38400)\n",
            "Total loss: 140.302297\n",
            "\n",
            "Epoch: 15\n",
            "[16,   100] loss: 31.129813 |  Acc: 89.172% (11414/12800)\n",
            "[16,   200] loss: 66.550330 |  Acc: 88.441% (22641/25600)\n",
            "[16,   300] loss: 102.854209 |  Acc: 88.143% (33847/38400)\n",
            "Total loss: 134.646643\n",
            "\n",
            "Epoch: 16\n",
            "[17,   100] loss: 30.013386 |  Acc: 89.383% (11441/12800)\n",
            "[17,   200] loss: 62.115632 |  Acc: 89.211% (22838/25600)\n",
            "[17,   300] loss: 97.055503 |  Acc: 88.815% (34105/38400)\n",
            "Total loss: 129.138678\n",
            "\n",
            "Epoch: 17\n",
            "[18,   100] loss: 29.369898 |  Acc: 90.078% (11530/12800)\n",
            "[18,   200] loss: 60.901936 |  Acc: 89.750% (22976/25600)\n",
            "[18,   300] loss: 93.383886 |  Acc: 89.547% (34386/38400)\n",
            "Total loss: 123.696631\n",
            "\n",
            "Epoch: 18\n",
            "[19,   100] loss: 29.638245 |  Acc: 90.070% (11529/12800)\n",
            "[19,   200] loss: 61.578004 |  Acc: 89.578% (22932/25600)\n",
            "[19,   300] loss: 93.374255 |  Acc: 89.398% (34329/38400)\n",
            "Total loss: 123.978913\n",
            "\n",
            "Epoch: 19\n",
            "[20,   100] loss: 27.859967 |  Acc: 90.328% (11562/12800)\n",
            "[20,   200] loss: 59.085195 |  Acc: 89.742% (22974/25600)\n",
            "[20,   300] loss: 89.961416 |  Acc: 89.495% (34366/38400)\n",
            "Total loss: 120.261179\n",
            "\n",
            "Epoch: 20\n",
            "[21,   100] loss: 28.586843 |  Acc: 90.461% (11579/12800)\n",
            "[21,   200] loss: 58.981830 |  Acc: 90.027% (23047/25600)\n",
            "[21,   300] loss: 90.603068 |  Acc: 89.688% (34440/38400)\n",
            "Total loss: 120.177341\n",
            "Epoch 00020: reducing learning rate of group 0 to 1.0000e-02.\n",
            "\n",
            "Epoch: 21\n",
            "[22,   100] loss: 18.461854 |  Acc: 93.922% (12022/12800)\n",
            "[22,   200] loss: 32.525672 |  Acc: 94.766% (24260/25600)\n",
            "[22,   300] loss: 44.712750 |  Acc: 95.224% (36566/38400)\n",
            "Total loss: 55.220285\n",
            "\n",
            "Epoch: 22\n",
            "[23,   100] loss: 8.779542 |  Acc: 97.383% (12465/12800)\n",
            "[23,   200] loss: 16.881852 |  Acc: 97.445% (24946/25600)\n",
            "[23,   300] loss: 24.336677 |  Acc: 97.568% (37466/38400)\n",
            "Total loss: 31.454458\n",
            "\n",
            "Epoch: 23\n",
            "[24,   100] loss: 5.481983 |  Acc: 98.641% (12626/12800)\n",
            "[24,   200] loss: 10.717737 |  Acc: 98.637% (25251/25600)\n",
            "[24,   300] loss: 15.899342 |  Acc: 98.633% (37875/38400)\n",
            "Total loss: 20.960799\n",
            "\n",
            "Epoch: 24\n",
            "[25,   100] loss: 4.230819 |  Acc: 98.938% (12664/12800)\n",
            "[25,   200] loss: 7.704961 |  Acc: 99.027% (25351/25600)\n",
            "[25,   300] loss: 10.911086 |  Acc: 99.073% (38044/38400)\n",
            "Total loss: 14.240471\n",
            "\n",
            "Epoch: 25\n",
            "[26,   100] loss: 2.159737 |  Acc: 99.625% (12752/12800)\n",
            "[26,   200] loss: 4.534683 |  Acc: 99.539% (25482/25600)\n",
            "[26,   300] loss: 7.092712 |  Acc: 99.495% (38206/38400)\n",
            "Total loss: 9.580439\n",
            "\n",
            "Epoch: 26\n",
            "[27,   100] loss: 1.828378 |  Acc: 99.617% (12751/12800)\n",
            "[27,   200] loss: 3.566108 |  Acc: 99.637% (25507/25600)\n",
            "[27,   300] loss: 5.257336 |  Acc: 99.625% (38256/38400)\n",
            "Total loss: 6.811797\n",
            "\n",
            "Epoch: 27\n",
            "[28,   100] loss: 1.236515 |  Acc: 99.789% (12773/12800)\n",
            "[28,   200] loss: 2.407659 |  Acc: 99.805% (25550/25600)\n",
            "[28,   300] loss: 3.511232 |  Acc: 99.815% (38329/38400)\n",
            "Total loss: 4.663714\n",
            "\n",
            "Epoch: 28\n",
            "[29,   100] loss: 0.766881 |  Acc: 99.914% (12789/12800)\n",
            "[29,   200] loss: 1.663838 |  Acc: 99.902% (25575/25600)\n",
            "[29,   300] loss: 2.582919 |  Acc: 99.893% (38359/38400)\n",
            "Total loss: 3.481812\n",
            "\n",
            "Epoch: 29\n",
            "[30,   100] loss: 0.604149 |  Acc: 99.945% (12793/12800)\n",
            "[30,   200] loss: 1.235274 |  Acc: 99.941% (25585/25600)\n",
            "[30,   300] loss: 1.929564 |  Acc: 99.935% (38375/38400)\n",
            "Total loss: 2.437774\n",
            "\n",
            "Epoch: 30\n",
            "[31,   100] loss: 0.493930 |  Acc: 99.961% (12795/12800)\n",
            "[31,   200] loss: 0.967953 |  Acc: 99.965% (25591/25600)\n",
            "[31,   300] loss: 1.572400 |  Acc: 99.958% (38384/38400)\n",
            "Total loss: 1.988044\n",
            "\n",
            "Epoch: 31\n",
            "[32,   100] loss: 0.407103 |  Acc: 99.984% (12798/12800)\n",
            "[32,   200] loss: 0.835492 |  Acc: 99.973% (25593/25600)\n",
            "[32,   300] loss: 1.245428 |  Acc: 99.977% (38391/38400)\n",
            "Total loss: 1.575705\n",
            "\n",
            "Epoch: 32\n",
            "[33,   100] loss: 0.305421 |  Acc: 100.000% (12800/12800)\n",
            "[33,   200] loss: 0.613986 |  Acc: 99.992% (25598/25600)\n",
            "[33,   300] loss: 0.930958 |  Acc: 99.992% (38397/38400)\n",
            "Total loss: 1.212217\n",
            "\n",
            "Epoch: 33\n",
            "[34,   100] loss: 0.281263 |  Acc: 99.984% (12798/12800)\n",
            "[34,   200] loss: 0.554734 |  Acc: 99.992% (25598/25600)\n",
            "[34,   300] loss: 0.883646 |  Acc: 99.990% (38396/38400)\n",
            "Total loss: 1.173032\n",
            "\n",
            "Epoch: 34\n",
            "[35,   100] loss: 0.266213 |  Acc: 100.000% (12800/12800)\n",
            "[35,   200] loss: 0.549617 |  Acc: 99.992% (25598/25600)\n",
            "[35,   300] loss: 0.811313 |  Acc: 99.995% (38398/38400)\n",
            "Total loss: 1.025446\n",
            "\n",
            "Epoch: 35\n",
            "[36,   100] loss: 0.274150 |  Acc: 100.000% (12800/12800)\n",
            "[36,   200] loss: 0.549145 |  Acc: 99.996% (25599/25600)\n",
            "[36,   300] loss: 0.804081 |  Acc: 99.997% (38399/38400)\n",
            "Total loss: 1.015805\n",
            "\n",
            "Epoch: 36\n",
            "[37,   100] loss: 0.252373 |  Acc: 99.992% (12799/12800)\n",
            "[37,   200] loss: 0.504313 |  Acc: 99.988% (25597/25600)\n",
            "[37,   300] loss: 0.759676 |  Acc: 99.990% (38396/38400)\n",
            "Total loss: 0.965356\n",
            "\n",
            "Epoch: 37\n",
            "[38,   100] loss: 0.226473 |  Acc: 99.984% (12798/12800)\n",
            "[38,   200] loss: 0.444468 |  Acc: 99.992% (25598/25600)\n",
            "[38,   300] loss: 0.645372 |  Acc: 99.995% (38398/38400)\n",
            "Total loss: 0.826220\n",
            "\n",
            "Epoch: 38\n",
            "[39,   100] loss: 0.188725 |  Acc: 100.000% (12800/12800)\n",
            "[39,   200] loss: 0.367939 |  Acc: 100.000% (25600/25600)\n",
            "[39,   300] loss: 0.586704 |  Acc: 99.997% (38399/38400)\n",
            "Total loss: 0.765982\n",
            "\n",
            "Epoch: 39\n",
            "[40,   100] loss: 0.181322 |  Acc: 100.000% (12800/12800)\n",
            "[40,   200] loss: 0.383087 |  Acc: 100.000% (25600/25600)\n",
            "[40,   300] loss: 0.582434 |  Acc: 100.000% (38400/38400)\n",
            "Total loss: 0.754500\n",
            "\n",
            "Epoch: 40\n",
            "[41,   100] loss: 0.190788 |  Acc: 100.000% (12800/12800)\n",
            "[41,   200] loss: 0.384811 |  Acc: 100.000% (25600/25600)\n",
            "[41,   300] loss: 0.580404 |  Acc: 100.000% (38400/38400)\n",
            "Total loss: 0.751397\n",
            "\n",
            "Epoch: 41\n",
            "[42,   100] loss: 0.212135 |  Acc: 100.000% (12800/12800)\n",
            "[42,   200] loss: 0.441421 |  Acc: 99.996% (25599/25600)\n",
            "[42,   300] loss: 0.635708 |  Acc: 99.997% (38399/38400)\n",
            "Total loss: 0.791418\n",
            "Epoch 00041: reducing learning rate of group 0 to 1.0000e-03.\n",
            "\n",
            "Epoch: 42\n",
            "[43,   100] loss: 0.171043 |  Acc: 100.000% (12800/12800)\n",
            "[43,   200] loss: 0.337575 |  Acc: 100.000% (25600/25600)\n",
            "[43,   300] loss: 0.535923 |  Acc: 100.000% (38400/38400)\n",
            "Total loss: 0.689142\n",
            "\n",
            "Epoch: 43\n",
            "[44,   100] loss: 0.169053 |  Acc: 100.000% (12800/12800)\n",
            "[44,   200] loss: 0.340673 |  Acc: 100.000% (25600/25600)\n",
            "[44,   300] loss: 0.515360 |  Acc: 100.000% (38400/38400)\n",
            "Total loss: 0.680573\n",
            "\n",
            "Epoch: 44\n",
            "[45,   100] loss: 0.178239 |  Acc: 100.000% (12800/12800)\n",
            "[45,   200] loss: 0.355008 |  Acc: 100.000% (25600/25600)\n",
            "[45,   300] loss: 0.518395 |  Acc: 100.000% (38400/38400)\n",
            "Total loss: 0.674060\n",
            "\n",
            "Epoch: 45\n",
            "[46,   100] loss: 0.161336 |  Acc: 100.000% (12800/12800)\n",
            "[46,   200] loss: 0.325892 |  Acc: 100.000% (25600/25600)\n",
            "[46,   300] loss: 0.507150 |  Acc: 100.000% (38400/38400)\n",
            "Total loss: 0.661539\n",
            "\n",
            "Epoch: 46\n",
            "[47,   100] loss: 0.163728 |  Acc: 100.000% (12800/12800)\n",
            "[47,   200] loss: 0.334095 |  Acc: 100.000% (25600/25600)\n",
            "[47,   300] loss: 0.496575 |  Acc: 100.000% (38400/38400)\n",
            "Total loss: 0.647261\n",
            "Epoch 00046: reducing learning rate of group 0 to 1.0000e-04.\n",
            "\n",
            "Epoch: 47\n",
            "[48,   100] loss: 0.165132 |  Acc: 100.000% (12800/12800)\n",
            "[48,   200] loss: 0.325815 |  Acc: 100.000% (25600/25600)\n",
            "[48,   300] loss: 0.487744 |  Acc: 100.000% (38400/38400)\n",
            "Total loss: 0.639650\n",
            "\n",
            "Epoch: 48\n",
            "[49,   100] loss: 0.158742 |  Acc: 100.000% (12800/12800)\n",
            "[49,   200] loss: 0.336114 |  Acc: 100.000% (25600/25600)\n",
            "[49,   300] loss: 0.499460 |  Acc: 100.000% (38400/38400)\n",
            "Total loss: 0.649956\n",
            "\n",
            "Epoch: 49\n",
            "[50,   100] loss: 0.170735 |  Acc: 100.000% (12800/12800)\n",
            "[50,   200] loss: 0.347040 |  Acc: 100.000% (25600/25600)\n",
            "[50,   300] loss: 0.518934 |  Acc: 100.000% (38400/38400)\n",
            "Total loss: 0.669974\n"
          ]
        }
      ]
    },
    {
      "cell_type": "code",
      "source": [
        "\n",
        "\n",
        "save_model = True\n",
        "if save_model:\n",
        "    state = {\n",
        "        'net': net.state_dict(),\n",
        "        'epoch': epoch,\n",
        "    }\n",
        "    os.makedirs('checkpoint', exist_ok=True)\n",
        "    torch.save(state, './checkpoint/res18.ckpt')\n",
        "\n"
      ],
      "metadata": {
        "id": "mJPDKstMM7-r"
      },
      "execution_count": 33,
      "outputs": []
    },
    {
      "cell_type": "code",
      "source": [
        "dataiter = iter(test_loader)\n",
        "images, labels = dataiter.next()\n",
        "images = images[:4]\n",
        "labels = labels[:4]\n",
        "# print images\n",
        "imshow(torchvision.utils.make_grid(images))\n",
        "print('GroundTruth: ', ' '.join('%5s' % classes[labels[j]] for j in range(4)))\n",
        "\n",
        "outputs = net(images.to(device))\n",
        "_, predicted = torch.max(outputs.cpu(), 1)\n",
        "print('Predicted: ', ' '.join('%5s' % classes[predicted[j]]\n",
        "                              for j in range(4)))\n",
        "correct = 0\n",
        "total = 0\n",
        "with torch.no_grad():\n",
        "    for data in test_loader:\n",
        "        images, labels = data\n",
        "        images, labels = images.to(device), labels.to(device)\n",
        "        outputs = net(images)\n",
        "        _, predicted = torch.max(outputs.data, 1)\n",
        "        total += labels.size(0)\n",
        "        correct += (predicted == labels).sum().item()\n",
        "\n",
        "print('Accuracy of the network on the 10000 test images: %d %%' % (\n",
        "    100 * correct / total))\n",
        "\n",
        "class_correct = list(0. for i in range(10))\n",
        "class_total = list(0. for i in range(10))\n",
        "with torch.no_grad():\n",
        "    for data in test_loader:\n",
        "        images, labels = data\n",
        "        images, labels = images.to(device), labels.to(device)\n",
        "        outputs = net(images)\n",
        "        _, predicted = torch.max(outputs, 1)\n",
        "        c = (predicted == labels).squeeze()\n",
        "        for i in range(4):\n",
        "            label = labels[i]\n",
        "            class_correct[label] += c[i].item()\n",
        "            class_total[label] += 1\n",
        "\n",
        "\n",
        "for i in range(10):\n",
        "    print('Accuracy of %5s : %2d %%' % (\n",
        "        classes[i], 100 * class_correct[i] / class_total[i]))"
      ],
      "metadata": {
        "colab": {
          "base_uri": "https://localhost:8080/",
          "height": 437
        },
        "id": "3KRSDaH-NBkq",
        "outputId": "901a9eae-01a9-4dbc-f39b-20a56869d573"
      },
      "execution_count": 34,
      "outputs": [
        {
          "output_type": "stream",
          "name": "stderr",
          "text": [
            "/usr/local/lib/python3.7/dist-packages/torch/utils/data/dataloader.py:490: UserWarning: This DataLoader will create 4 worker processes in total. Our suggested max number of worker in current system is 2, which is smaller than what this DataLoader is going to create. Please be aware that excessive worker creation might get DataLoader running slow or even freeze, lower the worker number to avoid potential slowness/freeze if necessary.\n",
            "  cpuset_checked))\n"
          ]
        },
        {
          "output_type": "display_data",
          "data": {
            "text/plain": [
              "<Figure size 432x288 with 1 Axes>"
            ],
            "image/png": "[encoded data removed]"
          },
          "metadata": {
            "needs_background": "light"
          }
        },
        {
          "output_type": "stream",
          "name": "stdout",
          "text": [
            "GroundTruth:    cat  ship  ship plane\n",
            "Predicted:    cat  ship truck plane\n",
            "Accuracy of the network on the 10000 test images: 90 %\n",
            "Accuracy of plane : 93 %\n",
            "Accuracy of   car : 96 %\n",
            "Accuracy of  bird : 73 %\n",
            "Accuracy of   cat : 86 %\n",
            "Accuracy of  deer : 91 %\n",
            "Accuracy of   dog : 87 %\n",
            "Accuracy of  frog : 90 %\n",
            "Accuracy of horse : 90 %\n",
            "Accuracy of  ship : 95 %\n",
            "Accuracy of truck : 93 %\n"
          ]
        }
      ]
    },
    {
      "cell_type": "markdown",
      "source": [
        "6. Explain the test method, if we used pre-trained model and why we did that"
      ],
      "metadata": {
        "id": "1DrftbxYemLy"
      }
    },
    {
      "cell_type": "markdown",
      "source": [
        "7. Need to look at the performance metrics, can see accuracy is included, training loss, as well as some sample from the classes, need to add confusion matrix"
      ],
      "metadata": {
        "id": "0ovPoApWev7D"
      }
    }
  ]
}