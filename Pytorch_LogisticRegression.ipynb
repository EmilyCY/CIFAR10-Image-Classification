{
  "nbformat": 4,
  "nbformat_minor": 0,
  "metadata": {
    "colab": {
      "name": "Pytorch_LogisticRegression.ipynb",
      "provenance": [],
      "authorship_tag": "ABX9TyPHPyMzLXk2ozXvA622RZ6o",
      "include_colab_link": true
    },
    "kernelspec": {
      "name": "python3",
      "display_name": "Python 3"
    },
    "language_info": {
      "name": "python"
    },
    "widgets": {
      "application/vnd.jupyter.widget-state+json": {
        "887b612b4acc4cfab72b23343ee2cdf9": {
          "model_module": "@jupyter-widgets/controls",
          "model_name": "HBoxModel",
          "model_module_version": "1.5.0",
          "state": {
            "_dom_classes": [],
            "_model_module": "@jupyter-widgets/controls",
            "_model_module_version": "1.5.0",
            "_model_name": "HBoxModel",
            "_view_count": null,
            "_view_module": "@jupyter-widgets/controls",
            "_view_module_version": "1.5.0",
            "_view_name": "HBoxView",
            "box_style": "",
            "children": [
              "IPY_MODEL_68307860fccb4caeaa27af2c0d69a80a",
              "IPY_MODEL_a9e0a35d2bf94c00aba44e3434d04307",
              "IPY_MODEL_96b1104b108b4fbda3363395c7a06678"
            ],
            "layout": "IPY_MODEL_8666421c909a4a67bcd060cbb49c723e"
          }
        },
        "68307860fccb4caeaa27af2c0d69a80a": {
          "model_module": "@jupyter-widgets/controls",
          "model_name": "HTMLModel",
          "model_module_version": "1.5.0",
          "state": {
            "_dom_classes": [],
            "_model_module": "@jupyter-widgets/controls",
            "_model_module_version": "1.5.0",
            "_model_name": "HTMLModel",
            "_view_count": null,
            "_view_module": "@jupyter-widgets/controls",
            "_view_module_version": "1.5.0",
            "_view_name": "HTMLView",
            "description": "",
            "description_tooltip": null,
            "layout": "IPY_MODEL_496f20b0622941e5b13fbd95cd672e9c",
            "placeholder": "​",
            "style": "IPY_MODEL_a54ce2c534e944d29786e1abe57cc6ca",
            "value": ""
          }
        },
        "a9e0a35d2bf94c00aba44e3434d04307": {
          "model_module": "@jupyter-widgets/controls",
          "model_name": "FloatProgressModel",
          "model_module_version": "1.5.0",
          "state": {
            "_dom_classes": [],
            "_model_module": "@jupyter-widgets/controls",
            "_model_module_version": "1.5.0",
            "_model_name": "FloatProgressModel",
            "_view_count": null,
            "_view_module": "@jupyter-widgets/controls",
            "_view_module_version": "1.5.0",
            "_view_name": "ProgressView",
            "bar_style": "success",
            "description": "",
            "description_tooltip": null,
            "layout": "IPY_MODEL_411e7387f4604c54be4864814fd68535",
            "max": 170498071,
            "min": 0,
            "orientation": "horizontal",
            "style": "IPY_MODEL_ef88170f901746019d63cce9f04aa5d2",
            "value": 170498071
          }
        },
        "96b1104b108b4fbda3363395c7a06678": {
          "model_module": "@jupyter-widgets/controls",
          "model_name": "HTMLModel",
          "model_module_version": "1.5.0",
          "state": {
            "_dom_classes": [],
            "_model_module": "@jupyter-widgets/controls",
            "_model_module_version": "1.5.0",
            "_model_name": "HTMLModel",
            "_view_count": null,
            "_view_module": "@jupyter-widgets/controls",
            "_view_module_version": "1.5.0",
            "_view_name": "HTMLView",
            "description": "",
            "description_tooltip": null,
            "layout": "IPY_MODEL_0e2b209f2ca64f9d97f53c8c9d0c9300",
            "placeholder": "​",
            "style": "IPY_MODEL_62b54507a1354ceb912264d5f444b664",
            "value": " 170499072/? [00:03&lt;00:00, 40533703.10it/s]"
          }
        },
        "8666421c909a4a67bcd060cbb49c723e": {
          "model_module": "@jupyter-widgets/base",
          "model_name": "LayoutModel",
          "model_module_version": "1.2.0",
          "state": {
            "_model_module": "@jupyter-widgets/base",
            "_model_module_version": "1.2.0",
            "_model_name": "LayoutModel",
            "_view_count": null,
            "_view_module": "@jupyter-widgets/base",
            "_view_module_version": "1.2.0",
            "_view_name": "LayoutView",
            "align_content": null,
            "align_items": null,
            "align_self": null,
            "border": null,
            "bottom": null,
            "display": null,
            "flex": null,
            "flex_flow": null,
            "grid_area": null,
            "grid_auto_columns": null,
            "grid_auto_flow": null,
            "grid_auto_rows": null,
            "grid_column": null,
            "grid_gap": null,
            "grid_row": null,
            "grid_template_areas": null,
            "grid_template_columns": null,
            "grid_template_rows": null,
            "height": null,
            "justify_content": null,
            "justify_items": null,
            "left": null,
            "margin": null,
            "max_height": null,
            "max_width": null,
            "min_height": null,
            "min_width": null,
            "object_fit": null,
            "object_position": null,
            "order": null,
            "overflow": null,
            "overflow_x": null,
            "overflow_y": null,
            "padding": null,
            "right": null,
            "top": null,
            "visibility": null,
            "width": null
          }
        },
        "496f20b0622941e5b13fbd95cd672e9c": {
          "model_module": "@jupyter-widgets/base",
          "model_name": "LayoutModel",
          "model_module_version": "1.2.0",
          "state": {
            "_model_module": "@jupyter-widgets/base",
            "_model_module_version": "1.2.0",
            "_model_name": "LayoutModel",
            "_view_count": null,
            "_view_module": "@jupyter-widgets/base",
            "_view_module_version": "1.2.0",
            "_view_name": "LayoutView",
            "align_content": null,
            "align_items": null,
            "align_self": null,
            "border": null,
            "bottom": null,
            "display": null,
            "flex": null,
            "flex_flow": null,
            "grid_area": null,
            "grid_auto_columns": null,
            "grid_auto_flow": null,
            "grid_auto_rows": null,
            "grid_column": null,
            "grid_gap": null,
            "grid_row": null,
            "grid_template_areas": null,
            "grid_template_columns": null,
            "grid_template_rows": null,
            "height": null,
            "justify_content": null,
            "justify_items": null,
            "left": null,
            "margin": null,
            "max_height": null,
            "max_width": null,
            "min_height": null,
            "min_width": null,
            "object_fit": null,
            "object_position": null,
            "order": null,
            "overflow": null,
            "overflow_x": null,
            "overflow_y": null,
            "padding": null,
            "right": null,
            "top": null,
            "visibility": null,
            "width": null
          }
        },
        "a54ce2c534e944d29786e1abe57cc6ca": {
          "model_module": "@jupyter-widgets/controls",
          "model_name": "DescriptionStyleModel",
          "model_module_version": "1.5.0",
          "state": {
            "_model_module": "@jupyter-widgets/controls",
            "_model_module_version": "1.5.0",
            "_model_name": "DescriptionStyleModel",
            "_view_count": null,
            "_view_module": "@jupyter-widgets/base",
            "_view_module_version": "1.2.0",
            "_view_name": "StyleView",
            "description_width": ""
          }
        },
        "411e7387f4604c54be4864814fd68535": {
          "model_module": "@jupyter-widgets/base",
          "model_name": "LayoutModel",
          "model_module_version": "1.2.0",
          "state": {
            "_model_module": "@jupyter-widgets/base",
            "_model_module_version": "1.2.0",
            "_model_name": "LayoutModel",
            "_view_count": null,
            "_view_module": "@jupyter-widgets/base",
            "_view_module_version": "1.2.0",
            "_view_name": "LayoutView",
            "align_content": null,
            "align_items": null,
            "align_self": null,
            "border": null,
            "bottom": null,
            "display": null,
            "flex": null,
            "flex_flow": null,
            "grid_area": null,
            "grid_auto_columns": null,
            "grid_auto_flow": null,
            "grid_auto_rows": null,
            "grid_column": null,
            "grid_gap": null,
            "grid_row": null,
            "grid_template_areas": null,
            "grid_template_columns": null,
            "grid_template_rows": null,
            "height": null,
            "justify_content": null,
            "justify_items": null,
            "left": null,
            "margin": null,
            "max_height": null,
            "max_width": null,
            "min_height": null,
            "min_width": null,
            "object_fit": null,
            "object_position": null,
            "order": null,
            "overflow": null,
            "overflow_x": null,
            "overflow_y": null,
            "padding": null,
            "right": null,
            "top": null,
            "visibility": null,
            "width": null
          }
        },
        "ef88170f901746019d63cce9f04aa5d2": {
          "model_module": "@jupyter-widgets/controls",
          "model_name": "ProgressStyleModel",
          "model_module_version": "1.5.0",
          "state": {
            "_model_module": "@jupyter-widgets/controls",
            "_model_module_version": "1.5.0",
            "_model_name": "ProgressStyleModel",
            "_view_count": null,
            "_view_module": "@jupyter-widgets/base",
            "_view_module_version": "1.2.0",
            "_view_name": "StyleView",
            "bar_color": null,
            "description_width": ""
          }
        },
        "0e2b209f2ca64f9d97f53c8c9d0c9300": {
          "model_module": "@jupyter-widgets/base",
          "model_name": "LayoutModel",
          "model_module_version": "1.2.0",
          "state": {
            "_model_module": "@jupyter-widgets/base",
            "_model_module_version": "1.2.0",
            "_model_name": "LayoutModel",
            "_view_count": null,
            "_view_module": "@jupyter-widgets/base",
            "_view_module_version": "1.2.0",
            "_view_name": "LayoutView",
            "align_content": null,
            "align_items": null,
            "align_self": null,
            "border": null,
            "bottom": null,
            "display": null,
            "flex": null,
            "flex_flow": null,
            "grid_area": null,
            "grid_auto_columns": null,
            "grid_auto_flow": null,
            "grid_auto_rows": null,
            "grid_column": null,
            "grid_gap": null,
            "grid_row": null,
            "grid_template_areas": null,
            "grid_template_columns": null,
            "grid_template_rows": null,
            "height": null,
            "justify_content": null,
            "justify_items": null,
            "left": null,
            "margin": null,
            "max_height": null,
            "max_width": null,
            "min_height": null,
            "min_width": null,
            "object_fit": null,
            "object_position": null,
            "order": null,
            "overflow": null,
            "overflow_x": null,
            "overflow_y": null,
            "padding": null,
            "right": null,
            "top": null,
            "visibility": null,
            "width": null
          }
        },
        "62b54507a1354ceb912264d5f444b664": {
          "model_module": "@jupyter-widgets/controls",
          "model_name": "DescriptionStyleModel",
          "model_module_version": "1.5.0",
          "state": {
            "_model_module": "@jupyter-widgets/controls",
            "_model_module_version": "1.5.0",
            "_model_name": "DescriptionStyleModel",
            "_view_count": null,
            "_view_module": "@jupyter-widgets/base",
            "_view_module_version": "1.2.0",
            "_view_name": "StyleView",
            "description_width": ""
          }
        }
      }
    },
    "accelerator": "TPU"
  },
  "cells": [
    {
      "cell_type": "markdown",
      "metadata": {
        "id": "view-in-github",
        "colab_type": "text"
      },
      "source": [
        "<a href=\"https://colab.research.google.com/github/EmilyCY/CIFAR10-Image-Classification/blob/Kman/Pytorch_LogisticRegression.ipynb\" target=\"_parent\"><img src=\"https://colab.research.google.com/assets/colab-badge.svg\" alt=\"Open In Colab\"/></a>"
      ]
    },
    {
      "cell_type": "markdown",
      "source": [
        "# Pytorch version (incomplete)"
      ],
      "metadata": {
        "id": "qXKHat9kyVja"
      }
    },
    {
      "cell_type": "code",
      "execution_count": 1,
      "metadata": {
        "id": "0NswDi-YNmrj"
      },
      "outputs": [],
      "source": [
        "import pandas as pd\n",
        "import numpy as np\n",
        "import matplotlib as mpl\n",
        "import matplotlib.pyplot as plt\n",
        "import torch\n",
        "import torchvision"
      ]
    },
    {
      "cell_type": "code",
      "source": [
        "#set matplotlib to inline\n",
        "%matplotlib inline"
      ],
      "metadata": {
        "id": "Cff5TgUFh46I"
      },
      "execution_count": 2,
      "outputs": []
    },
    {
      "cell_type": "code",
      "source": [
        "#do we want to use PCIKLE to load the data??\n",
        "#def unpickle(file):\n",
        "    #import pickle\n",
        "   # with open(file, 'rb') as fo:\n",
        "        #dict = pickle.load(fo, encoding='bytes')\n",
        "    #return dict"
      ],
      "metadata": {
        "id": "KSq3zHMKOMR3"
      },
      "execution_count": 3,
      "outputs": []
    },
    {
      "cell_type": "markdown",
      "source": [
        "The file has 60000 rows, each row contains a single index into the tiny db,\n",
        "where the first image in the tiny db is indexed \"1\". \"0\" stands for an image that is not from the tiny db.\n",
        "The first 50000 lines correspond to the training set, and the last 10000 lines correspond\n",
        "to the test set."
      ],
      "metadata": {
        "id": "l-31B7_bOl1O"
      }
    },
    {
      "cell_type": "code",
      "source": [
        "import torch\n",
        "import torchvision\n",
        "import torchvision.transforms as transforms"
      ],
      "metadata": {
        "id": "b-uG9XYQaLee"
      },
      "execution_count": 4,
      "outputs": []
    },
    {
      "cell_type": "markdown",
      "source": [
        "Process: Import dataset\n",
        "Transform images to RGB matrices of 3x32x32.\n",
        "\n",
        "Data partitioning into 50k training and 10k test sets\n",
        "\n",
        "Via SubsetRandomSampler, the dataset is shuffled once again into an iterative object.\n",
        "\n",
        "Via DataLoader, the randomly shuffled indexes paired with corresponding image matrices, in preset batches decided by batchSize.\n",
        "\n",
        "Modify the nn.linear function by editing the class nn.model, and making it so that nn.linear automatically flattens a matrix before entering it in nn.linear\n",
        "\n",
        "Inputting the number of classes (X's rows) and number of features (X's columns) into nn.linear gives us a model, and empty set of thetas to multiply something by.\n",
        "\n",
        "By iterating through our trainLoader, which contains both the image matrix and the labels, we can input the image matrices through our model to get our outputs."
      ],
      "metadata": {
        "id": "snr_VP55sN5Y"
      }
    },
    {
      "cell_type": "code",
      "source": [
        "# import the training set (first 50,000 imgs) by setting train=True.\n",
        "trainset = torchvision.datasets.CIFAR10(root='./data', train=True,download=True)\n",
        "# import the test set (10,000 imgs) by setting train=False\n",
        "testset = torchvision.datasets.CIFAR10(root='./data', train=False, download=True)\n",
        "# define the ten labels manually.\n",
        "classes = ('plane', 'car', 'bird', 'cat', 'deer', 'dog', 'frog', 'horse', 'ship', 'truck')"
      ],
      "metadata": {
        "colab": {
          "base_uri": "https://localhost:8080/",
          "height": 101,
          "referenced_widgets": [
            "887b612b4acc4cfab72b23343ee2cdf9",
            "68307860fccb4caeaa27af2c0d69a80a",
            "a9e0a35d2bf94c00aba44e3434d04307",
            "96b1104b108b4fbda3363395c7a06678",
            "8666421c909a4a67bcd060cbb49c723e",
            "496f20b0622941e5b13fbd95cd672e9c",
            "a54ce2c534e944d29786e1abe57cc6ca",
            "411e7387f4604c54be4864814fd68535",
            "ef88170f901746019d63cce9f04aa5d2",
            "0e2b209f2ca64f9d97f53c8c9d0c9300",
            "62b54507a1354ceb912264d5f444b664"
          ]
        },
        "id": "HPJzcZQ3aMu1",
        "outputId": "d63cf244-5b9a-4605-a659-542feaa194db"
      },
      "execution_count": 5,
      "outputs": [
        {
          "output_type": "stream",
          "name": "stdout",
          "text": [
            "Downloading https://www.cs.toronto.edu/~kriz/cifar-10-python.tar.gz to ./data/cifar-10-python.tar.gz\n"
          ]
        },
        {
          "output_type": "display_data",
          "data": {
            "text/plain": [
              "  0%|          | 0/170498071 [00:00<?, ?it/s]"
            ],
            "application/vnd.jupyter.widget-view+json": {
              "version_major": 2,
              "version_minor": 0,
              "model_id": "887b612b4acc4cfab72b23343ee2cdf9"
            }
          },
          "metadata": {}
        },
        {
          "output_type": "stream",
          "name": "stdout",
          "text": [
            "Extracting ./data/cifar-10-python.tar.gz to ./data\n",
            "Files already downloaded and verified\n"
          ]
        }
      ]
    },
    {
      "cell_type": "code",
      "source": [
        "#check the data is loaded correctly\n",
        "#data sholuld be loaded as a tuple\n",
        "print(\"This is the length of the trainset: \",len(trainset))\n",
        "print(\"This is the length of the testset: \",len(testset))"
      ],
      "metadata": {
        "colab": {
          "base_uri": "https://localhost:8080/"
        },
        "id": "Thkdddlmi9Id",
        "outputId": "6cd24559-a0c2-441f-b25a-7d3bd4df5814"
      },
      "execution_count": 6,
      "outputs": [
        {
          "output_type": "stream",
          "name": "stdout",
          "text": [
            "This is the length of the trainset:  50000\n",
            "This is the length of the testset:  10000\n"
          ]
        }
      ]
    },
    {
      "cell_type": "code",
      "source": [
        "print(trainset)"
      ],
      "metadata": {
        "id": "b8qgT5bjmS7_",
        "outputId": "f5eedd0d-5a6b-4f18-9563-36e949d9de66",
        "colab": {
          "base_uri": "https://localhost:8080/"
        }
      },
      "execution_count": 7,
      "outputs": [
        {
          "output_type": "stream",
          "name": "stdout",
          "text": [
            "Dataset CIFAR10\n",
            "    Number of datapoints: 50000\n",
            "    Root location: ./data\n",
            "    Split: Train\n"
          ]
        }
      ]
    },
    {
      "cell_type": "code",
      "source": [
        "print(testset)"
      ],
      "metadata": {
        "id": "8aZMb4zrmWPk",
        "outputId": "c47cadde-c4e6-4852-c809-bfa61f4ed9f0",
        "colab": {
          "base_uri": "https://localhost:8080/"
        }
      },
      "execution_count": 8,
      "outputs": [
        {
          "output_type": "stream",
          "name": "stdout",
          "text": [
            "Dataset CIFAR10\n",
            "    Number of datapoints: 10000\n",
            "    Root location: ./data\n",
            "    Split: Test\n"
          ]
        }
      ]
    },
    {
      "cell_type": "markdown",
      "source": [
        "#Look at some of the images downloaded"
      ],
      "metadata": {
        "id": "F3V-s0GKgxsY"
      }
    },
    {
      "cell_type": "code",
      "source": [
        "example = 1999\n",
        "image, label = trainset[example] #since each element of the trainset list is itself a tuple with the image details, and then the label\n",
        "print(\"this is an image of a \" + classes[(trainset[example])[1]]) # first index into tuple in trainset, then the 2nd value (label), and then the classes\n",
        "plt.imshow(image)"
      ],
      "metadata": {
        "colab": {
          "base_uri": "https://localhost:8080/",
          "height": 301
        },
        "id": "mKek_CpOewte",
        "outputId": "0af52c37-9ad4-4ebb-e0da-70cbff4026f2"
      },
      "execution_count": 9,
      "outputs": [
        {
          "output_type": "stream",
          "name": "stdout",
          "text": [
            "this is an image of a plane\n"
          ]
        },
        {
          "output_type": "execute_result",
          "data": {
            "text/plain": [
              "<matplotlib.image.AxesImage at 0x7fbd460eacd0>"
            ]
          },
          "metadata": {},
          "execution_count": 9
        },
        {
          "output_type": "display_data",
          "data": {
            "text/plain": [
              "<Figure size 432x288 with 1 Axes>"
            ],
            "image/png": "[encoded data removed]"
          },
          "metadata": {
            "needs_background": "light"
          }
        }
      ]
    },
    {
      "cell_type": "code",
      "source": [
        "#Examine the format it is supplied in\n",
        "#Image is supplied as PIL\n",
        "print(trainset[100])"
      ],
      "metadata": {
        "colab": {
          "base_uri": "https://localhost:8080/"
        },
        "id": "USQnOLbH0Niz",
        "outputId": "91d31270-9175-4738-b148-33bfb8a7ba42"
      },
      "execution_count": 10,
      "outputs": [
        {
          "output_type": "stream",
          "name": "stdout",
          "text": [
            "(<PIL.Image.Image image mode=RGB size=32x32 at 0x7FBD46D91E50>, 8)\n"
          ]
        }
      ]
    },
    {
      "cell_type": "markdown",
      "source": [
        "# Transforming images into matrices of color values"
      ],
      "metadata": {
        "id": "LYS7ElZt55L4"
      }
    },
    {
      "cell_type": "markdown",
      "source": [
        "This transforms the image into a matrices of colours for each pixel"
      ],
      "metadata": {
        "id": "zpQRyVQ56ENa"
      }
    },
    {
      "cell_type": "code",
      "source": [
        "#transform images into RGB\n",
        "import torchvision.transforms as transforms"
      ],
      "metadata": {
        "id": "x2PK94912MBb"
      },
      "execution_count": 11,
      "outputs": []
    },
    {
      "cell_type": "code",
      "source": [
        "datasetT = torchvision.datasets.CIFAR10(root='./data', train=True,\n",
        "                                        download=True, transform=transforms.ToTensor())\n",
        "print(datasetT)"
      ],
      "metadata": {
        "colab": {
          "base_uri": "https://localhost:8080/"
        },
        "id": "kjg_ns2I3xuL",
        "outputId": "30fc799d-6a72-4847-f995-f20be58af0c0"
      },
      "execution_count": 68,
      "outputs": [
        {
          "output_type": "stream",
          "name": "stdout",
          "text": [
            "Files already downloaded and verified\n",
            "Dataset CIFAR10\n",
            "    Number of datapoints: 50000\n",
            "    Root location: ./data\n",
            "    Split: Train\n",
            "    StandardTransform\n",
            "Transform: ToTensor()\n"
          ]
        }
      ]
    },
    {
      "cell_type": "code",
      "source": [
        "#Examine the format it is supplied in\n",
        "#Image is supplied as PIL\n",
        "#QUESITON: why is this the same as prior to transform? Check how it was loaded. Did this occur in the loading stage?\n",
        "print(trainset[100])"
      ],
      "metadata": {
        "colab": {
          "base_uri": "https://localhost:8080/"
        },
        "id": "QKIaa6Nu3zHi",
        "outputId": "20ef7fb2-2555-46f6-e8b7-ca8afc4f5ca9"
      },
      "execution_count": 13,
      "outputs": [
        {
          "output_type": "stream",
          "name": "stdout",
          "text": [
            "(<PIL.Image.Image image mode=RGB size=32x32 at 0x7FBD45A73CD0>, 8)\n"
          ]
        }
      ]
    },
    {
      "cell_type": "code",
      "source": [
        "#This is how to show the shape!!\n",
        "imgTensor, label = datasetT[example]\n",
        "print('size of image matrix: ' + str(imgTensor.shape))\n",
        "print(\"this is an image of a \" + classes[(trainset[example])[1]])"
      ],
      "metadata": {
        "colab": {
          "base_uri": "https://localhost:8080/"
        },
        "id": "bNNZlHjj4qML",
        "outputId": "48514916-59cb-42eb-a876-7bac5f11229d"
      },
      "execution_count": 14,
      "outputs": [
        {
          "output_type": "stream",
          "name": "stdout",
          "text": [
            "size of image matrix: torch.Size([3, 32, 32])\n",
            "this is an image of a plane\n"
          ]
        }
      ]
    },
    {
      "cell_type": "code",
      "source": [
        "#Look at the pixel values for the bottom 4 pixels (2x2)\n",
        "print(imgTensor[:, 0:2, 0:2])"
      ],
      "metadata": {
        "colab": {
          "base_uri": "https://localhost:8080/"
        },
        "id": "lM8PNZ5D5AY4",
        "outputId": "4d0d26a4-44c4-443e-8a67-189f60375a27"
      },
      "execution_count": 15,
      "outputs": [
        {
          "output_type": "stream",
          "name": "stdout",
          "text": [
            "tensor([[[0.4863, 0.4941],\n",
            "         [0.5255, 0.5647]],\n",
            "\n",
            "        [[0.7451, 0.7255],\n",
            "         [0.7412, 0.6863]],\n",
            "\n",
            "        [[0.8824, 0.8431],\n",
            "         [0.8784, 0.8078]]])\n"
          ]
        }
      ]
    },
    {
      "cell_type": "code",
      "source": [
        "#Plot the image from the imgTensor values\n",
        "#limit the colours to Blues\n",
        "imgTensor, label = datasetT[example]\n",
        "plt.imshow(imgTensor[1, 0:64, 0:64], cmap='Blues')\n",
        "# change the 0 to 1 or 2 for different color channels.\n",
        "print(\"R channel of image 0 in dataset\")"
      ],
      "metadata": {
        "colab": {
          "base_uri": "https://localhost:8080/",
          "height": 283
        },
        "id": "-sPLX6Tl5NFC",
        "outputId": "56c29bed-62d7-46ea-9d3d-2529b18c76c6"
      },
      "execution_count": 51,
      "outputs": [
        {
          "output_type": "stream",
          "name": "stdout",
          "text": [
            "R channel of image 0 in dataset\n"
          ]
        },
        {
          "output_type": "display_data",
          "data": {
            "text/plain": [
              "<Figure size 432x288 with 1 Axes>"
            ],
            "image/png": "[encoded data removed]"
          },
          "metadata": {
            "needs_background": "light"
          }
        }
      ]
    },
    {
      "cell_type": "code",
      "source": [
        "#Plot the image from the imgTensor values\n",
        "#limit the colours to Blues\n",
        "imgTensor, label = datasetT[example]\n",
        "plt.imshow(imgTensor[0, 0:3072, 0:3072])\n",
        "# change the 0 to 1 or 2 for different color channels.\n",
        "print(\"R channel of image 0 in dataset\")"
      ],
      "metadata": {
        "colab": {
          "base_uri": "https://localhost:8080/",
          "height": 283
        },
        "id": "p7FOI79ByUN_",
        "outputId": "e5b33b36-6b3d-49b2-fb1f-02ddb88ed5af"
      },
      "execution_count": 59,
      "outputs": [
        {
          "output_type": "stream",
          "name": "stdout",
          "text": [
            "R channel of image 0 in dataset\n"
          ]
        },
        {
          "output_type": "display_data",
          "data": {
            "text/plain": [
              "<Figure size 432x288 with 1 Axes>"
            ],
            "image/png": "[encoded data removed]"
          },
          "metadata": {
            "needs_background": "light"
          }
        }
      ]
    },
    {
      "cell_type": "code",
      "source": [
        "#Plot the image from the imgTensor values\n",
        "#limit the colours to Blues\n",
        "imgTensor, label = datasetT[example]\n",
        "plt.imshow(imgTensor[1, 0:3072, 0:3072])\n",
        "# change the 0 to 1 or 2 for different color channels.\n",
        "print(\"R channel of image 0 in dataset\")"
      ],
      "metadata": {
        "colab": {
          "base_uri": "https://localhost:8080/",
          "height": 283
        },
        "id": "0itiqU3mymwW",
        "outputId": "83a1b08f-22f9-4d4f-9ec8-b2c8dff52d0d"
      },
      "execution_count": 60,
      "outputs": [
        {
          "output_type": "stream",
          "name": "stdout",
          "text": [
            "R channel of image 0 in dataset\n"
          ]
        },
        {
          "output_type": "display_data",
          "data": {
            "text/plain": [
              "<Figure size 432x288 with 1 Axes>"
            ],
            "image/png": "[encoded data removed]"
          },
          "metadata": {
            "needs_background": "light"
          }
        }
      ]
    },
    {
      "cell_type": "code",
      "source": [
        "#Plot the image from the imgTensor values\n",
        "#no colour limitation\n",
        "imgTensor, label = datasetT[example]\n",
        "plt.imshow(imgTensor[2, 0:128, 0:128])\n",
        "# change the 0 to 1 or 2 for different color channels.\n",
        "print(\"R channel of image 0 in dataset\")"
      ],
      "metadata": {
        "colab": {
          "base_uri": "https://localhost:8080/",
          "height": 283
        },
        "id": "SRRguBze6eoS",
        "outputId": "6890feac-1261-4ef7-a915-2c6f8ad6b404"
      },
      "execution_count": 63,
      "outputs": [
        {
          "output_type": "stream",
          "name": "stdout",
          "text": [
            "R channel of image 0 in dataset\n"
          ]
        },
        {
          "output_type": "display_data",
          "data": {
            "text/plain": [
              "<Figure size 432x288 with 1 Axes>"
            ],
            "image/png": "[encoded data removed]"
          },
          "metadata": {
            "needs_background": "light"
          }
        }
      ]
    },
    {
      "cell_type": "markdown",
      "source": [
        "# Splitting the data"
      ],
      "metadata": {
        "id": "URsET3_O6r4n"
      }
    },
    {
      "cell_type": "markdown",
      "source": [
        "Introduce a training set plus a cross-validation set to check for over/underfitting"
      ],
      "metadata": {
        "id": "lXWfypRq68lS"
      }
    },
    {
      "cell_type": "code",
      "source": [
        "#length of training examples.\n",
        "m = 50000 \n",
        "\n",
        "#percentage of m dedicated to CV.  \n",
        "pCV = 0.2\n",
        "\n",
        "# give the amount of examples dedicated to CV. \n",
        "mCV = int(m*pCV)\n",
        "print(\"amount of training examples: \" + str(m - mCV))\n",
        "print(\"amount of cross validation examples: \" + str(mCV))"
      ],
      "metadata": {
        "colab": {
          "base_uri": "https://localhost:8080/"
        },
        "id": "Ext5bdcj57DS",
        "outputId": "24aef8f9-c47e-44d8-946b-a5da79c39c47"
      },
      "execution_count": 18,
      "outputs": [
        {
          "output_type": "stream",
          "name": "stdout",
          "text": [
            "amount of training examples: 40000\n",
            "amount of cross validation examples: 10000\n"
          ]
        }
      ]
    },
    {
      "cell_type": "code",
      "source": [
        "#This creates a function to randomly create the training and cross-validation sets according to the % split you want\n",
        "#This could also be done using a pytorch Sampler\n",
        "def splitIndices(m, pCV):\n",
        "  \"\"\" randomly shuffle a training set's indices, then split the indices into training and cross validation sets.\n",
        "   Pass in 'm', length of training set, and 'pCV', the percentage of the training set you would like \n",
        "   to dedicate to cross validation.\"\"\"\n",
        "   \n",
        "  # determine size of CV set.\n",
        "  mCV = int(m*pCV)\n",
        "\n",
        "  #create random permutation of 0 to m-1 - randomly shuffle all values from 0 to m.\n",
        "  indices = np.random.permutation(m)\n",
        "\n",
        "  #pick first mCV indices for training, and then validation.\n",
        "  return indices[mCV:], indices[:mCV]"
      ],
      "metadata": {
        "id": "ARzPJM6R6t-K"
      },
      "execution_count": 19,
      "outputs": []
    },
    {
      "cell_type": "code",
      "source": [
        "#create the two sets\n",
        "trainIndices, valIndices = splitIndices(m, pCV)"
      ],
      "metadata": {
        "id": "nm_9cKix9DJl"
      },
      "execution_count": 20,
      "outputs": []
    },
    {
      "cell_type": "code",
      "source": [
        "# print the first few indices of the training set, and first few of the validation set, as a sanity check to see that they are shuffled.\n",
        "print(\"length of training set: \" + str(len(trainIndices)))\n",
        "print(\"length of cross validation set: \" + str(len(valIndices)))\n",
        "print()\n",
        "print('sample validation indices: ' + str(list(valIndices[0:8])))\n",
        "print('sample educational indices: ' + str(list(trainIndices[0:8])))"
      ],
      "metadata": {
        "colab": {
          "base_uri": "https://localhost:8080/"
        },
        "id": "6aNiIsEp9J7U",
        "outputId": "a390e116-fa9e-420e-bf8a-b58de747a9d5"
      },
      "execution_count": 21,
      "outputs": [
        {
          "output_type": "stream",
          "name": "stdout",
          "text": [
            "length of training set: 40000\n",
            "length of cross validation set: 10000\n",
            "\n",
            "sample validation indices: [39384, 11290, 23661, 38736, 23572, 16407, 33747, 13987]\n",
            "sample educational indices: [4041, 11666, 37584, 2349, 28477, 11533, 26980, 48812]\n"
          ]
        }
      ]
    },
    {
      "cell_type": "markdown",
      "source": [
        "Internal library method (random split) to split into Train and Validate sets"
      ],
      "metadata": {
        "id": "w6-B75hq0-sB"
      }
    },
    {
      "cell_type": "code",
      "source": [
        "#ALTERNATE CODE from Pytorch \n",
        "# PRESET CODE -- OPTIMIZED PYTORCH IMPLEMENTATION\n",
        "from torch.utils.data import random_split\n",
        "\n",
        "train_ds, val_ds = random_split(datasetT, [40000, 10000])\n",
        "len(train_ds), len(val_ds)"
      ],
      "metadata": {
        "colab": {
          "base_uri": "https://localhost:8080/"
        },
        "id": "cwHCMN_59NqS",
        "outputId": "e669d55a-83c2-4f0e-8c71-a24a331e2442"
      },
      "execution_count": 69,
      "outputs": [
        {
          "output_type": "execute_result",
          "data": {
            "text/plain": [
              "(40000, 10000)"
            ]
          },
          "metadata": {},
          "execution_count": 69
        }
      ]
    },
    {
      "cell_type": "markdown",
      "source": [
        "Next, we load the indices into groups for later stochastic gradient descent, as well as ease of programming, since these are quite large matrices."
      ],
      "metadata": {
        "id": "_gQ1un_B_af6"
      }
    },
    {
      "cell_type": "code",
      "source": [
        "from torch.utils.data.sampler import SubsetRandomSampler\n",
        "from torch.utils.data.dataloader import DataLoader"
      ],
      "metadata": {
        "id": "a88OxJYJ-qkt"
      },
      "execution_count": 23,
      "outputs": []
    },
    {
      "cell_type": "markdown",
      "source": [
        "What this below does is create a sampler object with SubsetRandomSampler, which creates an endlessly iterable 'list' of shuffled indices from trainIndices (just a list of arbitrary numbers).\n",
        "\n",
        "Then, in trainLoader, say if batch size = 2, 2 images (color value matrices) will be processed from datasetT using the first two indices in trainSampler. This means that there will be two sets of three 32x32 matrices, which reflects the nature that the entire dimensions of the X is technically 50000x3x32x32 (or if our batch size is say 100, 100x3x32x32 for each batch)"
      ],
      "metadata": {
        "id": "UNgb9VJ2_lxS"
      }
    },
    {
      "cell_type": "code",
      "source": [
        "batchSize = 100\n",
        "\n",
        "# TRAIN SET\n",
        "\n",
        "# training sampler and data loader - creates a SubsetRandomSampler object that takes random samples of the numbers in trainIndices, or random indices.\n",
        "trainSampler = SubsetRandomSampler(trainIndices)\n",
        "\n",
        "\n",
        "# training loader - creates a dataloader object which takes the indices from trainSampler, \n",
        "# and when given batchSize, takes random batches of batchSize from the indices list, and then pairs it with\n",
        "# the respective dataset in datasetT\n",
        "trainLoader = DataLoader(datasetT, batchSize, sampler=trainSampler)\n",
        "\n",
        "print(list(trainLoader))\n",
        "\n",
        "# VALIDATION SET\n",
        "\n",
        "valSampler = SubsetRandomSampler(valIndices)\n",
        "valLoader = DataLoader(datasetT, batchSize, sampler=valSampler)"
      ],
      "metadata": {
        "colab": {
          "base_uri": "https://localhost:8080/"
        },
        "id": "ZSA_GNah_eKj",
        "outputId": "68c89a60-d6be-4c70-eecd-3b50926608f0"
      },
      "execution_count": 24,
      "outputs": [
        {
          "output_type": "stream",
          "name": "stderr",
          "text": [
            "IOPub data rate exceeded.\n",
            "The notebook server will temporarily stop sending output\n",
            "to the client in order to avoid crashing it.\n",
            "To change this limit, set the config variable\n",
            "`--NotebookApp.iopub_data_rate_limit`.\n",
            "\n",
            "Current values:\n",
            "NotebookApp.iopub_data_rate_limit=1000000.0 (bytes/sec)\n",
            "NotebookApp.rate_limit_window=3.0 (secs)\n",
            "\n"
          ]
        }
      ]
    },
    {
      "cell_type": "markdown",
      "source": [
        "# Convert to correct shape"
      ],
      "metadata": {
        "id": "4m9pY7r0Adq6"
      }
    },
    {
      "cell_type": "code",
      "source": [
        "import torch.nn as nn\n",
        "\n",
        "# this will dictate the rows of the theta matrix\n",
        "inputSize = 3*32*32\n",
        "\n",
        "# this will dictate the columns of the theta matrix\n",
        "numClasses = 10\n",
        "\n",
        "# create our linear regression model (nn.Linear creates bias terms for us)\n",
        "model = nn.Linear(inputSize, numClasses)"
      ],
      "metadata": {
        "id": "-CzicAYnAcVb"
      },
      "execution_count": 25,
      "outputs": []
    },
    {
      "cell_type": "code",
      "source": [
        "class CIFAR10(nn.Module):\n",
        "    def __init__(self):\n",
        "        super().__init__()\n",
        "        self.linear = nn.Linear(inputSize, numClasses)\n",
        "        \n",
        "    def forward(self, xb):\n",
        "        xb = xb.reshape(-1, 3072)\n",
        "        out = self.linear(xb)\n",
        "        return out\n",
        "    \n",
        "model = CIFAR10()"
      ],
      "metadata": {
        "id": "ylMjOlLwAGqZ"
      },
      "execution_count": 26,
      "outputs": []
    },
    {
      "cell_type": "code",
      "source": [
        "#check the shape\n",
        "print(model.linear.weight.shape)\n",
        "print(model.linear.bias.shape)"
      ],
      "metadata": {
        "colab": {
          "base_uri": "https://localhost:8080/"
        },
        "id": "yoOt0Ov0s10h",
        "outputId": "1a8d4020-eced-4a58-9753-c5d46d56727a"
      },
      "execution_count": 30,
      "outputs": [
        {
          "output_type": "stream",
          "name": "stdout",
          "text": [
            "torch.Size([10, 3072])\n",
            "torch.Size([10])\n"
          ]
        }
      ]
    },
    {
      "cell_type": "code",
      "source": [
        "for images, labels in trainLoader:\n",
        "  outputs = model(images)\n",
        "  break\n",
        "\n",
        "print('outputs.shape :', outputs.shape)\n",
        "\n",
        "print('sample outputs :\\n', outputs[:2]) # print 2 out of the 100 rows of the total output vector"
      ],
      "metadata": {
        "colab": {
          "base_uri": "https://localhost:8080/"
        },
        "id": "ygMHC7Vus-UX",
        "outputId": "46648b36-ada7-4b48-e32f-5b14bcdd1349"
      },
      "execution_count": 31,
      "outputs": [
        {
          "output_type": "stream",
          "name": "stdout",
          "text": [
            "outputs.shape : torch.Size([100, 10])\n",
            "sample outputs :\n",
            " tensor([[-0.2107,  0.0328, -0.1374, -0.2890,  0.2296, -0.1016,  0.2487, -0.1453,\n",
            "         -0.1417,  0.5365],\n",
            "        [ 0.0566, -0.5749,  0.0190, -0.7939,  0.3332,  0.0216, -0.1197, -0.1276,\n",
            "         -0.1144,  0.4933]], grad_fn=<SliceBackward0>)\n"
          ]
        }
      ]
    },
    {
      "cell_type": "code",
      "source": [
        "#torch.nn.functional is an internal layer which can be connected to other layers \n",
        "import torch.nn.functional as F"
      ],
      "metadata": {
        "id": "hkSx67eStEbG"
      },
      "execution_count": 32,
      "outputs": []
    },
    {
      "cell_type": "code",
      "source": [
        "#specify the dimensiont hat SoftMax will be applied to\n",
        "# apply the softmax for each output row in our 100 x 10 output (with batch size 100)\n",
        "probs = F.softmax(outputs, dim=1)\n",
        "\n",
        "# look at some sample probabilities\n",
        "print(\"sample probabilities:\\n\", probs[:2].data)\n",
        "# add up the probabilities of each row for a sanity check that they equal 1 now\n",
        "print(sum(list(probs[0])))"
      ],
      "metadata": {
        "colab": {
          "base_uri": "https://localhost:8080/"
        },
        "id": "4p-Ix1T1twIf",
        "outputId": "8a7fe39b-50c0-442c-c9b2-15e5707381d1"
      },
      "execution_count": 34,
      "outputs": [
        {
          "output_type": "stream",
          "name": "stdout",
          "text": [
            "sample probabilities:\n",
            " tensor([[0.0783, 0.0998, 0.0842, 0.0724, 0.1215, 0.0873, 0.1239, 0.0835, 0.0839,\n",
            "         0.1652],\n",
            "        [0.1079, 0.0574, 0.1039, 0.0461, 0.1423, 0.1042, 0.0905, 0.0898, 0.0910,\n",
            "         0.1670]])\n",
            "tensor(1., grad_fn=<AddBackward0>)\n"
          ]
        }
      ]
    },
    {
      "cell_type": "code",
      "source": [
        "maxProbs, preds = torch.max(probs, dim=1) #torch.max returns the max value itself (maxProbs) as well as the index of the prediction (preds)\n",
        "print(preds)\n",
        "print(maxProbs)"
      ],
      "metadata": {
        "colab": {
          "base_uri": "https://localhost:8080/"
        },
        "id": "AtPLjEVBt6vD",
        "outputId": "098b4ddc-c20f-4da4-b2d7-6ffe59d869e4"
      },
      "execution_count": 35,
      "outputs": [
        {
          "output_type": "stream",
          "name": "stdout",
          "text": [
            "tensor([9, 9, 9, 9, 9, 9, 9, 9, 4, 9, 9, 9, 9, 9, 0, 9, 9, 9, 9, 9, 9, 9, 4, 9,\n",
            "        9, 9, 9, 9, 9, 9, 4, 9, 9, 4, 2, 9, 9, 9, 9, 9, 9, 0, 9, 9, 2, 9, 9, 9,\n",
            "        2, 9, 9, 9, 9, 9, 9, 9, 2, 9, 9, 2, 9, 9, 0, 9, 9, 9, 9, 9, 9, 9, 9, 4,\n",
            "        9, 9, 9, 9, 9, 9, 9, 9, 4, 9, 9, 9, 4, 9, 9, 9, 9, 9, 9, 9, 9, 9, 9, 9,\n",
            "        9, 0, 9, 9])\n",
            "tensor([0.1652, 0.1670, 0.1490, 0.1799, 0.1379, 0.1677, 0.1265, 0.1574, 0.1544,\n",
            "        0.1828, 0.1427, 0.1486, 0.1614, 0.1488, 0.1446, 0.1389, 0.1314, 0.1949,\n",
            "        0.1402, 0.1532, 0.2052, 0.1562, 0.1336, 0.1603, 0.1501, 0.1399, 0.1445,\n",
            "        0.1277, 0.1483, 0.1703, 0.1638, 0.1768, 0.1523, 0.1528, 0.1347, 0.1809,\n",
            "        0.1849, 0.1720, 0.1425, 0.1958, 0.1276, 0.1475, 0.1867, 0.1735, 0.1346,\n",
            "        0.1469, 0.1590, 0.1785, 0.1355, 0.2063, 0.1371, 0.1782, 0.1555, 0.1531,\n",
            "        0.1663, 0.1629, 0.1310, 0.1404, 0.1697, 0.1170, 0.1535, 0.1652, 0.1452,\n",
            "        0.1641, 0.1578, 0.1387, 0.1519, 0.1677, 0.1549, 0.1421, 0.1628, 0.1402,\n",
            "        0.2203, 0.1344, 0.1791, 0.1257, 0.1342, 0.1372, 0.1423, 0.1443, 0.1445,\n",
            "        0.1479, 0.1625, 0.1634, 0.1444, 0.1454, 0.1441, 0.1548, 0.1269, 0.1351,\n",
            "        0.1463, 0.1484, 0.1554, 0.1259, 0.1519, 0.1514, 0.1523, 0.1588, 0.1304,\n",
            "        0.1541], grad_fn=<MaxBackward0>)\n"
          ]
        }
      ]
    },
    {
      "cell_type": "markdown",
      "source": [
        "# Evaluation and Cost function"
      ],
      "metadata": {
        "id": "QdN8LYmnuDXN"
      }
    },
    {
      "cell_type": "code",
      "source": [
        "labels==preds"
      ],
      "metadata": {
        "colab": {
          "base_uri": "https://localhost:8080/"
        },
        "id": "Q4wdL-0GuAGl",
        "outputId": "8f74d1e5-926d-42da-ab28-d9680a28daff"
      },
      "execution_count": 36,
      "outputs": [
        {
          "output_type": "execute_result",
          "data": {
            "text/plain": [
              "tensor([False, False, False, False, False, False, False,  True, False, False,\n",
              "        False, False, False,  True, False,  True, False, False, False, False,\n",
              "        False, False, False, False, False, False, False, False, False, False,\n",
              "        False,  True, False, False, False,  True, False, False, False, False,\n",
              "        False, False, False, False, False, False, False, False, False, False,\n",
              "        False, False, False,  True,  True, False, False, False, False, False,\n",
              "        False, False, False,  True,  True, False, False, False, False, False,\n",
              "        False, False, False, False, False,  True, False,  True, False, False,\n",
              "        False, False, False, False, False, False, False, False, False, False,\n",
              "        False, False, False, False, False, False, False, False, False, False])"
            ]
          },
          "metadata": {},
          "execution_count": 36
        }
      ]
    },
    {
      "cell_type": "code",
      "source": [
        "\n",
        "def accuracy(preds, labels):\n",
        "  return torch.sum(labels==preds).item() / len(labels)"
      ],
      "metadata": {
        "id": "z3S3fA0ruHl2"
      },
      "execution_count": 37,
      "outputs": []
    },
    {
      "cell_type": "code",
      "source": [
        "#use stochastic gradient descent to update our algorithm. Choose a slightly larger learningRate, a hyperparameter, than last time.\n",
        "learningRate = 0.001\n",
        "optimizer = torch.optim.SGD(model.parameters(), lr=learningRate)"
      ],
      "metadata": {
        "id": "wlLBkt0DuNTn"
      },
      "execution_count": 39,
      "outputs": []
    },
    {
      "cell_type": "markdown",
      "source": [
        "# Training the model"
      ],
      "metadata": {
        "id": "U_tn9yAaucEi"
      }
    },
    {
      "cell_type": "code",
      "source": [
        "# recall that xb is the X (a list batchSize long of 3x32x32 images) for a batch. yb is the corresponding labels for those images.\n",
        "\n",
        "def lossBatch(model, lossFn, xb, yb, opt=None, metric=None):\n",
        "  # calculate the loss\n",
        "  preds = model(xb)\n",
        "  loss = lossFn(preds, yb)\n",
        "\n",
        "  if opt is not None:\n",
        "    # compute gradients\n",
        "    loss.backward()\n",
        "    # update parameters\n",
        "    opt.step()\n",
        "    # reset gradients to 0 (don't want to calculate second derivatives!)\n",
        "    opt.zero_grad()\n",
        "\n",
        "  metricResult = None\n",
        "  if metric is not None:\n",
        "    metricResult = metric(preds, yb)\n",
        "\n",
        "  return loss.item(), len(xb),  metricResult"
      ],
      "metadata": {
        "id": "gLeicXKkuZmq"
      },
      "execution_count": 40,
      "outputs": []
    },
    {
      "cell_type": "code",
      "source": [
        "def evaluate(model, lossFn, validDL, metric=None):\n",
        "  #with torch.no_grad (this was causing an error)\n",
        "  \n",
        "  # pass each batch of the validation set through the model to form a multidimensional list (holding loss, length and metric for each batch)\n",
        "  # the reason why we made optimization optional is so we can reuse the function here\n",
        "  results = [lossBatch(model, lossFn, xb, yb, metric=metric,) for xb,yb in validDL]\n",
        "\n",
        "  # separate losses, counts and metrics\n",
        "  losses, nums, metrics = zip(*results)\n",
        "\n",
        "  # total size of the dataset (we keep track of lengths of batches since dataset might not be perfectly divisible by batch size)\n",
        "  total = np.sum(nums)\n",
        "\n",
        "  # find average total loss over all batches in validation (remember these are all vectors doing element wise operations.)\n",
        "  avgLoss = np.sum(np.multiply(losses, nums))/total\n",
        "\n",
        "  # if there is a metric passed, compute the average metric\n",
        "  if metric is not None:\n",
        "    # avg of metric accross batches\n",
        "    avgMetric = np.sum(np.multiply(metrics, nums)) / total\n",
        "\n",
        "  return avgLoss, total, avgMetric"
      ],
      "metadata": {
        "id": "Ii05Q6H5uhwa"
      },
      "execution_count": 44,
      "outputs": []
    },
    {
      "cell_type": "code",
      "source": [
        "def accuracy(outputs, labels):\n",
        "  _, preds = torch.max(outputs, dim=1) # underscore discards the max value itself, we don't care about that\n",
        "  return torch.sum(preds == labels).item() / len(preds)"
      ],
      "metadata": {
        "id": "eKzZn9IhuoQm"
      },
      "execution_count": 42,
      "outputs": []
    },
    {
      "cell_type": "code",
      "source": [
        "E = evaluate(model, lossFn, valLoader, metric=accuracy)\n",
        "\n",
        "print(\"training set loss: \", loss)\n",
        "print(\"cross validation set loss: \", E[0])"
      ],
      "metadata": {
        "colab": {
          "base_uri": "https://localhost:8080/",
          "height": 217
        },
        "id": "GLhPFy4fuq1s",
        "outputId": "89339457-0ba1-4a02-faf0-21725f872e50"
      },
      "execution_count": 45,
      "outputs": [
        {
          "output_type": "error",
          "ename": "NameError",
          "evalue": "ignored",
          "traceback": [
            "\u001b[0;31m---------------------------------------------------------------------------\u001b[0m",
            "\u001b[0;31mNameError\u001b[0m                                 Traceback (most recent call last)",
            "\u001b[0;32m<ipython-input-45-844ea283c264>\u001b[0m in \u001b[0;36m<module>\u001b[0;34m()\u001b[0m\n\u001b[0;32m----> 1\u001b[0;31m \u001b[0mE\u001b[0m \u001b[0;34m=\u001b[0m \u001b[0mevaluate\u001b[0m\u001b[0;34m(\u001b[0m\u001b[0mmodel\u001b[0m\u001b[0;34m,\u001b[0m \u001b[0mlossFn\u001b[0m\u001b[0;34m,\u001b[0m \u001b[0mvalLoader\u001b[0m\u001b[0;34m,\u001b[0m \u001b[0mmetric\u001b[0m\u001b[0;34m=\u001b[0m\u001b[0maccuracy\u001b[0m\u001b[0;34m)\u001b[0m\u001b[0;34m\u001b[0m\u001b[0;34m\u001b[0m\u001b[0m\n\u001b[0m\u001b[1;32m      2\u001b[0m \u001b[0;34m\u001b[0m\u001b[0m\n\u001b[1;32m      3\u001b[0m \u001b[0mprint\u001b[0m\u001b[0;34m(\u001b[0m\u001b[0;34m\"training set loss: \"\u001b[0m\u001b[0;34m,\u001b[0m \u001b[0mloss\u001b[0m\u001b[0;34m)\u001b[0m\u001b[0;34m\u001b[0m\u001b[0;34m\u001b[0m\u001b[0m\n\u001b[1;32m      4\u001b[0m \u001b[0mprint\u001b[0m\u001b[0;34m(\u001b[0m\u001b[0;34m\"cross validation set loss: \"\u001b[0m\u001b[0;34m,\u001b[0m \u001b[0mE\u001b[0m\u001b[0;34m[\u001b[0m\u001b[0;36m0\u001b[0m\u001b[0;34m]\u001b[0m\u001b[0;34m)\u001b[0m\u001b[0;34m\u001b[0m\u001b[0;34m\u001b[0m\u001b[0m\n",
            "\u001b[0;31mNameError\u001b[0m: name 'lossFn' is not defined"
          ]
        }
      ]
    },
    {
      "cell_type": "markdown",
      "source": [
        "Recap\n",
        "\n",
        "First, we load our CIFAR-10 dataset.\n",
        "\n",
        "Then, we upload images in batches of 100 at a time.\n",
        "\n",
        "Then, we convert our images into 3x32x32 tensors. This makes our batch matrix 100 x 3 x 32 x 32 in dimensions.\n",
        "\n",
        "Then, we pass each batch into the CIFAR10 model, which converts the tensors from 100 x 3 x 32 x 32 to 100 x 3072.\n",
        "\n",
        "Then, we multiply it by the weights matrix, which is [10 x 3072], which is transposed to be multiplied by each tensor batch\n",
        "This multiplication gives a 100 x 10 results matrix, with logits, and we add the bias.\n",
        "\n",
        "Then, softmax is applied on the logits to convert them into probabilities.\n",
        "\n",
        "Then, cross entropy is performed on the probabilites matrix to give a continuous and differentiable cost function.\n",
        "\n",
        "Then, cross entropy from all the different batches is combined to give a total training loss.\n",
        "\n",
        "Then we calculate the partial derivatives of this cross entropy function with respect to every one of the 10x3072 weights and biases.\n",
        "\n",
        "Then, we subtract the gradient (the vector of all 10x3072 partial derivatives) from the vector of current thetas, for each batch. (so, youre subtracting from theta 100 times).\n",
        "\n",
        "We do step 11 for each number of epochs."
      ],
      "metadata": {
        "id": "mR11A05bu5oo"
      }
    },
    {
      "cell_type": "code",
      "source": [
        "# redefine model and optimizer\n",
        "learningRate = 0.009\n",
        "model = CIFAR10()\n",
        "optimizer = torch.optim.SGD(model.parameters(), lr=learningRate)"
      ],
      "metadata": {
        "id": "5YdnRpEGu9Rd"
      },
      "execution_count": 46,
      "outputs": []
    },
    {
      "cell_type": "code",
      "source": [
        "trainList = fit(100, model, lossFn, optimizer, trainLoader, valLoader, metric=accuracy)"
      ],
      "metadata": {
        "colab": {
          "base_uri": "https://localhost:8080/",
          "height": 165
        },
        "id": "3sBQOWhfu_5t",
        "outputId": "90501738-dcda-4723-87c4-78099082bf2d"
      },
      "execution_count": 47,
      "outputs": [
        {
          "output_type": "error",
          "ename": "NameError",
          "evalue": "ignored",
          "traceback": [
            "\u001b[0;31m---------------------------------------------------------------------------\u001b[0m",
            "\u001b[0;31mNameError\u001b[0m                                 Traceback (most recent call last)",
            "\u001b[0;32m<ipython-input-47-c1806700501b>\u001b[0m in \u001b[0;36m<module>\u001b[0;34m()\u001b[0m\n\u001b[0;32m----> 1\u001b[0;31m \u001b[0mtrainList\u001b[0m \u001b[0;34m=\u001b[0m \u001b[0mfit\u001b[0m\u001b[0;34m(\u001b[0m\u001b[0;36m100\u001b[0m\u001b[0;34m,\u001b[0m \u001b[0mmodel\u001b[0m\u001b[0;34m,\u001b[0m \u001b[0mlossFn\u001b[0m\u001b[0;34m,\u001b[0m \u001b[0moptimizer\u001b[0m\u001b[0;34m,\u001b[0m \u001b[0mtrainLoader\u001b[0m\u001b[0;34m,\u001b[0m \u001b[0mvalLoader\u001b[0m\u001b[0;34m,\u001b[0m \u001b[0mmetric\u001b[0m\u001b[0;34m=\u001b[0m\u001b[0maccuracy\u001b[0m\u001b[0;34m)\u001b[0m\u001b[0;34m\u001b[0m\u001b[0;34m\u001b[0m\u001b[0m\n\u001b[0m",
            "\u001b[0;31mNameError\u001b[0m: name 'fit' is not defined"
          ]
        }
      ]
    },
    {
      "cell_type": "code",
      "source": [
        "test = torchvision.datasets.CIFAR10(root='./data', train=False, download=True, transform=torchvision.transforms.ToTensor())"
      ],
      "metadata": {
        "colab": {
          "base_uri": "https://localhost:8080/"
        },
        "id": "o7okwDCovUP5",
        "outputId": "6d2ea41c-35eb-4919-9f8d-df972316abbc"
      },
      "execution_count": 48,
      "outputs": [
        {
          "output_type": "stream",
          "name": "stdout",
          "text": [
            "Files already downloaded and verified\n"
          ]
        }
      ]
    },
    {
      "cell_type": "code",
      "source": [
        "testLoader = DataLoader(test, batchSize)"
      ],
      "metadata": {
        "id": "jAVSDKSsvXtd"
      },
      "execution_count": 49,
      "outputs": []
    },
    {
      "cell_type": "code",
      "source": [
        "avgLoss, total, avgMetric = evaluate(model, F.cross_entropy, testLoader, metric=accuracy)\n",
        "print(\"test set accuracy: \\n\", avgMetric)\n",
        "avgLoss, total, avgMetric = evaluate(model, F.cross_entropy, valLoader, metric=accuracy)\n",
        "print(\"cross validation set accuracy: \\n\",avgMetric)\n",
        "avgLoss, total, avgMetric = evaluate(model, F.cross_entropy, trainLoader, metric=accuracy)\n",
        "print(\"training set accuracy: \\n\",avgMetric)"
      ],
      "metadata": {
        "colab": {
          "base_uri": "https://localhost:8080/"
        },
        "id": "44qC9dP5vaE2",
        "outputId": "ec2b8521-b41f-4134-c4bf-a41d09bfb68d"
      },
      "execution_count": 50,
      "outputs": [
        {
          "output_type": "stream",
          "name": "stdout",
          "text": [
            "test set accuracy: \n",
            " 0.0705\n",
            "cross validation set accuracy: \n",
            " 0.0707\n",
            "training set accuracy: \n",
            " 0.0691\n"
          ]
        }
      ]
    }
  ]
}